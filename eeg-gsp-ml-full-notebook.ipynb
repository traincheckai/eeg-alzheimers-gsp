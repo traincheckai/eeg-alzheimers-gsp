{
 "cells": [
  {
   "cell_type": "markdown",
   "id": "65dd3d95-ae1b-4c5e-a27c-cc64392d1a7a",
   "metadata": {},
   "source": [
    "# Detection of Alzheimer's Disease Using Graph Signal Processing of EEG Recordings\n"
   ]
  },
  {
   "cell_type": "markdown",
   "id": "7feb5470-a53f-4426-a2eb-0d2b97fd28b6",
   "metadata": {},
   "source": [
    "## Data\n",
    "\n",
    "Link here: https://openneuro.org/datasets/ds004504/versions/1.0.6\n",
    "\n",
    "### Participants:\n",
    "- **Total subjects: 88**\n",
    "  - **Alzheimer's disease (AD group): 36**\n",
    "    - Average MMSE: 17.75 (sd=4.5)\n",
    "    - Mean age: 66.4 (sd=7.9)\n",
    "    - Median disease duration: 25 months, IQR: 24 - 28.5\n",
    "  - **Frontotemporal Dementia (FTD group): 23**\n",
    "    - Average MMSE: 22.17 (sd=8.22)\n",
    "    - Mean age: 63.6 (sd=8.2)\n",
    "  - **Healthy subjects (CN group): 29**\n",
    "    - Average MMSE: 30\n",
    "    - Mean age: 67.9 (sd=5.4)\n",
    "- **MMSE score ranges:** 0 to 30 (lower scores indicate more severe decline)\n",
    "\n",
    "### Recordings:\n",
    "- **Location:** 2nd Department of Neurology of AHEPA General Hospital, Thessaloniki\n",
    "- **Device:** Nihon Kohden EEG 2100 clinical device, 19 scalp electrodes, 2 reference electrodes\n",
    "- **Parameters:** 500 Hz sampling rate, 10uV/mm resolution, sensitivity 10uV/mm, time constant 0.3s, high-frequency filter at 70 Hz\n",
    "- **Duration:** \n",
    "  - AD group: 13.5 minutes (min=5.1, max=21.3)\n",
    "  - FTD group: 12 minutes (min=7.9, max=16.9)\n",
    "  - CN group: 13.8 minutes (min=12.5, max=16.5)\n",
    "- **Total recordings:**\n",
    "  - AD: 485.5 minutes\n",
    "  - FTD: 276.5 minutes\n",
    "  - CN: 402 minutes\n",
    "\n",
    "### Preprocessing:\n",
    "- **Exported to:** .eeg format, transformed to BIDS accepted .set format\n",
    "- **Unprocessed recordings in folders named:** sub-0XX\n",
    "- **Preprocessed and denoised recordings in sub-0XX within subfolder derivatives**\n",
    "- **Preprocessing pipeline:**\n",
    "  - Butterworth band-pass filter 0.5-45 Hz\n",
    "  - Re-referenced to A1-A2\n",
    "  - Artifact Subspace Reconstruction (ASR) applied\n",
    "  - Independent Component Analysis (ICA) method performed, transformed to 19 ICA components\n",
    "  - Eye and jaw artifacts automatically rejected\n",
    "- **Automatic annotations of artifacts not included for language compatibility**\n",
    "- **Preprocessed dataset available in Folder:** derivatives\n",
    "\n",
    "## Methodology\n",
    "\n",
    "Same as in [Detection of Epilepsy Using Graph Signal Processing of EEG Signals with Three Features](https://link.springer.com/chapter/10.1007/978-981-19-1520-8_46)\n"
   ]
  },
  {
   "cell_type": "markdown",
   "id": "9197c795-6c35-469d-a775-954ab415c3a9",
   "metadata": {},
   "source": [
    "## GSP Processing"
   ]
  },
  {
   "cell_type": "code",
   "execution_count": null,
   "id": "898bf272-d2da-457e-bb03-ca5c60841311",
   "metadata": {},
   "outputs": [],
   "source": [
    "import pandas as pd\n",
    "import numpy as np\n",
    "import mne\n",
    "import os\n",
    "from pygsp import graphs, utils\n",
    "from scipy.spatial import distance_matrix\n",
    "from scipy.stats import entropy\n",
    "import networkx as nx\n",
    "from sklearn.cluster import spectral_clustering\n",
    "\n",
    "def compute_total_variation(W, data_values):\n",
    "    N = data_values.shape[0]\n",
    "    TV = 0\n",
    "    for i in range(N):\n",
    "        for j in range(N):\n",
    "            wij = W[i, j]\n",
    "            difference = data_values[j] - data_values[i]\n",
    "            TV += wij * np.linalg.norm(difference)**2\n",
    "    return np.sqrt(TV)\n",
    "\n",
    "dir_path = 'C:\\\\Users\\\\Windows\\\\Desktop\\\\EEG\\\\data\\\\derivatives\\\\'\n",
    "file_list = [entry.path for entry in os.scandir(dir_path) if entry.is_file() and entry.path.endswith(\".set\")]\n",
    "\n",
    "n_files = len(file_list)\n",
    "if n_files == 0:\n",
    "    raise ValueError(f\"No .set files found in directory {dir_path}.\")\n",
    "\n",
    "print(f'Found {n_files} .set files.')\n",
    "\n",
    "channel_names = ['Fp1', 'Fp2', 'F3', 'F4', 'C3', 'C4', 'P3', 'P4', 'O1', 'O2', 'F7', 'F8', 'T3', 'T4', 'T5', 'T6', 'Fz', 'Cz', 'Pz']\n",
    "\n",
    "data_list = []\n",
    "features = {}\n",
    "\n",
    "for i, file in enumerate(file_list):\n",
    "    raw = mne.io.read_raw_eeglab(file)\n",
    "    data = raw.get_data(picks=channel_names)\n",
    "    transposed_data = np.transpose(data)\n",
    "    data = pd.DataFrame(transposed_data, columns=channel_names)\n",
    "    data = data.groupby(data.index // 50).median()\n",
    "    data_list.append(data)\n",
    "\n",
    "    # GSP analysis\n",
    "    distances = distance_matrix(data.values, data.values)\n",
    "    theta, k = 1.0, 1.0 \n",
    "    W = np.exp(-distances**2 / theta**2)\n",
    "    W[distances > k] = 0\n",
    "    np.fill_diagonal(W, 0)\n",
    "    G = graphs.Graph(W)\n",
    "    L = G.L.toarray()\n",
    "    eigenvalues, eigenvectors = np.linalg.eigh(L)\n",
    "    X_GdataT = eigenvectors.T @ data.values\n",
    "    C = np.cov(X_GdataT)\n",
    "    T = eigenvectors.T.conj() @ C @ eigenvectors\n",
    "    r = np.linalg.norm(np.diag(T)) / np.linalg.norm(T, 'fro')\n",
    "    P = L @ data.values\n",
    "    Y = np.sum(data.values * P)**2\n",
    "    TV = compute_total_variation(W, data.values)\n",
    "\n",
    "    # Spectral Graph Features\n",
    "    graph_energy = np.sum(np.abs(eigenvalues))\n",
    "    spectral_entropy = entropy(np.square(eigenvectors))\n",
    "\n",
    "    # Graph Signal Features\n",
    "    signal_energy = np.sum(np.square(data.values))\n",
    "    signal_power = np.var(data.values)\n",
    "\n",
    "    # Graph Modularity and Community Structure\n",
    "    labels = spectral_clustering(W)\n",
    "    unique_labels = len(np.unique(labels))\n",
    "\n",
    "    # Graph Degree Distribution\n",
    "    degree_distribution = np.sum(W, axis=0)\n",
    "\n",
    "    # Graph Diffusion Characteristics\n",
    "    heat_trace = np.trace(np.exp(-L))\n",
    "    diffusion_distance = np.sum(np.exp(-L))\n",
    "\n",
    "    # Aggregating Features\n",
    "    features[os.path.basename(file)] = {\n",
    "        'stationary_ratio': r, \n",
    "        'Tik-norm': Y, \n",
    "        'Total_Variation': TV,\n",
    "        'graph_energy': graph_energy,\n",
    "        'spectral_entropy': spectral_entropy,\n",
    "        'signal_energy': signal_energy,\n",
    "        'signal_power': signal_power,\n",
    "        'unique_clusters': unique_labels,\n",
    "        'avg_degree': np.mean(degree_distribution),\n",
    "        'heat_trace': heat_trace,\n",
    "        'diffusion_distance': diffusion_distance\n",
    "    }\n",
    "\n",
    "features_data = pd.DataFrame(features).T\n",
    "features_data.to_csv('features_tv.csv', index_label='participant_id')"
   ]
  },
  {
   "cell_type": "markdown",
   "id": "d814ca07-266b-430e-9d61-3eb7d8b71760",
   "metadata": {},
   "source": [
    "## Processing "
   ]
  },
  {
   "cell_type": "code",
   "execution_count": 1,
   "id": "eb51153b-82a9-4f0b-a2f0-7ea2f2e4692d",
   "metadata": {},
   "outputs": [],
   "source": [
    "import pandas as pd\n",
    "import numpy as np\n",
    "\n",
    "features = pd.read_csv(\"features_tv.csv\", )\n",
    "participants = pd.read_csv(\"participants.tsv\", delimiter='\\t')"
   ]
  },
  {
   "cell_type": "code",
   "execution_count": 2,
   "id": "afdad179-5f7b-4eca-97e9-d8544a7f153f",
   "metadata": {},
   "outputs": [
    {
     "data": {
      "text/html": [
       "<div>\n",
       "<style scoped>\n",
       "    .dataframe tbody tr th:only-of-type {\n",
       "        vertical-align: middle;\n",
       "    }\n",
       "\n",
       "    .dataframe tbody tr th {\n",
       "        vertical-align: top;\n",
       "    }\n",
       "\n",
       "    .dataframe thead th {\n",
       "        text-align: right;\n",
       "    }\n",
       "</style>\n",
       "<table border=\"1\" class=\"dataframe\">\n",
       "  <thead>\n",
       "    <tr style=\"text-align: right;\">\n",
       "      <th></th>\n",
       "      <th>participant_id_x</th>\n",
       "      <th>stationary_ratio</th>\n",
       "      <th>Tik-norm</th>\n",
       "      <th>Total_Variation</th>\n",
       "      <th>graph_energy</th>\n",
       "      <th>spectral_entropy</th>\n",
       "      <th>signal_energy</th>\n",
       "      <th>signal_power</th>\n",
       "      <th>unique_clusters</th>\n",
       "      <th>avg_degree</th>\n",
       "      <th>heat_trace</th>\n",
       "      <th>diffusion_distance</th>\n",
       "      <th>participant_id_y</th>\n",
       "      <th>Gender</th>\n",
       "      <th>Age</th>\n",
       "      <th>Group</th>\n",
       "      <th>MMSE</th>\n",
       "    </tr>\n",
       "  </thead>\n",
       "  <tbody>\n",
       "    <tr>\n",
       "      <th>0</th>\n",
       "      <td>sub-001_task-eyesclosed_eeg.set</td>\n",
       "      <td>0.036979</td>\n",
       "      <td>0.417136</td>\n",
       "      <td>1.136539</td>\n",
       "      <td>3.597000e+07</td>\n",
       "      <td>[8.69918136e+00 5.50501943e-03 1.45696982e-02 ...</td>\n",
       "      <td>0.000108</td>\n",
       "      <td>9.448716e-10</td>\n",
       "      <td>8</td>\n",
       "      <td>5996.999785</td>\n",
       "      <td>0.0</td>\n",
       "      <td>9.777661e+07</td>\n",
       "      <td>sub-001</td>\n",
       "      <td>F</td>\n",
       "      <td>57</td>\n",
       "      <td>A</td>\n",
       "      <td>16</td>\n",
       "    </tr>\n",
       "    <tr>\n",
       "      <th>1</th>\n",
       "      <td>sub-002_task-eyesclosed_eeg.set</td>\n",
       "      <td>0.036099</td>\n",
       "      <td>1.152527</td>\n",
       "      <td>1.465304</td>\n",
       "      <td>6.289283e+07</td>\n",
       "      <td>[8.97853441e+00 3.64379040e-03 4.27435644e-03 ...</td>\n",
       "      <td>0.000135</td>\n",
       "      <td>8.982981e-10</td>\n",
       "      <td>8</td>\n",
       "      <td>7929.999729</td>\n",
       "      <td>0.0</td>\n",
       "      <td>1.709604e+08</td>\n",
       "      <td>sub-002</td>\n",
       "      <td>F</td>\n",
       "      <td>78</td>\n",
       "      <td>A</td>\n",
       "      <td>22</td>\n",
       "    </tr>\n",
       "    <tr>\n",
       "      <th>2</th>\n",
       "      <td>sub-003_task-eyesclosed_eeg.set</td>\n",
       "      <td>0.048939</td>\n",
       "      <td>0.017792</td>\n",
       "      <td>0.516504</td>\n",
       "      <td>9.366660e+06</td>\n",
       "      <td>[8.02649694 0.00840577 0.01185841 ... 0.607647...</td>\n",
       "      <td>0.000044</td>\n",
       "      <td>7.492876e-10</td>\n",
       "      <td>8</td>\n",
       "      <td>3059.999913</td>\n",
       "      <td>0.0</td>\n",
       "      <td>2.546122e+07</td>\n",
       "      <td>sub-003</td>\n",
       "      <td>M</td>\n",
       "      <td>70</td>\n",
       "      <td>A</td>\n",
       "      <td>14</td>\n",
       "    </tr>\n",
       "    <tr>\n",
       "      <th>3</th>\n",
       "      <td>sub-004_task-eyesclosed_eeg.set</td>\n",
       "      <td>0.038817</td>\n",
       "      <td>0.961691</td>\n",
       "      <td>1.400470</td>\n",
       "      <td>4.985066e+07</td>\n",
       "      <td>[8.86234196e+00 4.70419601e-03 7.24164626e-03 ...</td>\n",
       "      <td>0.000139</td>\n",
       "      <td>1.035222e-09</td>\n",
       "      <td>8</td>\n",
       "      <td>7059.999722</td>\n",
       "      <td>0.0</td>\n",
       "      <td>1.355081e+08</td>\n",
       "      <td>sub-004</td>\n",
       "      <td>F</td>\n",
       "      <td>67</td>\n",
       "      <td>A</td>\n",
       "      <td>20</td>\n",
       "    </tr>\n",
       "    <tr>\n",
       "      <th>4</th>\n",
       "      <td>sub-005_task-eyesclosed_eeg.set</td>\n",
       "      <td>0.056755</td>\n",
       "      <td>1.528484</td>\n",
       "      <td>1.572462</td>\n",
       "      <td>6.464964e+07</td>\n",
       "      <td>[8.99230873e+00 6.44453204e-03 6.73669735e-03 ...</td>\n",
       "      <td>0.000154</td>\n",
       "      <td>1.006423e-09</td>\n",
       "      <td>8</td>\n",
       "      <td>8039.999692</td>\n",
       "      <td>0.0</td>\n",
       "      <td>1.757359e+08</td>\n",
       "      <td>sub-005</td>\n",
       "      <td>M</td>\n",
       "      <td>70</td>\n",
       "      <td>A</td>\n",
       "      <td>22</td>\n",
       "    </tr>\n",
       "    <tr>\n",
       "      <th>...</th>\n",
       "      <td>...</td>\n",
       "      <td>...</td>\n",
       "      <td>...</td>\n",
       "      <td>...</td>\n",
       "      <td>...</td>\n",
       "      <td>...</td>\n",
       "      <td>...</td>\n",
       "      <td>...</td>\n",
       "      <td>...</td>\n",
       "      <td>...</td>\n",
       "      <td>...</td>\n",
       "      <td>...</td>\n",
       "      <td>...</td>\n",
       "      <td>...</td>\n",
       "      <td>...</td>\n",
       "      <td>...</td>\n",
       "      <td>...</td>\n",
       "    </tr>\n",
       "    <tr>\n",
       "      <th>83</th>\n",
       "      <td>sub-084_task-eyesclosed_eeg.set</td>\n",
       "      <td>0.037154</td>\n",
       "      <td>0.357461</td>\n",
       "      <td>1.093509</td>\n",
       "      <td>4.251692e+07</td>\n",
       "      <td>[8.78278302 0.01104814 0.01073822 ... 0.033289...</td>\n",
       "      <td>0.000092</td>\n",
       "      <td>7.400060e-10</td>\n",
       "      <td>8</td>\n",
       "      <td>6519.999817</td>\n",
       "      <td>0.0</td>\n",
       "      <td>1.155730e+08</td>\n",
       "      <td>sub-084</td>\n",
       "      <td>F</td>\n",
       "      <td>71</td>\n",
       "      <td>F</td>\n",
       "      <td>24</td>\n",
       "    </tr>\n",
       "    <tr>\n",
       "      <th>84</th>\n",
       "      <td>sub-085_task-eyesclosed_eeg.set</td>\n",
       "      <td>0.060937</td>\n",
       "      <td>0.431738</td>\n",
       "      <td>1.146357</td>\n",
       "      <td>3.136560e+07</td>\n",
       "      <td>[8.63070043e+00 3.92916197e-03 1.31690985e-02 ...</td>\n",
       "      <td>0.000117</td>\n",
       "      <td>1.102371e-09</td>\n",
       "      <td>8</td>\n",
       "      <td>5599.999765</td>\n",
       "      <td>0.0</td>\n",
       "      <td>8.526054e+07</td>\n",
       "      <td>sub-085</td>\n",
       "      <td>M</td>\n",
       "      <td>64</td>\n",
       "      <td>F</td>\n",
       "      <td>26</td>\n",
       "    </tr>\n",
       "    <tr>\n",
       "      <th>85</th>\n",
       "      <td>sub-086_task-eyesclosed_eeg.set</td>\n",
       "      <td>0.044006</td>\n",
       "      <td>6.253852</td>\n",
       "      <td>2.236412</td>\n",
       "      <td>3.349515e+07</td>\n",
       "      <td>[8.66354209e+00 5.38151592e-03 6.01591295e-03 ...</td>\n",
       "      <td>0.000434</td>\n",
       "      <td>3.944704e-09</td>\n",
       "      <td>8</td>\n",
       "      <td>5786.999136</td>\n",
       "      <td>0.0</td>\n",
       "      <td>9.104926e+07</td>\n",
       "      <td>sub-086</td>\n",
       "      <td>M</td>\n",
       "      <td>49</td>\n",
       "      <td>F</td>\n",
       "      <td>26</td>\n",
       "    </tr>\n",
       "    <tr>\n",
       "      <th>86</th>\n",
       "      <td>sub-087_task-eyesclosed_eeg.set</td>\n",
       "      <td>0.037769</td>\n",
       "      <td>0.503279</td>\n",
       "      <td>1.191152</td>\n",
       "      <td>3.633075e+07</td>\n",
       "      <td>[8.70417056e+00 4.52859990e-03 1.02856205e-02 ...</td>\n",
       "      <td>0.000118</td>\n",
       "      <td>1.027555e-09</td>\n",
       "      <td>8</td>\n",
       "      <td>6026.999765</td>\n",
       "      <td>0.0</td>\n",
       "      <td>9.875723e+07</td>\n",
       "      <td>sub-087</td>\n",
       "      <td>M</td>\n",
       "      <td>73</td>\n",
       "      <td>F</td>\n",
       "      <td>24</td>\n",
       "    </tr>\n",
       "    <tr>\n",
       "      <th>87</th>\n",
       "      <td>sub-088_task-eyesclosed_eeg.set</td>\n",
       "      <td>0.037272</td>\n",
       "      <td>1.189033</td>\n",
       "      <td>1.476772</td>\n",
       "      <td>6.156756e+07</td>\n",
       "      <td>[8.96788657e+00 4.24229221e-03 5.30800377e-03 ...</td>\n",
       "      <td>0.000139</td>\n",
       "      <td>9.320460e-10</td>\n",
       "      <td>8</td>\n",
       "      <td>7845.999722</td>\n",
       "      <td>0.0</td>\n",
       "      <td>1.673580e+08</td>\n",
       "      <td>sub-088</td>\n",
       "      <td>M</td>\n",
       "      <td>55</td>\n",
       "      <td>F</td>\n",
       "      <td>24</td>\n",
       "    </tr>\n",
       "  </tbody>\n",
       "</table>\n",
       "<p>88 rows × 17 columns</p>\n",
       "</div>"
      ],
      "text/plain": [
       "                   participant_id_x  stationary_ratio  Tik-norm  \\\n",
       "0   sub-001_task-eyesclosed_eeg.set          0.036979  0.417136   \n",
       "1   sub-002_task-eyesclosed_eeg.set          0.036099  1.152527   \n",
       "2   sub-003_task-eyesclosed_eeg.set          0.048939  0.017792   \n",
       "3   sub-004_task-eyesclosed_eeg.set          0.038817  0.961691   \n",
       "4   sub-005_task-eyesclosed_eeg.set          0.056755  1.528484   \n",
       "..                              ...               ...       ...   \n",
       "83  sub-084_task-eyesclosed_eeg.set          0.037154  0.357461   \n",
       "84  sub-085_task-eyesclosed_eeg.set          0.060937  0.431738   \n",
       "85  sub-086_task-eyesclosed_eeg.set          0.044006  6.253852   \n",
       "86  sub-087_task-eyesclosed_eeg.set          0.037769  0.503279   \n",
       "87  sub-088_task-eyesclosed_eeg.set          0.037272  1.189033   \n",
       "\n",
       "    Total_Variation  graph_energy  \\\n",
       "0          1.136539  3.597000e+07   \n",
       "1          1.465304  6.289283e+07   \n",
       "2          0.516504  9.366660e+06   \n",
       "3          1.400470  4.985066e+07   \n",
       "4          1.572462  6.464964e+07   \n",
       "..              ...           ...   \n",
       "83         1.093509  4.251692e+07   \n",
       "84         1.146357  3.136560e+07   \n",
       "85         2.236412  3.349515e+07   \n",
       "86         1.191152  3.633075e+07   \n",
       "87         1.476772  6.156756e+07   \n",
       "\n",
       "                                     spectral_entropy  signal_energy  \\\n",
       "0   [8.69918136e+00 5.50501943e-03 1.45696982e-02 ...       0.000108   \n",
       "1   [8.97853441e+00 3.64379040e-03 4.27435644e-03 ...       0.000135   \n",
       "2   [8.02649694 0.00840577 0.01185841 ... 0.607647...       0.000044   \n",
       "3   [8.86234196e+00 4.70419601e-03 7.24164626e-03 ...       0.000139   \n",
       "4   [8.99230873e+00 6.44453204e-03 6.73669735e-03 ...       0.000154   \n",
       "..                                                ...            ...   \n",
       "83  [8.78278302 0.01104814 0.01073822 ... 0.033289...       0.000092   \n",
       "84  [8.63070043e+00 3.92916197e-03 1.31690985e-02 ...       0.000117   \n",
       "85  [8.66354209e+00 5.38151592e-03 6.01591295e-03 ...       0.000434   \n",
       "86  [8.70417056e+00 4.52859990e-03 1.02856205e-02 ...       0.000118   \n",
       "87  [8.96788657e+00 4.24229221e-03 5.30800377e-03 ...       0.000139   \n",
       "\n",
       "    signal_power  unique_clusters   avg_degree  heat_trace  \\\n",
       "0   9.448716e-10                8  5996.999785         0.0   \n",
       "1   8.982981e-10                8  7929.999729         0.0   \n",
       "2   7.492876e-10                8  3059.999913         0.0   \n",
       "3   1.035222e-09                8  7059.999722         0.0   \n",
       "4   1.006423e-09                8  8039.999692         0.0   \n",
       "..           ...              ...          ...         ...   \n",
       "83  7.400060e-10                8  6519.999817         0.0   \n",
       "84  1.102371e-09                8  5599.999765         0.0   \n",
       "85  3.944704e-09                8  5786.999136         0.0   \n",
       "86  1.027555e-09                8  6026.999765         0.0   \n",
       "87  9.320460e-10                8  7845.999722         0.0   \n",
       "\n",
       "    diffusion_distance participant_id_y Gender  Age Group  MMSE  \n",
       "0         9.777661e+07          sub-001      F   57     A    16  \n",
       "1         1.709604e+08          sub-002      F   78     A    22  \n",
       "2         2.546122e+07          sub-003      M   70     A    14  \n",
       "3         1.355081e+08          sub-004      F   67     A    20  \n",
       "4         1.757359e+08          sub-005      M   70     A    22  \n",
       "..                 ...              ...    ...  ...   ...   ...  \n",
       "83        1.155730e+08          sub-084      F   71     F    24  \n",
       "84        8.526054e+07          sub-085      M   64     F    26  \n",
       "85        9.104926e+07          sub-086      M   49     F    26  \n",
       "86        9.875723e+07          sub-087      M   73     F    24  \n",
       "87        1.673580e+08          sub-088      M   55     F    24  \n",
       "\n",
       "[88 rows x 17 columns]"
      ]
     },
     "execution_count": 2,
     "metadata": {},
     "output_type": "execute_result"
    }
   ],
   "source": [
    "data = features.merge(participants, left_index=True, right_index=True)\n",
    "data"
   ]
  },
  {
   "cell_type": "markdown",
   "id": "07ab4ce9-bd65-489e-83e6-6c445b855976",
   "metadata": {},
   "source": [
    "## Plotting"
   ]
  },
  {
   "cell_type": "code",
   "execution_count": 3,
   "id": "c64cc26b-1865-41a1-9d9f-9021dbfd19a3",
   "metadata": {},
   "outputs": [
    {
     "name": "stderr",
     "output_type": "stream",
     "text": [
      "C:\\Users\\Windows\\AppData\\Local\\Programs\\Python\\Python311\\Lib\\site-packages\\seaborn\\_oldcore.py:1498: FutureWarning: is_categorical_dtype is deprecated and will be removed in a future version. Use isinstance(dtype, CategoricalDtype) instead\n",
      "  if pd.api.types.is_categorical_dtype(vector):\n",
      "C:\\Users\\Windows\\AppData\\Local\\Programs\\Python\\Python311\\Lib\\site-packages\\seaborn\\_oldcore.py:1498: FutureWarning: is_categorical_dtype is deprecated and will be removed in a future version. Use isinstance(dtype, CategoricalDtype) instead\n",
      "  if pd.api.types.is_categorical_dtype(vector):\n",
      "C:\\Users\\Windows\\AppData\\Local\\Programs\\Python\\Python311\\Lib\\site-packages\\seaborn\\axisgrid.py:118: UserWarning: The figure layout has changed to tight\n",
      "  self._figure.tight_layout(*args, **kwargs)\n"
     ]
    },
    {
     "data": {
      "image/png": "[encoded data removed]",
      "text/plain": [
       "<Figure size 566x500 with 1 Axes>"
      ]
     },
     "metadata": {},
     "output_type": "display_data"
    }
   ],
   "source": [
    "from sklearn.preprocessing import RobustScaler\n",
    "import seaborn as sns\n",
    "import matplotlib.pyplot as plt\n",
    "\n",
    "# Create a robust scaler object\n",
    "scaler = RobustScaler()\n",
    "\n",
    "# Fit the scaler to the data and transform it\n",
    "data[['stationary_ratio', 'Tik-norm']] = scaler.fit_transform(data[['stationary_ratio', 'Tik-norm']])\n",
    "\n",
    "sns.set(style=\"whitegrid\")\n",
    "\n",
    "# Use seaborn lmplot function to generate the scatter plot\n",
    "# Here 'data' is the DataFrame, 'stationary_ratio' and 'Tik_norm' are the x and y variables respectively\n",
    "# and 'Group' is the category variable used to color the dots\n",
    "sns.lmplot(data=data, x='stationary_ratio', y='Tik-norm', hue='Group', fit_reg=False, legend=True)\n",
    "\n",
    "# Set title with matplotlib\n",
    "plt.title('Stationary Ratio vs Tik Norm by Group')\n",
    "\n",
    "# Show the plot\n",
    "plt.show()"
   ]
  },
  {
   "cell_type": "code",
   "execution_count": 4,
   "id": "957bfb13-49bc-4fae-aaf9-41f348b7692d",
   "metadata": {},
   "outputs": [
    {
     "name": "stderr",
     "output_type": "stream",
     "text": [
      "C:\\Users\\Windows\\AppData\\Local\\Programs\\Python\\Python311\\Lib\\site-packages\\seaborn\\_oldcore.py:1498: FutureWarning: is_categorical_dtype is deprecated and will be removed in a future version. Use isinstance(dtype, CategoricalDtype) instead\n",
      "  if pd.api.types.is_categorical_dtype(vector):\n",
      "C:\\Users\\Windows\\AppData\\Local\\Programs\\Python\\Python311\\Lib\\site-packages\\seaborn\\_oldcore.py:1498: FutureWarning: is_categorical_dtype is deprecated and will be removed in a future version. Use isinstance(dtype, CategoricalDtype) instead\n",
      "  if pd.api.types.is_categorical_dtype(vector):\n",
      "C:\\Users\\Windows\\AppData\\Local\\Programs\\Python\\Python311\\Lib\\site-packages\\seaborn\\axisgrid.py:118: UserWarning: The figure layout has changed to tight\n",
      "  self._figure.tight_layout(*args, **kwargs)\n"
     ]
    },
    {
     "data": {
      "image/png": "[encoded data removed]",
      "text/plain": [
       "<Figure size 606x500 with 1 Axes>"
      ]
     },
     "metadata": {},
     "output_type": "display_data"
    }
   ],
   "source": [
    "from sklearn.preprocessing import RobustScaler\n",
    "import seaborn as sns\n",
    "import matplotlib.pyplot as plt\n",
    "\n",
    "# Create a new column that maps 'A' and 'F' to the same value\n",
    "data['Group_color'] = data['Group'].map({'A': 'Group1', 'F': 'Group1', 'C': 'Group2'})\n",
    "\n",
    "# Create a robust scaler object\n",
    "scaler = RobustScaler()\n",
    "\n",
    "# Fit the scaler to the data and transform it\n",
    "data[['stationary_ratio', 'Tik-norm']] = scaler.fit_transform(data[['stationary_ratio', 'Tik-norm']])\n",
    "\n",
    "sns.set(style=\"whitegrid\")\n",
    "\n",
    "# Use seaborn lmplot function to generate the scatter plot\n",
    "# Here 'data' is the DataFrame, 'stationary_ratio' and 'Tik_norm' are the x and y variables respectively\n",
    "# and 'Group_color' is the category variable used to color the dots\n",
    "sns.lmplot(data=data, x='stationary_ratio', y='Tik-norm', hue='Group_color', fit_reg=False, legend=True)\n",
    "\n",
    "# Set title with matplotlib\n",
    "plt.title('Stationary Ratio vs Tik Norm by Group')\n",
    "\n",
    "# Show the plot\n",
    "plt.show()"
   ]
  },
  {
   "cell_type": "code",
   "execution_count": 5,
   "id": "a36fd8c1-0494-453c-bdfb-60e5de53f0c3",
   "metadata": {},
   "outputs": [
    {
     "name": "stdout",
     "output_type": "stream",
     "text": [
      "Group\n",
      "A    36\n",
      "C    29\n",
      "F    23\n",
      "Name: count, dtype: int64\n"
     ]
    }
   ],
   "source": [
    "# Print the frequency of each group\n",
    "group_frequencies = data['Group'].value_counts()\n",
    "print(group_frequencies)\n"
   ]
  },
  {
   "cell_type": "code",
   "execution_count": 6,
   "id": "f74dc926-65a1-4c2c-adb3-c2dcde29e73d",
   "metadata": {},
   "outputs": [
    {
     "name": "stderr",
     "output_type": "stream",
     "text": [
      "C:\\Users\\Windows\\AppData\\Local\\Programs\\Python\\Python311\\Lib\\site-packages\\seaborn\\_oldcore.py:1498: FutureWarning: is_categorical_dtype is deprecated and will be removed in a future version. Use isinstance(dtype, CategoricalDtype) instead\n",
      "  if pd.api.types.is_categorical_dtype(vector):\n",
      "C:\\Users\\Windows\\AppData\\Local\\Programs\\Python\\Python311\\Lib\\site-packages\\seaborn\\_oldcore.py:1498: FutureWarning: is_categorical_dtype is deprecated and will be removed in a future version. Use isinstance(dtype, CategoricalDtype) instead\n",
      "  if pd.api.types.is_categorical_dtype(vector):\n"
     ]
    },
    {
     "data": {
      "image/png": "[encoded data removed]",
      "text/plain": [
       "<Figure size 1000x600 with 1 Axes>"
      ]
     },
     "metadata": {},
     "output_type": "display_data"
    },
    {
     "name": "stderr",
     "output_type": "stream",
     "text": [
      "C:\\Users\\Windows\\AppData\\Local\\Programs\\Python\\Python311\\Lib\\site-packages\\seaborn\\_oldcore.py:1498: FutureWarning: is_categorical_dtype is deprecated and will be removed in a future version. Use isinstance(dtype, CategoricalDtype) instead\n",
      "  if pd.api.types.is_categorical_dtype(vector):\n",
      "C:\\Users\\Windows\\AppData\\Local\\Programs\\Python\\Python311\\Lib\\site-packages\\seaborn\\_oldcore.py:1498: FutureWarning: is_categorical_dtype is deprecated and will be removed in a future version. Use isinstance(dtype, CategoricalDtype) instead\n",
      "  if pd.api.types.is_categorical_dtype(vector):\n"
     ]
    },
    {
     "data": {
      "image/png": "[encoded data removed]",
      "text/plain": [
       "<Figure size 1000x600 with 1 Axes>"
      ]
     },
     "metadata": {},
     "output_type": "display_data"
    },
    {
     "name": "stderr",
     "output_type": "stream",
     "text": [
      "C:\\Users\\Windows\\AppData\\Local\\Programs\\Python\\Python311\\Lib\\site-packages\\seaborn\\_oldcore.py:1498: FutureWarning: is_categorical_dtype is deprecated and will be removed in a future version. Use isinstance(dtype, CategoricalDtype) instead\n",
      "  if pd.api.types.is_categorical_dtype(vector):\n",
      "C:\\Users\\Windows\\AppData\\Local\\Programs\\Python\\Python311\\Lib\\site-packages\\seaborn\\_oldcore.py:1498: FutureWarning: is_categorical_dtype is deprecated and will be removed in a future version. Use isinstance(dtype, CategoricalDtype) instead\n",
      "  if pd.api.types.is_categorical_dtype(vector):\n"
     ]
    },
    {
     "data": {
      "image/png": "[encoded data removed]",
      "text/plain": [
       "<Figure size 1000x600 with 1 Axes>"
      ]
     },
     "metadata": {},
     "output_type": "display_data"
    },
    {
     "name": "stderr",
     "output_type": "stream",
     "text": [
      "C:\\Users\\Windows\\AppData\\Local\\Programs\\Python\\Python311\\Lib\\site-packages\\seaborn\\_oldcore.py:1498: FutureWarning: is_categorical_dtype is deprecated and will be removed in a future version. Use isinstance(dtype, CategoricalDtype) instead\n",
      "  if pd.api.types.is_categorical_dtype(vector):\n",
      "C:\\Users\\Windows\\AppData\\Local\\Programs\\Python\\Python311\\Lib\\site-packages\\seaborn\\_oldcore.py:1498: FutureWarning: is_categorical_dtype is deprecated and will be removed in a future version. Use isinstance(dtype, CategoricalDtype) instead\n",
      "  if pd.api.types.is_categorical_dtype(vector):\n"
     ]
    },
    {
     "data": {
      "image/png": "[encoded data removed]",
      "text/plain": [
       "<Figure size 1000x600 with 1 Axes>"
      ]
     },
     "metadata": {},
     "output_type": "display_data"
    },
    {
     "name": "stderr",
     "output_type": "stream",
     "text": [
      "C:\\Users\\Windows\\AppData\\Local\\Programs\\Python\\Python311\\Lib\\site-packages\\seaborn\\_oldcore.py:1498: FutureWarning: is_categorical_dtype is deprecated and will be removed in a future version. Use isinstance(dtype, CategoricalDtype) instead\n",
      "  if pd.api.types.is_categorical_dtype(vector):\n",
      "C:\\Users\\Windows\\AppData\\Local\\Programs\\Python\\Python311\\Lib\\site-packages\\seaborn\\_oldcore.py:1498: FutureWarning: is_categorical_dtype is deprecated and will be removed in a future version. Use isinstance(dtype, CategoricalDtype) instead\n",
      "  if pd.api.types.is_categorical_dtype(vector):\n"
     ]
    },
    {
     "data": {
      "image/png": "[encoded data removed]",
      "text/plain": [
       "<Figure size 1000x600 with 1 Axes>"
      ]
     },
     "metadata": {},
     "output_type": "display_data"
    },
    {
     "name": "stderr",
     "output_type": "stream",
     "text": [
      "C:\\Users\\Windows\\AppData\\Local\\Programs\\Python\\Python311\\Lib\\site-packages\\seaborn\\_oldcore.py:1498: FutureWarning: is_categorical_dtype is deprecated and will be removed in a future version. Use isinstance(dtype, CategoricalDtype) instead\n",
      "  if pd.api.types.is_categorical_dtype(vector):\n",
      "C:\\Users\\Windows\\AppData\\Local\\Programs\\Python\\Python311\\Lib\\site-packages\\seaborn\\_oldcore.py:1498: FutureWarning: is_categorical_dtype is deprecated and will be removed in a future version. Use isinstance(dtype, CategoricalDtype) instead\n",
      "  if pd.api.types.is_categorical_dtype(vector):\n"
     ]
    },
    {
     "data": {
      "image/png": "[encoded data removed]",
      "text/plain": [
       "<Figure size 1000x600 with 1 Axes>"
      ]
     },
     "metadata": {},
     "output_type": "display_data"
    },
    {
     "name": "stderr",
     "output_type": "stream",
     "text": [
      "C:\\Users\\Windows\\AppData\\Local\\Programs\\Python\\Python311\\Lib\\site-packages\\seaborn\\_oldcore.py:1498: FutureWarning: is_categorical_dtype is deprecated and will be removed in a future version. Use isinstance(dtype, CategoricalDtype) instead\n",
      "  if pd.api.types.is_categorical_dtype(vector):\n",
      "C:\\Users\\Windows\\AppData\\Local\\Programs\\Python\\Python311\\Lib\\site-packages\\seaborn\\_oldcore.py:1498: FutureWarning: is_categorical_dtype is deprecated and will be removed in a future version. Use isinstance(dtype, CategoricalDtype) instead\n",
      "  if pd.api.types.is_categorical_dtype(vector):\n"
     ]
    },
    {
     "data": {
      "image/png": "[encoded data removed]",
      "text/plain": [
       "<Figure size 1000x600 with 1 Axes>"
      ]
     },
     "metadata": {},
     "output_type": "display_data"
    },
    {
     "name": "stderr",
     "output_type": "stream",
     "text": [
      "C:\\Users\\Windows\\AppData\\Local\\Programs\\Python\\Python311\\Lib\\site-packages\\seaborn\\_oldcore.py:1498: FutureWarning: is_categorical_dtype is deprecated and will be removed in a future version. Use isinstance(dtype, CategoricalDtype) instead\n",
      "  if pd.api.types.is_categorical_dtype(vector):\n",
      "C:\\Users\\Windows\\AppData\\Local\\Programs\\Python\\Python311\\Lib\\site-packages\\seaborn\\_oldcore.py:1498: FutureWarning: is_categorical_dtype is deprecated and will be removed in a future version. Use isinstance(dtype, CategoricalDtype) instead\n",
      "  if pd.api.types.is_categorical_dtype(vector):\n"
     ]
    },
    {
     "data": {
      "image/png": "[encoded data removed]",
      "text/plain": [
       "<Figure size 1000x600 with 1 Axes>"
      ]
     },
     "metadata": {},
     "output_type": "display_data"
    },
    {
     "name": "stderr",
     "output_type": "stream",
     "text": [
      "C:\\Users\\Windows\\AppData\\Local\\Programs\\Python\\Python311\\Lib\\site-packages\\seaborn\\_oldcore.py:1498: FutureWarning: is_categorical_dtype is deprecated and will be removed in a future version. Use isinstance(dtype, CategoricalDtype) instead\n",
      "  if pd.api.types.is_categorical_dtype(vector):\n",
      "C:\\Users\\Windows\\AppData\\Local\\Programs\\Python\\Python311\\Lib\\site-packages\\seaborn\\_oldcore.py:1498: FutureWarning: is_categorical_dtype is deprecated and will be removed in a future version. Use isinstance(dtype, CategoricalDtype) instead\n",
      "  if pd.api.types.is_categorical_dtype(vector):\n"
     ]
    },
    {
     "data": {
      "image/png": "[encoded data removed]",
      "text/plain": [
       "<Figure size 1000x600 with 1 Axes>"
      ]
     },
     "metadata": {},
     "output_type": "display_data"
    },
    {
     "name": "stderr",
     "output_type": "stream",
     "text": [
      "C:\\Users\\Windows\\AppData\\Local\\Programs\\Python\\Python311\\Lib\\site-packages\\seaborn\\_oldcore.py:1498: FutureWarning: is_categorical_dtype is deprecated and will be removed in a future version. Use isinstance(dtype, CategoricalDtype) instead\n",
      "  if pd.api.types.is_categorical_dtype(vector):\n",
      "C:\\Users\\Windows\\AppData\\Local\\Programs\\Python\\Python311\\Lib\\site-packages\\seaborn\\_oldcore.py:1498: FutureWarning: is_categorical_dtype is deprecated and will be removed in a future version. Use isinstance(dtype, CategoricalDtype) instead\n",
      "  if pd.api.types.is_categorical_dtype(vector):\n"
     ]
    },
    {
     "data": {
      "image/png": "[encoded data removed]",
      "text/plain": [
       "<Figure size 1000x600 with 1 Axes>"
      ]
     },
     "metadata": {},
     "output_type": "display_data"
    },
    {
     "name": "stderr",
     "output_type": "stream",
     "text": [
      "C:\\Users\\Windows\\AppData\\Local\\Programs\\Python\\Python311\\Lib\\site-packages\\seaborn\\_oldcore.py:1498: FutureWarning: is_categorical_dtype is deprecated and will be removed in a future version. Use isinstance(dtype, CategoricalDtype) instead\n",
      "  if pd.api.types.is_categorical_dtype(vector):\n",
      "C:\\Users\\Windows\\AppData\\Local\\Programs\\Python\\Python311\\Lib\\site-packages\\seaborn\\_oldcore.py:1498: FutureWarning: is_categorical_dtype is deprecated and will be removed in a future version. Use isinstance(dtype, CategoricalDtype) instead\n",
      "  if pd.api.types.is_categorical_dtype(vector):\n"
     ]
    },
    {
     "data": {
      "image/png": "[encoded data removed]",
      "text/plain": [
       "<Figure size 1000x600 with 1 Axes>"
      ]
     },
     "metadata": {},
     "output_type": "display_data"
    },
    {
     "name": "stderr",
     "output_type": "stream",
     "text": [
      "C:\\Users\\Windows\\AppData\\Local\\Programs\\Python\\Python311\\Lib\\site-packages\\seaborn\\_oldcore.py:1498: FutureWarning: is_categorical_dtype is deprecated and will be removed in a future version. Use isinstance(dtype, CategoricalDtype) instead\n",
      "  if pd.api.types.is_categorical_dtype(vector):\n",
      "C:\\Users\\Windows\\AppData\\Local\\Programs\\Python\\Python311\\Lib\\site-packages\\seaborn\\_oldcore.py:1498: FutureWarning: is_categorical_dtype is deprecated and will be removed in a future version. Use isinstance(dtype, CategoricalDtype) instead\n",
      "  if pd.api.types.is_categorical_dtype(vector):\n"
     ]
    },
    {
     "data": {
      "image/png": "[encoded data removed]",
      "text/plain": [
       "<Figure size 1000x600 with 1 Axes>"
      ]
     },
     "metadata": {},
     "output_type": "display_data"
    },
    {
     "name": "stderr",
     "output_type": "stream",
     "text": [
      "C:\\Users\\Windows\\AppData\\Local\\Programs\\Python\\Python311\\Lib\\site-packages\\seaborn\\_oldcore.py:1498: FutureWarning: is_categorical_dtype is deprecated and will be removed in a future version. Use isinstance(dtype, CategoricalDtype) instead\n",
      "  if pd.api.types.is_categorical_dtype(vector):\n",
      "C:\\Users\\Windows\\AppData\\Local\\Programs\\Python\\Python311\\Lib\\site-packages\\seaborn\\_oldcore.py:1498: FutureWarning: is_categorical_dtype is deprecated and will be removed in a future version. Use isinstance(dtype, CategoricalDtype) instead\n",
      "  if pd.api.types.is_categorical_dtype(vector):\n"
     ]
    },
    {
     "data": {
      "image/png": "[encoded data removed]",
      "text/plain": [
       "<Figure size 1000x600 with 1 Axes>"
      ]
     },
     "metadata": {},
     "output_type": "display_data"
    }
   ],
   "source": [
    "import seaborn as sns\n",
    "import matplotlib.pyplot as plt\n",
    "from sklearn.preprocessing import RobustScaler\n",
    "\n",
    "# Assuming 'data' is a DataFrame that contains the columns 'Group' and the features we want to plot\n",
    "columns_to_scale = ['stationary_ratio', 'Tik-norm', 'Total_Variation', 'graph_energy', 'spectral_entropy', 'signal_energy', 'signal_power', 'unique_clusters', 'avg_degree', 'heat_trace', 'diffusion_distance', 'MMSE', 'Age']\n",
    "\n",
    "# Detect problematic columns (i.e., columns that contain strings which look like lists)\n",
    "problematic_columns = [col for col in columns_to_scale if isinstance(data[col].iloc[0], str)]\n",
    "\n",
    "# Convert those columns\n",
    "for col in problematic_columns:\n",
    "    # Modify the string to have commas and then convert to list\n",
    "    data[col] = data[col].apply(lambda x: eval('[' + ','.join(x.strip('[]').split()) + ']')[0] if isinstance(x, str) else x)\n",
    "\n",
    "# Create a robust scaler object\n",
    "scaler = RobustScaler()\n",
    "\n",
    "# Scale all columns\n",
    "data[columns_to_scale] = scaler.fit_transform(data[columns_to_scale])\n",
    "\n",
    "features_to_plot = {\n",
    "    'stationary_ratio': 'Stationary Ratio',\n",
    "    'Tik-norm': 'Tik-norm',\n",
    "    'Total_Variation': 'Total Variation',\n",
    "    'graph_energy': 'Graph Energy',\n",
    "    'spectral_entropy': 'Spectral Entropy',\n",
    "    'signal_energy': 'Signal Energy',\n",
    "    'signal_power': 'Signal Power',\n",
    "    'unique_clusters': 'Unique Clusters',\n",
    "    'avg_degree': 'Average Degree',\n",
    "    'heat_trace': 'Heat Trace',\n",
    "    'diffusion_distance': 'Diffusion Distance',\n",
    "    'MMSE': 'MMSE',\n",
    "    'Age': 'Age'\n",
    "}\n",
    "\n",
    "group_order = ['C', 'F', 'A']\n",
    "\n",
    "for feature, title in features_to_plot.items():\n",
    "    plt.figure(figsize=(10, 6))\n",
    "    sns.boxplot(x=\"Group\", y=feature, data=data, order=group_order)\n",
    "    plt.title(f'Box Plot of {title} by Group')\n",
    "    plt.show()\n"
   ]
  },
  {
   "cell_type": "code",
   "execution_count": 7,
   "id": "1e842f43-87fc-4ec8-bfd2-71d5ca6ecf81",
   "metadata": {},
   "outputs": [
    {
     "name": "stderr",
     "output_type": "stream",
     "text": [
      "C:\\Users\\Windows\\AppData\\Local\\Programs\\Python\\Python311\\Lib\\site-packages\\umap\\distances.py:1063: NumbaDeprecationWarning: \u001b[1mThe 'nopython' keyword argument was not supplied to the 'numba.jit' decorator. The implicit default value for this argument is currently False, but it will be changed to True in Numba 0.59.0. See https://numba.readthedocs.io/en/stable/reference/deprecation.html#deprecation-of-object-mode-fall-back-behaviour-when-using-jit for details.\u001b[0m\n",
      "  @numba.jit()\n",
      "C:\\Users\\Windows\\AppData\\Local\\Programs\\Python\\Python311\\Lib\\site-packages\\umap\\distances.py:1071: NumbaDeprecationWarning: \u001b[1mThe 'nopython' keyword argument was not supplied to the 'numba.jit' decorator. The implicit default value for this argument is currently False, but it will be changed to True in Numba 0.59.0. See https://numba.readthedocs.io/en/stable/reference/deprecation.html#deprecation-of-object-mode-fall-back-behaviour-when-using-jit for details.\u001b[0m\n",
      "  @numba.jit()\n",
      "C:\\Users\\Windows\\AppData\\Local\\Programs\\Python\\Python311\\Lib\\site-packages\\umap\\distances.py:1086: NumbaDeprecationWarning: \u001b[1mThe 'nopython' keyword argument was not supplied to the 'numba.jit' decorator. The implicit default value for this argument is currently False, but it will be changed to True in Numba 0.59.0. See https://numba.readthedocs.io/en/stable/reference/deprecation.html#deprecation-of-object-mode-fall-back-behaviour-when-using-jit for details.\u001b[0m\n",
      "  @numba.jit()\n",
      "C:\\Users\\Windows\\AppData\\Local\\Programs\\Python\\Python311\\Lib\\site-packages\\umap\\umap_.py:660: NumbaDeprecationWarning: \u001b[1mThe 'nopython' keyword argument was not supplied to the 'numba.jit' decorator. The implicit default value for this argument is currently False, but it will be changed to True in Numba 0.59.0. See https://numba.readthedocs.io/en/stable/reference/deprecation.html#deprecation-of-object-mode-fall-back-behaviour-when-using-jit for details.\u001b[0m\n",
      "  @numba.jit()\n",
      "C:\\Users\\Windows\\AppData\\Local\\Programs\\Python\\Python311\\Lib\\site-packages\\seaborn\\_oldcore.py:1498: FutureWarning: is_categorical_dtype is deprecated and will be removed in a future version. Use isinstance(dtype, CategoricalDtype) instead\n",
      "  if pd.api.types.is_categorical_dtype(vector):\n",
      "C:\\Users\\Windows\\AppData\\Local\\Programs\\Python\\Python311\\Lib\\site-packages\\seaborn\\_oldcore.py:1498: FutureWarning: is_categorical_dtype is deprecated and will be removed in a future version. Use isinstance(dtype, CategoricalDtype) instead\n",
      "  if pd.api.types.is_categorical_dtype(vector):\n",
      "C:\\Users\\Windows\\AppData\\Local\\Programs\\Python\\Python311\\Lib\\site-packages\\seaborn\\_oldcore.py:1498: FutureWarning: is_categorical_dtype is deprecated and will be removed in a future version. Use isinstance(dtype, CategoricalDtype) instead\n",
      "  if pd.api.types.is_categorical_dtype(vector):\n",
      "C:\\Users\\Windows\\AppData\\Local\\Programs\\Python\\Python311\\Lib\\site-packages\\seaborn\\_oldcore.py:1498: FutureWarning: is_categorical_dtype is deprecated and will be removed in a future version. Use isinstance(dtype, CategoricalDtype) instead\n",
      "  if pd.api.types.is_categorical_dtype(vector):\n",
      "C:\\Users\\Windows\\AppData\\Local\\Programs\\Python\\Python311\\Lib\\site-packages\\seaborn\\_oldcore.py:1498: FutureWarning: is_categorical_dtype is deprecated and will be removed in a future version. Use isinstance(dtype, CategoricalDtype) instead\n",
      "  if pd.api.types.is_categorical_dtype(vector):\n"
     ]
    },
    {
     "data": {
      "image/png": "[encoded data removed]",
      "text/plain": [
       "<Figure size 1200x800 with 1 Axes>"
      ]
     },
     "metadata": {},
     "output_type": "display_data"
    }
   ],
   "source": [
    "import umap\n",
    "import matplotlib.pyplot as plt\n",
    "import seaborn as sns\n",
    "\n",
    "# Extract the columns you want from the data DataFrame\n",
    "\n",
    "features = {\n",
    "    'stationary_ratio': 'Stationary Ratio',\n",
    "    'Tik-norm': 'Tik-norm',\n",
    "    'Total_Variation': 'Total Variation',\n",
    "    'graph_energy': 'Graph Energy',\n",
    "    'spectral_entropy': 'Spectral Entropy',\n",
    "    'signal_energy': 'Signal Energy',\n",
    "    'signal_power': 'Signal Power',\n",
    "    'avg_degree': 'Average Degree',\n",
    "    'diffusion_distance': 'Diffusion Distance',\n",
    "}\n",
    "\n",
    "selected_data = data[list(features.keys())]\n",
    "\n",
    "# Create the UMAP object and fit_transform the data to get a 2D representation\n",
    "reducer = umap.UMAP()\n",
    "embedding = reducer.fit_transform(selected_data)\n",
    "\n",
    "# Define a custom color palette\n",
    "color_palette = {\"C\": \"blue\", \"F\": \"red\", \"A\": \"green\"}\n",
    "\n",
    "# Plot the UMAP representation\n",
    "plt.figure(figsize=(12, 8))\n",
    "sns.scatterplot(\n",
    "    x=embedding[:, 0], \n",
    "    y=embedding[:, 1], \n",
    "    hue=data['Group'],\n",
    "    palette=color_palette, \n",
    "    s=50  # Increased size\n",
    ")\n",
    "plt.gca().set_aspect('equal', 'datalim')\n",
    "plt.title('UMAP projection of the EEG features', fontsize=16)\n",
    "plt.legend(loc=\"upper right\")\n",
    "plt.show()\n"
   ]
  },
  {
   "cell_type": "markdown",
   "id": "cb70850a-29c6-4424-9712-a2e6a91ebbb7",
   "metadata": {},
   "source": [
    "## Multi-Classification"
   ]
  },
  {
   "cell_type": "code",
   "execution_count": 8,
   "id": "98700103-8bea-45ac-af9d-eaa77dd6db34",
   "metadata": {},
   "outputs": [],
   "source": [
    "features = {\n",
    "    'stationary_ratio': 'Stationary Ratio',\n",
    "    'Tik-norm': 'Tik-norm',\n",
    "    'Total_Variation': 'Total Variation',\n",
    "    'graph_energy': 'Graph Energy',\n",
    "    'spectral_entropy': 'Spectral Entropy',\n",
    "    'signal_energy': 'Signal Energy',\n",
    "    'signal_power': 'Signal Power',\n",
    "    'avg_degree': 'Average Degree',\n",
    "    'diffusion_distance': 'Diffusion Distance',\n",
    "}"
   ]
  },
  {
   "cell_type": "markdown",
   "id": "2ea604bd-4a98-4641-a890-3eeb95d946ea",
   "metadata": {},
   "source": [
    "### KNeighborsClassifier"
   ]
  },
  {
   "cell_type": "code",
   "execution_count": 9,
   "id": "15e0866b-d61b-401d-8c9f-c7460a1b4f3f",
   "metadata": {},
   "outputs": [
    {
     "name": "stdout",
     "output_type": "stream",
     "text": [
      "Validation ROC AUC for class A (Class 0): 0.5318181818181817\n",
      "Test ROC AUC for class A (Class 0): 0.5384615384615385\n",
      "Validation ROC AUC for class C (Class 1): 0.6153846153846154\n",
      "Test ROC AUC for class C (Class 1): 0.5271739130434783\n",
      "Validation ROC AUC for class F (Class 2): 0.6726190476190476\n",
      "Test ROC AUC for class F (Class 2): 0.6705882352941177\n",
      "\n",
      "Validation Precision, Recall, F1-score:\n",
      "               precision    recall  f1-score   support\n",
      "\n",
      "           A       0.45      0.82      0.58        11\n",
      "           C       0.55      0.46      0.50        13\n",
      "           F       0.00      0.00      0.00         7\n",
      "\n",
      "    accuracy                           0.48        31\n",
      "   macro avg       0.33      0.43      0.36        31\n",
      "weighted avg       0.39      0.48      0.42        31\n",
      "\n",
      "\n",
      "Test Precision, Recall, F1-score:\n",
      "               precision    recall  f1-score   support\n",
      "\n",
      "           A       0.50      0.54      0.52        13\n",
      "           C       0.09      0.25      0.13         4\n",
      "           F       1.00      0.20      0.33        10\n",
      "\n",
      "    accuracy                           0.37        27\n",
      "   macro avg       0.53      0.33      0.33        27\n",
      "weighted avg       0.62      0.37      0.39        27\n",
      "\n"
     ]
    },
    {
     "name": "stderr",
     "output_type": "stream",
     "text": [
      "C:\\Users\\Windows\\AppData\\Local\\Programs\\Python\\Python311\\Lib\\site-packages\\sklearn\\metrics\\_classification.py:1469: UndefinedMetricWarning: Precision and F-score are ill-defined and being set to 0.0 in labels with no predicted samples. Use `zero_division` parameter to control this behavior.\n",
      "  _warn_prf(average, modifier, msg_start, len(result))\n",
      "C:\\Users\\Windows\\AppData\\Local\\Programs\\Python\\Python311\\Lib\\site-packages\\sklearn\\metrics\\_classification.py:1469: UndefinedMetricWarning: Precision and F-score are ill-defined and being set to 0.0 in labels with no predicted samples. Use `zero_division` parameter to control this behavior.\n",
      "  _warn_prf(average, modifier, msg_start, len(result))\n",
      "C:\\Users\\Windows\\AppData\\Local\\Programs\\Python\\Python311\\Lib\\site-packages\\sklearn\\metrics\\_classification.py:1469: UndefinedMetricWarning: Precision and F-score are ill-defined and being set to 0.0 in labels with no predicted samples. Use `zero_division` parameter to control this behavior.\n",
      "  _warn_prf(average, modifier, msg_start, len(result))\n"
     ]
    }
   ],
   "source": [
    "from sklearn.model_selection import GridSearchCV\n",
    "from sklearn.neighbors import KNeighborsClassifier\n",
    "from sklearn.preprocessing import RobustScaler\n",
    "from sklearn.metrics import classification_report, roc_curve, auc\n",
    "from sklearn.preprocessing import LabelEncoder\n",
    "from sklearn.model_selection import train_test_split\n",
    "\n",
    "# The features are 'stationary_ratio' and 'Tik_norm'\n",
    "X = data[list(features.keys())]\n",
    "\n",
    "# The target is 'Group'\n",
    "y = data['Group']\n",
    "\n",
    "# Split the data into train+validation set and test set\n",
    "X_train_val, X_test, y_train_val, y_test = train_test_split(X, y, test_size=0.3, random_state=42)\n",
    "\n",
    "# Further split the train data into train set and validation set\n",
    "X_train, X_val, y_train, y_val = train_test_split(X_train_val, y_train_val, test_size=0.5, random_state=42)\n",
    "\n",
    "scaler = RobustScaler()\n",
    "X_train_scaled = scaler.fit_transform(X_train)\n",
    "X_val_scaled = scaler.transform(X_val)\n",
    "X_test_scaled = scaler.transform(X_test)\n",
    "\n",
    "# Encode labels\n",
    "le = LabelEncoder()\n",
    "y_train_int = le.fit_transform(y_train)\n",
    "y_val_int = le.transform(y_val)\n",
    "y_test_int = le.transform(y_test)\n",
    "\n",
    "# Hyperparameters\n",
    "params = {\n",
    "    'n_neighbors': [3, 5, 7, 9, 11, 13],\n",
    "    'weights': ['uniform', 'distance'],\n",
    "    'metric': ['euclidean', 'manhattan', 'minkowski', 'canberra']\n",
    "}\n",
    "\n",
    "clf = KNeighborsClassifier(n_jobs=-1)\n",
    "grid_search = GridSearchCV(clf, params, cv=5, n_jobs=-1)\n",
    "grid_search.fit(X_train_scaled, y_train_int)\n",
    "\n",
    "best_clf = grid_search.best_estimator_\n",
    "\n",
    "# Validate and test metrics\n",
    "for label, group_name in enumerate(le.classes_):\n",
    "    y_val_label = (y_val_int == label).astype(int)\n",
    "    y_test_label = (y_test_int == label).astype(int)\n",
    "    y_val_pred_prob = best_clf.predict_proba(X_val_scaled)[:, label]\n",
    "    y_test_pred_prob = best_clf.predict_proba(X_test_scaled)[:, label]\n",
    "\n",
    "    fpr_val, tpr_val, _ = roc_curve(y_val_label, y_val_pred_prob)\n",
    "    fpr_test, tpr_test, _ = roc_curve(y_test_label, y_test_pred_prob)\n",
    "\n",
    "    print(f\"Validation ROC AUC for class {group_name} (Class {label}): {auc(fpr_val, tpr_val)}\")\n",
    "    print(f\"Test ROC AUC for class {group_name} (Class {label}): {auc(fpr_test, tpr_test)}\")\n",
    "\n",
    "y_val_pred = le.inverse_transform(best_clf.predict(X_val_scaled))\n",
    "y_test_pred = le.inverse_transform(best_clf.predict(X_test_scaled))\n",
    "\n",
    "print(\"\\nValidation Precision, Recall, F1-score:\\n\", classification_report(y_val, y_val_pred))\n",
    "print(\"\\nTest Precision, Recall, F1-score:\\n\", classification_report(y_test, y_test_pred))\n"
   ]
  },
  {
   "cell_type": "markdown",
   "id": "3a6a4bb1-14e7-4bc9-b7c7-8a667e35cef8",
   "metadata": {},
   "source": [
    "### Random Forest"
   ]
  },
  {
   "cell_type": "code",
   "execution_count": 10,
   "id": "48461e27-9736-43de-83af-c60dd21d7b9b",
   "metadata": {},
   "outputs": [
    {
     "name": "stdout",
     "output_type": "stream",
     "text": [
      "Validation ROC AUC for class A (Class 0): 0.5045454545454546\n",
      "Test ROC AUC for class A (Class 0): 0.4835164835164835\n",
      "Validation ROC AUC for class C (Class 1): 0.6623931623931624\n",
      "Test ROC AUC for class C (Class 1): 0.7065217391304348\n",
      "Validation ROC AUC for class F (Class 2): 0.6904761904761905\n",
      "Test ROC AUC for class F (Class 2): 0.7941176470588236\n",
      "\n",
      "Validation Precision, Recall, F1-score:\n",
      "               precision    recall  f1-score   support\n",
      "\n",
      "           A       0.33      0.55      0.41        11\n",
      "           C       0.46      0.46      0.46        13\n",
      "           F       0.00      0.00      0.00         7\n",
      "\n",
      "    accuracy                           0.39        31\n",
      "   macro avg       0.26      0.34      0.29        31\n",
      "weighted avg       0.31      0.39      0.34        31\n",
      "\n",
      "\n",
      "Test Precision, Recall, F1-score:\n",
      "               precision    recall  f1-score   support\n",
      "\n",
      "           A       0.40      0.46      0.43        13\n",
      "           C       0.25      0.75      0.38         4\n",
      "           F       0.00      0.00      0.00        10\n",
      "\n",
      "    accuracy                           0.33        27\n",
      "   macro avg       0.22      0.40      0.27        27\n",
      "weighted avg       0.23      0.33      0.26        27\n",
      "\n"
     ]
    },
    {
     "name": "stderr",
     "output_type": "stream",
     "text": [
      "C:\\Users\\Windows\\AppData\\Local\\Programs\\Python\\Python311\\Lib\\site-packages\\sklearn\\metrics\\_classification.py:1469: UndefinedMetricWarning: Precision and F-score are ill-defined and being set to 0.0 in labels with no predicted samples. Use `zero_division` parameter to control this behavior.\n",
      "  _warn_prf(average, modifier, msg_start, len(result))\n",
      "C:\\Users\\Windows\\AppData\\Local\\Programs\\Python\\Python311\\Lib\\site-packages\\sklearn\\metrics\\_classification.py:1469: UndefinedMetricWarning: Precision and F-score are ill-defined and being set to 0.0 in labels with no predicted samples. Use `zero_division` parameter to control this behavior.\n",
      "  _warn_prf(average, modifier, msg_start, len(result))\n",
      "C:\\Users\\Windows\\AppData\\Local\\Programs\\Python\\Python311\\Lib\\site-packages\\sklearn\\metrics\\_classification.py:1469: UndefinedMetricWarning: Precision and F-score are ill-defined and being set to 0.0 in labels with no predicted samples. Use `zero_division` parameter to control this behavior.\n",
      "  _warn_prf(average, modifier, msg_start, len(result))\n",
      "C:\\Users\\Windows\\AppData\\Local\\Programs\\Python\\Python311\\Lib\\site-packages\\sklearn\\metrics\\_classification.py:1469: UndefinedMetricWarning: Precision and F-score are ill-defined and being set to 0.0 in labels with no predicted samples. Use `zero_division` parameter to control this behavior.\n",
      "  _warn_prf(average, modifier, msg_start, len(result))\n",
      "C:\\Users\\Windows\\AppData\\Local\\Programs\\Python\\Python311\\Lib\\site-packages\\sklearn\\metrics\\_classification.py:1469: UndefinedMetricWarning: Precision and F-score are ill-defined and being set to 0.0 in labels with no predicted samples. Use `zero_division` parameter to control this behavior.\n",
      "  _warn_prf(average, modifier, msg_start, len(result))\n",
      "C:\\Users\\Windows\\AppData\\Local\\Programs\\Python\\Python311\\Lib\\site-packages\\sklearn\\metrics\\_classification.py:1469: UndefinedMetricWarning: Precision and F-score are ill-defined and being set to 0.0 in labels with no predicted samples. Use `zero_division` parameter to control this behavior.\n",
      "  _warn_prf(average, modifier, msg_start, len(result))\n"
     ]
    }
   ],
   "source": [
    "from sklearn.model_selection import GridSearchCV\n",
    "from sklearn.ensemble import RandomForestClassifier\n",
    "from sklearn.preprocessing import RobustScaler\n",
    "from sklearn.metrics import classification_report, roc_curve, auc\n",
    "from sklearn.preprocessing import LabelEncoder\n",
    "from sklearn.model_selection import train_test_split\n",
    "\n",
    "# The features are 'stationary_ratio' and 'Tik_norm'\n",
    "X = data[list(features.keys())]\n",
    "\n",
    "# The target is 'Group'\n",
    "y = data['Group']\n",
    "\n",
    "# Split the data into train+validation set and test set\n",
    "X_train_val, X_test, y_train_val, y_test = train_test_split(X, y, test_size=0.3, random_state=42)\n",
    "\n",
    "# Further split the train data into train set and validation set\n",
    "X_train, X_val, y_train, y_val = train_test_split(X_train_val, y_train_val, test_size=0.5, random_state=42)\n",
    "\n",
    "scaler = RobustScaler()\n",
    "X_train_scaled = scaler.fit_transform(X_train)\n",
    "X_val_scaled = scaler.transform(X_val)\n",
    "X_test_scaled = scaler.transform(X_test)\n",
    "\n",
    "# Encode labels\n",
    "le = LabelEncoder()\n",
    "y_train_int = le.fit_transform(y_train)\n",
    "y_val_int = le.transform(y_val)\n",
    "y_test_int = le.transform(y_test)\n",
    "\n",
    "# Hyperparameters\n",
    "params = {\n",
    "    'n_estimators': [50, 100, 150, 200, 250, 300, 350],\n",
    "    'max_depth': [None, 10, 20, 30],\n",
    "    'min_samples_split': [2, 5, 10],\n",
    "    'min_samples_leaf': [1, 2, 4]\n",
    "}\n",
    "\n",
    "clf = RandomForestClassifier(random_state=42, n_jobs=-1)\n",
    "grid_search = GridSearchCV(clf, params, cv=5, n_jobs=-1)\n",
    "grid_search.fit(X_train_scaled, y_train_int)\n",
    "\n",
    "best_clf = grid_search.best_estimator_\n",
    "\n",
    "# Validate and test metrics\n",
    "for label, group_name in enumerate(le.classes_):\n",
    "    y_val_label = (y_val_int == label).astype(int)\n",
    "    y_test_label = (y_test_int == label).astype(int)\n",
    "    y_val_pred_prob = best_clf.predict_proba(X_val_scaled)[:, label]\n",
    "    y_test_pred_prob = best_clf.predict_proba(X_test_scaled)[:, label]\n",
    "\n",
    "    fpr_val, tpr_val, _ = roc_curve(y_val_label, y_val_pred_prob)\n",
    "    fpr_test, tpr_test, _ = roc_curve(y_test_label, y_test_pred_prob)\n",
    "\n",
    "    print(f\"Validation ROC AUC for class {group_name} (Class {label}): {auc(fpr_val, tpr_val)}\")\n",
    "    print(f\"Test ROC AUC for class {group_name} (Class {label}): {auc(fpr_test, tpr_test)}\")\n",
    "\n",
    "y_val_pred = le.inverse_transform(best_clf.predict(X_val_scaled))\n",
    "y_test_pred = le.inverse_transform(best_clf.predict(X_test_scaled))\n",
    "\n",
    "print(\"\\nValidation Precision, Recall, F1-score:\\n\", classification_report(y_val, y_val_pred))\n",
    "print(\"\\nTest Precision, Recall, F1-score:\\n\", classification_report(y_test, y_test_pred))\n"
   ]
  },
  {
   "cell_type": "markdown",
   "id": "4c91da44-2f62-45ae-a334-db6f1378ede9",
   "metadata": {},
   "source": [
    "### XGBoost"
   ]
  },
  {
   "cell_type": "code",
   "execution_count": 11,
   "id": "0b1fd1ad-33cc-42ef-b82f-febb6855ae14",
   "metadata": {},
   "outputs": [
    {
     "name": "stdout",
     "output_type": "stream",
     "text": [
      "Validation ROC AUC for class A (Class 0): 0.6272727272727272\n",
      "Test ROC AUC for class A (Class 0): 0.46703296703296704\n",
      "Validation ROC AUC for class C (Class 1): 0.6111111111111112\n",
      "Test ROC AUC for class C (Class 1): 0.7934782608695652\n",
      "Validation ROC AUC for class F (Class 2): 0.6547619047619048\n",
      "Test ROC AUC for class F (Class 2): 0.6823529411764706\n",
      "\n",
      "Validation Precision, Recall, F1-score:\n",
      "               precision    recall  f1-score   support\n",
      "\n",
      "           A       0.44      0.36      0.40        11\n",
      "           C       0.50      0.54      0.52        13\n",
      "           F       0.38      0.43      0.40         7\n",
      "\n",
      "    accuracy                           0.45        31\n",
      "   macro avg       0.44      0.44      0.44        31\n",
      "weighted avg       0.45      0.45      0.45        31\n",
      "\n",
      "\n",
      "Test Precision, Recall, F1-score:\n",
      "               precision    recall  f1-score   support\n",
      "\n",
      "           A       0.44      0.31      0.36        13\n",
      "           C       0.25      0.75      0.38         4\n",
      "           F       0.67      0.40      0.50        10\n",
      "\n",
      "    accuracy                           0.41        27\n",
      "   macro avg       0.45      0.49      0.41        27\n",
      "weighted avg       0.50      0.41      0.42        27\n",
      "\n"
     ]
    }
   ],
   "source": [
    "import xgboost as xgb\n",
    "from sklearn.model_selection import GridSearchCV\n",
    "from sklearn.preprocessing import RobustScaler\n",
    "from sklearn.metrics import classification_report, roc_curve, auc\n",
    "from sklearn.preprocessing import LabelEncoder\n",
    "from sklearn.model_selection import train_test_split\n",
    "\n",
    "# The features are 'stationary_ratio' and 'Tik_norm'\n",
    "X = data[list(features.keys())]\n",
    "\n",
    "# The target is 'Group'\n",
    "y = data['Group']\n",
    "\n",
    "# Split the data into train+validation set and test set\n",
    "X_train_val, X_test, y_train_val, y_test = train_test_split(X, y, test_size=0.3, random_state=42)\n",
    "\n",
    "# Further split the train data into train set and validation set\n",
    "X_train, X_val, y_train, y_val = train_test_split(X_train_val, y_train_val, test_size=0.5, random_state=42)\n",
    "\n",
    "scaler = RobustScaler()\n",
    "X_train_scaled = scaler.fit_transform(X_train)\n",
    "X_val_scaled = scaler.transform(X_val)\n",
    "X_test_scaled = scaler.transform(X_test)\n",
    "\n",
    "# Encode labels\n",
    "le = LabelEncoder()\n",
    "y_train_int = le.fit_transform(y_train)\n",
    "y_val_int = le.transform(y_val)\n",
    "y_test_int = le.transform(y_test)\n",
    "\n",
    "# Hyperparameters\n",
    "params = {\n",
    "    'learning_rate': [0.01, 0.1, 0.2],\n",
    "    'max_depth': [3, 6, 10],\n",
    "    'n_estimators': [50, 100, 150, 200, 250, 300, 350, 400],\n",
    "    'subsample': [0.8, 1.0],\n",
    "    'colsample_bytree': [0.6, 0.8, 1.0]\n",
    "}\n",
    "\n",
    "clf = xgb.XGBClassifier(random_state=42, eval_metric='mlogloss')\n",
    "grid_search = GridSearchCV(clf, params, cv=5, n_jobs=-1)\n",
    "grid_search.fit(X_train_scaled, y_train_int)\n",
    "\n",
    "best_clf = grid_search.best_estimator_\n",
    "\n",
    "# Validate and test metrics\n",
    "for label, group_name in enumerate(le.classes_):\n",
    "    y_val_label = (y_val_int == label).astype(int)\n",
    "    y_test_label = (y_test_int == label).astype(int)\n",
    "    y_val_pred_prob = best_clf.predict_proba(X_val_scaled)[:, label]\n",
    "    y_test_pred_prob = best_clf.predict_proba(X_test_scaled)[:, label]\n",
    "\n",
    "    fpr_val, tpr_val, _ = roc_curve(y_val_label, y_val_pred_prob)\n",
    "    fpr_test, tpr_test, _ = roc_curve(y_test_label, y_test_pred_prob)\n",
    "\n",
    "    print(f\"Validation ROC AUC for class {group_name} (Class {label}): {auc(fpr_val, tpr_val)}\")\n",
    "    print(f\"Test ROC AUC for class {group_name} (Class {label}): {auc(fpr_test, tpr_test)}\")\n",
    "\n",
    "y_val_pred = le.inverse_transform(best_clf.predict(X_val_scaled))\n",
    "y_test_pred = le.inverse_transform(best_clf.predict(X_test_scaled))\n",
    "\n",
    "print(\"\\nValidation Precision, Recall, F1-score:\\n\", classification_report(y_val, y_val_pred))\n",
    "print(\"\\nTest Precision, Recall, F1-score:\\n\", classification_report(y_test, y_test_pred))\n"
   ]
  },
  {
   "cell_type": "markdown",
   "id": "715ddd66-e442-48f9-aa23-8c7ce394df5d",
   "metadata": {},
   "source": [
    "### Logistic Regression"
   ]
  },
  {
   "cell_type": "code",
   "execution_count": 12,
   "id": "a6ce2f85-9ab1-4d7c-b892-26edd879a9f2",
   "metadata": {},
   "outputs": [
    {
     "name": "stdout",
     "output_type": "stream",
     "text": [
      "Validation ROC AUC for class A (Class 0): 0.6454545454545454\n",
      "Test ROC AUC for class A (Class 0): 0.6043956043956045\n",
      "Validation ROC AUC for class C (Class 1): 0.641025641025641\n",
      "Test ROC AUC for class C (Class 1): 0.6956521739130435\n",
      "Validation ROC AUC for class F (Class 2): 0.8571428571428571\n",
      "Test ROC AUC for class F (Class 2): 0.6941176470588235\n",
      "\n",
      "Validation Precision, Recall, F1-score:\n",
      "               precision    recall  f1-score   support\n",
      "\n",
      "           A       0.57      0.36      0.44        11\n",
      "           C       0.59      1.00      0.74        13\n",
      "           F       0.50      0.14      0.22         7\n",
      "\n",
      "    accuracy                           0.58        31\n",
      "   macro avg       0.55      0.50      0.47        31\n",
      "weighted avg       0.56      0.58      0.52        31\n",
      "\n",
      "\n",
      "Test Precision, Recall, F1-score:\n",
      "               precision    recall  f1-score   support\n",
      "\n",
      "           A       0.67      0.31      0.42        13\n",
      "           C       0.24      1.00      0.38         4\n",
      "           F       0.75      0.30      0.43        10\n",
      "\n",
      "    accuracy                           0.41        27\n",
      "   macro avg       0.55      0.54      0.41        27\n",
      "weighted avg       0.63      0.41      0.42        27\n",
      "\n"
     ]
    },
    {
     "name": "stderr",
     "output_type": "stream",
     "text": [
      "C:\\Users\\Windows\\AppData\\Local\\Programs\\Python\\Python311\\Lib\\site-packages\\sklearn\\linear_model\\_logistic.py:1222: UserWarning: 'n_jobs' > 1 does not have any effect when 'solver' is set to 'liblinear'. Got 'n_jobs' = 32.\n",
      "  warnings.warn(\n"
     ]
    }
   ],
   "source": [
    "from sklearn.linear_model import LogisticRegression\n",
    "from sklearn import metrics\n",
    "from sklearn.model_selection import train_test_split\n",
    "from sklearn.metrics import classification_report, roc_curve, auc\n",
    "from sklearn.preprocessing import LabelEncoder\n",
    "from sklearn.preprocessing import RobustScaler\n",
    "\n",
    "# The features are 'stationary_ratio' and 'Tik-norm'\n",
    "X = data[list(features.keys())]\n",
    "\n",
    "# The target is 'Group'\n",
    "y = data['Group']\n",
    "\n",
    "# Split the data into train+validation set and test set\n",
    "X_train_val, X_test, y_train_val, y_test = train_test_split(X, y, test_size=0.3, random_state=42)\n",
    "\n",
    "# Further split the train data into train set and validation set\n",
    "X_train, X_val, y_train, y_val = train_test_split(X_train_val, y_train_val, test_size=0.5, random_state=42)\n",
    "\n",
    "scaler = RobustScaler()\n",
    "X_train_scaled = scaler.fit_transform(X_train)\n",
    "X_val_scaled = scaler.transform(X_val)\n",
    "X_test_scaled = scaler.transform(X_test)\n",
    "\n",
    "# Encode labels\n",
    "le = LabelEncoder()\n",
    "y_train_int = le.fit_transform(y_train)\n",
    "y_val_int = le.transform(y_val)\n",
    "y_test_int = le.transform(y_test)\n",
    "\n",
    "clf = LogisticRegression(random_state=42, multi_class='auto', solver='liblinear', n_jobs=-1)\n",
    "clf.fit(X_train_scaled, y_train_int)\n",
    "\n",
    "# Validate and test metrics\n",
    "for label, group_name in enumerate(le.classes_):\n",
    "    y_val_label = (y_val_int == label).astype(int)\n",
    "    y_test_label = (y_test_int == label).astype(int)\n",
    "    y_val_pred_prob = clf.predict_proba(X_val_scaled)[:, label]\n",
    "    y_test_pred_prob = clf.predict_proba(X_test_scaled)[:, label]\n",
    "\n",
    "    fpr_val, tpr_val, _ = roc_curve(y_val_label, y_val_pred_prob)\n",
    "    fpr_test, tpr_test, _ = roc_curve(y_test_label, y_test_pred_prob)\n",
    "\n",
    "    print(f\"Validation ROC AUC for class {group_name} (Class {label}): {auc(fpr_val, tpr_val)}\")\n",
    "    print(f\"Test ROC AUC for class {group_name} (Class {label}): {auc(fpr_test, tpr_test)}\")\n",
    "\n",
    "y_val_pred = le.inverse_transform(clf.predict(X_val_scaled))\n",
    "y_test_pred = le.inverse_transform(clf.predict(X_test_scaled))\n",
    "\n",
    "print(\"\\nValidation Precision, Recall, F1-score:\\n\", classification_report(y_val, y_val_pred))\n",
    "print(\"\\nTest Precision, Recall, F1-score:\\n\", classification_report(y_test, y_test_pred))\n"
   ]
  },
  {
   "cell_type": "markdown",
   "id": "d1286ffb-b034-44a9-96e3-a54902fa0af1",
   "metadata": {},
   "source": [
    "### SVM"
   ]
  },
  {
   "cell_type": "code",
   "execution_count": 13,
   "id": "0ace7e44-d131-4b2f-a8a9-981e3a66c1a9",
   "metadata": {},
   "outputs": [
    {
     "name": "stdout",
     "output_type": "stream",
     "text": [
      "Validation ROC AUC for class A (Class 0): 0.4409090909090909\n",
      "Test ROC AUC for class A (Class 0): 0.4340659340659341\n",
      "Validation ROC AUC for class C (Class 1): 0.44017094017094016\n",
      "Test ROC AUC for class C (Class 1): 0.5760869565217391\n",
      "Validation ROC AUC for class F (Class 2): 0.5714285714285715\n",
      "Test ROC AUC for class F (Class 2): 0.4823529411764706\n",
      "\n",
      "Validation Precision, Recall, F1-score:\n",
      "               precision    recall  f1-score   support\n",
      "\n",
      "           A       0.57      0.36      0.44        11\n",
      "           C       0.59      1.00      0.74        13\n",
      "           F       0.50      0.14      0.22         7\n",
      "\n",
      "    accuracy                           0.58        31\n",
      "   macro avg       0.55      0.50      0.47        31\n",
      "weighted avg       0.56      0.58      0.52        31\n",
      "\n",
      "\n",
      "Test Precision, Recall, F1-score:\n",
      "               precision    recall  f1-score   support\n",
      "\n",
      "           A       0.60      0.23      0.33        13\n",
      "           C       0.21      1.00      0.35         4\n",
      "           F       1.00      0.30      0.46        10\n",
      "\n",
      "    accuracy                           0.37        27\n",
      "   macro avg       0.60      0.51      0.38        27\n",
      "weighted avg       0.69      0.37      0.38        27\n",
      "\n"
     ]
    }
   ],
   "source": [
    "from sklearn.svm import SVC\n",
    "from sklearn import metrics\n",
    "from sklearn.model_selection import train_test_split\n",
    "from sklearn.metrics import classification_report, roc_curve, auc\n",
    "from sklearn.preprocessing import LabelEncoder\n",
    "from sklearn.preprocessing import RobustScaler\n",
    "\n",
    "# The features are 'stationary_ratio' and 'Tik-norm'\n",
    "X = data[list(features.keys())]\n",
    "\n",
    "# The target is 'Group'\n",
    "y = data['Group']\n",
    "\n",
    "# Split the data into train+validation set and test set\n",
    "X_train_val, X_test, y_train_val, y_test = train_test_split(X, y, test_size=0.3, random_state=42)\n",
    "\n",
    "# Further split the train data into train set and validation set\n",
    "X_train, X_val, y_train, y_val = train_test_split(X_train_val, y_train_val, test_size=0.5, random_state=42)\n",
    "\n",
    "scaler = RobustScaler()\n",
    "X_train_scaled = scaler.fit_transform(X_train)\n",
    "X_val_scaled = scaler.transform(X_val)\n",
    "X_test_scaled = scaler.transform(X_test)\n",
    "\n",
    "# Encode labels\n",
    "le = LabelEncoder()\n",
    "y_train_int = le.fit_transform(y_train)\n",
    "y_val_int = le.transform(y_val)\n",
    "y_test_int = le.transform(y_test)\n",
    "\n",
    "clf = SVC(probability=True, kernel='linear', random_state=42) # You can change the kernel as needed\n",
    "clf.fit(X_train_scaled, y_train_int)\n",
    "\n",
    "# Validate and test metrics\n",
    "for label, group_name in enumerate(le.classes_):\n",
    "    y_val_label = (y_val_int == label).astype(int)\n",
    "    y_test_label = (y_test_int == label).astype(int)\n",
    "    y_val_pred_prob = clf.predict_proba(X_val_scaled)[:, label]\n",
    "    y_test_pred_prob = clf.predict_proba(X_test_scaled)[:, label]\n",
    "\n",
    "    fpr_val, tpr_val, _ = roc_curve(y_val_label, y_val_pred_prob)\n",
    "    fpr_test, tpr_test, _ = roc_curve(y_test_label, y_test_pred_prob)\n",
    "\n",
    "    print(f\"Validation ROC AUC for class {group_name} (Class {label}): {auc(fpr_val, tpr_val)}\")\n",
    "    print(f\"Test ROC AUC for class {group_name} (Class {label}): {auc(fpr_test, tpr_test)}\")\n",
    "\n",
    "y_val_pred = le.inverse_transform(clf.predict(X_val_scaled))\n",
    "y_test_pred = le.inverse_transform(clf.predict(X_test_scaled))\n",
    "\n",
    "print(\"\\nValidation Precision, Recall, F1-score:\\n\", classification_report(y_val, y_val_pred))\n",
    "print(\"\\nTest Precision, Recall, F1-score:\\n\", classification_report(y_test, y_test_pred))\n"
   ]
  },
  {
   "cell_type": "markdown",
   "id": "41938865-15a1-4495-9756-0f9f24993ee1",
   "metadata": {},
   "source": [
    "### Naive Bayes"
   ]
  },
  {
   "cell_type": "code",
   "execution_count": 14,
   "id": "5c6062a9-9f24-41e2-8ed7-13197bf1515e",
   "metadata": {},
   "outputs": [
    {
     "name": "stdout",
     "output_type": "stream",
     "text": [
      "Validation ROC AUC for class A (Class 0): 0.6181818181818182\n",
      "Test ROC AUC for class A (Class 0): 0.5631868131868132\n",
      "Validation ROC AUC for class C (Class 1): 0.7008547008547008\n",
      "Test ROC AUC for class C (Class 1): 0.9239130434782609\n",
      "Validation ROC AUC for class F (Class 2): 0.7559523809523809\n",
      "Test ROC AUC for class F (Class 2): 0.6941176470588236\n",
      "\n",
      "Validation Precision, Recall, F1-score:\n",
      "               precision    recall  f1-score   support\n",
      "\n",
      "           A       0.50      0.09      0.15        11\n",
      "           C       0.55      0.92      0.69        13\n",
      "           F       0.57      0.57      0.57         7\n",
      "\n",
      "    accuracy                           0.55        31\n",
      "   macro avg       0.54      0.53      0.47        31\n",
      "weighted avg       0.54      0.55      0.47        31\n",
      "\n",
      "\n",
      "Test Precision, Recall, F1-score:\n",
      "               precision    recall  f1-score   support\n",
      "\n",
      "           A       0.50      0.15      0.24        13\n",
      "           C       0.27      1.00      0.42         4\n",
      "           F       0.75      0.60      0.67        10\n",
      "\n",
      "    accuracy                           0.44        27\n",
      "   macro avg       0.51      0.58      0.44        27\n",
      "weighted avg       0.56      0.44      0.42        27\n",
      "\n"
     ]
    }
   ],
   "source": [
    "from sklearn.naive_bayes import GaussianNB\n",
    "from sklearn import metrics\n",
    "from sklearn.model_selection import train_test_split\n",
    "from sklearn.metrics import classification_report, roc_curve, auc\n",
    "from sklearn.preprocessing import LabelEncoder\n",
    "from sklearn.preprocessing import RobustScaler\n",
    "\n",
    "# The features are 'stationary_ratio' and 'Tik-norm'\n",
    "X = data[list(features.keys())]\n",
    "\n",
    "# The target is 'Group'\n",
    "y = data['Group']\n",
    "\n",
    "# Split the data into train+validation set and test set\n",
    "X_train_val, X_test, y_train_val, y_test = train_test_split(X, y, test_size=0.3, random_state=42)\n",
    "\n",
    "# Further split the train data into train set and validation set\n",
    "X_train, X_val, y_train, y_val = train_test_split(X_train_val, y_train_val, test_size=0.5, random_state=42)\n",
    "\n",
    "scaler = RobustScaler()\n",
    "X_train_scaled = scaler.fit_transform(X_train)\n",
    "X_val_scaled = scaler.transform(X_val)\n",
    "X_test_scaled = scaler.transform(X_test)\n",
    "\n",
    "# Encode labels\n",
    "le = LabelEncoder()\n",
    "y_train_int = le.fit_transform(y_train)\n",
    "y_val_int = le.transform(y_val)\n",
    "y_test_int = le.transform(y_test)\n",
    "\n",
    "clf = GaussianNB()\n",
    "clf.fit(X_train_scaled, y_train_int)\n",
    "\n",
    "# Validate and test metrics\n",
    "for label, group_name in enumerate(le.classes_):\n",
    "    y_val_label = (y_val_int == label).astype(int)\n",
    "    y_test_label = (y_test_int == label).astype(int)\n",
    "    y_val_pred_prob = clf.predict_proba(X_val_scaled)[:, label]\n",
    "    y_test_pred_prob = clf.predict_proba(X_test_scaled)[:, label]\n",
    "\n",
    "    fpr_val, tpr_val, _ = roc_curve(y_val_label, y_val_pred_prob)\n",
    "    fpr_test, tpr_test, _ = roc_curve(y_test_label, y_test_pred_prob)\n",
    "\n",
    "    print(f\"Validation ROC AUC for class {group_name} (Class {label}): {auc(fpr_val, tpr_val)}\")\n",
    "    print(f\"Test ROC AUC for class {group_name} (Class {label}): {auc(fpr_test, tpr_test)}\")\n",
    "\n",
    "y_val_pred = le.inverse_transform(clf.predict(X_val_scaled))\n",
    "y_test_pred = le.inverse_transform(clf.predict(X_test_scaled))\n",
    "\n",
    "print(\"\\nValidation Precision, Recall, F1-score:\\n\", classification_report(y_val, y_val_pred))\n",
    "print(\"\\nTest Precision, Recall, F1-score:\\n\", classification_report(y_test, y_test_pred))\n"
   ]
  },
  {
   "cell_type": "markdown",
   "id": "4161f2af-6dcf-472f-9c67-42d79da3ebc8",
   "metadata": {},
   "source": [
    "### TabTransformer"
   ]
  },
  {
   "cell_type": "code",
   "execution_count": 15,
   "id": "d80642b2-cfe8-4b0f-90e2-026e3d2cfe66",
   "metadata": {},
   "outputs": [
    {
     "data": {
      "text/html": [
       "<pre style=\"white-space:pre;overflow-x:auto;line-height:normal;font-family:Menlo,'DejaVu Sans Mono',consolas,'Courier New',monospace\"><span style=\"color: #008080; text-decoration-color: #008080; font-weight: bold\">2023</span>-<span style=\"color: #008080; text-decoration-color: #008080; font-weight: bold\">08</span>-<span style=\"color: #008080; text-decoration-color: #008080; font-weight: bold\">31</span> <span style=\"color: #00ff00; text-decoration-color: #00ff00; font-weight: bold\">09:32:51</span>,<span style=\"color: #008080; text-decoration-color: #008080; font-weight: bold\">801</span> - <span style=\"font-weight: bold\">{</span>pytorch_tabular.tabular_model:<span style=\"color: #008080; text-decoration-color: #008080; font-weight: bold\">105</span><span style=\"font-weight: bold\">}</span> - INFO - Experiment Tracking is turned off           \n",
       "</pre>\n"
      ],
      "text/plain": [
       "\u001b[1;36m2023\u001b[0m-\u001b[1;36m08\u001b[0m-\u001b[1;36m31\u001b[0m \u001b[1;92m09:32:51\u001b[0m,\u001b[1;36m801\u001b[0m - \u001b[1m{\u001b[0mpytorch_tabular.tabular_model:\u001b[1;36m105\u001b[0m\u001b[1m}\u001b[0m - INFO - Experiment Tracking is turned off           \n"
      ]
     },
     "metadata": {},
     "output_type": "display_data"
    },
    {
     "name": "stderr",
     "output_type": "stream",
     "text": [
      "Global seed set to 42\n"
     ]
    },
    {
     "data": {
      "text/html": [
       "<pre style=\"white-space:pre;overflow-x:auto;line-height:normal;font-family:Menlo,'DejaVu Sans Mono',consolas,'Courier New',monospace\"><span style=\"color: #008080; text-decoration-color: #008080; font-weight: bold\">2023</span>-<span style=\"color: #008080; text-decoration-color: #008080; font-weight: bold\">08</span>-<span style=\"color: #008080; text-decoration-color: #008080; font-weight: bold\">31</span> <span style=\"color: #00ff00; text-decoration-color: #00ff00; font-weight: bold\">09:32:51</span>,<span style=\"color: #008080; text-decoration-color: #008080; font-weight: bold\">818</span> - <span style=\"font-weight: bold\">{</span>pytorch_tabular.tabular_model:<span style=\"color: #008080; text-decoration-color: #008080; font-weight: bold\">473</span><span style=\"font-weight: bold\">}</span> - INFO - Preparing the DataLoaders                   \n",
       "</pre>\n"
      ],
      "text/plain": [
       "\u001b[1;36m2023\u001b[0m-\u001b[1;36m08\u001b[0m-\u001b[1;36m31\u001b[0m \u001b[1;92m09:32:51\u001b[0m,\u001b[1;36m818\u001b[0m - \u001b[1m{\u001b[0mpytorch_tabular.tabular_model:\u001b[1;36m473\u001b[0m\u001b[1m}\u001b[0m - INFO - Preparing the DataLoaders                   \n"
      ]
     },
     "metadata": {},
     "output_type": "display_data"
    },
    {
     "data": {
      "text/html": [
       "<pre style=\"white-space:pre;overflow-x:auto;line-height:normal;font-family:Menlo,'DejaVu Sans Mono',consolas,'Courier New',monospace\"><span style=\"color: #008080; text-decoration-color: #008080; font-weight: bold\">2023</span>-<span style=\"color: #008080; text-decoration-color: #008080; font-weight: bold\">08</span>-<span style=\"color: #008080; text-decoration-color: #008080; font-weight: bold\">31</span> <span style=\"color: #00ff00; text-decoration-color: #00ff00; font-weight: bold\">09:32:51</span>,<span style=\"color: #008080; text-decoration-color: #008080; font-weight: bold\">821</span> - <span style=\"font-weight: bold\">{</span>pytorch_tabular.tabular_datamodul<span style=\"color: #00ff00; text-decoration-color: #00ff00; font-weight: bold\">e:290</span><span style=\"font-weight: bold\">}</span> - INFO - Setting up the datamodule for          \n",
       "classification task                                                                                                \n",
       "</pre>\n"
      ],
      "text/plain": [
       "\u001b[1;36m2023\u001b[0m-\u001b[1;36m08\u001b[0m-\u001b[1;36m31\u001b[0m \u001b[1;92m09:32:51\u001b[0m,\u001b[1;36m821\u001b[0m - \u001b[1m{\u001b[0mpytorch_tabular.tabular_datamodul\u001b[1;92me:290\u001b[0m\u001b[1m}\u001b[0m - INFO - Setting up the datamodule for          \n",
       "classification task                                                                                                \n"
      ]
     },
     "metadata": {},
     "output_type": "display_data"
    },
    {
     "data": {
      "text/html": [
       "<pre style=\"white-space:pre;overflow-x:auto;line-height:normal;font-family:Menlo,'DejaVu Sans Mono',consolas,'Courier New',monospace\"><span style=\"color: #008080; text-decoration-color: #008080; font-weight: bold\">2023</span>-<span style=\"color: #008080; text-decoration-color: #008080; font-weight: bold\">08</span>-<span style=\"color: #008080; text-decoration-color: #008080; font-weight: bold\">31</span> <span style=\"color: #00ff00; text-decoration-color: #00ff00; font-weight: bold\">09:32:51</span>,<span style=\"color: #008080; text-decoration-color: #008080; font-weight: bold\">831</span> - <span style=\"font-weight: bold\">{</span>pytorch_tabular.tabular_model:<span style=\"color: #008080; text-decoration-color: #008080; font-weight: bold\">521</span><span style=\"font-weight: bold\">}</span> - INFO - Preparing the Model: TabTransformerModel    \n",
       "</pre>\n"
      ],
      "text/plain": [
       "\u001b[1;36m2023\u001b[0m-\u001b[1;36m08\u001b[0m-\u001b[1;36m31\u001b[0m \u001b[1;92m09:32:51\u001b[0m,\u001b[1;36m831\u001b[0m - \u001b[1m{\u001b[0mpytorch_tabular.tabular_model:\u001b[1;36m521\u001b[0m\u001b[1m}\u001b[0m - INFO - Preparing the Model: TabTransformerModel    \n"
      ]
     },
     "metadata": {},
     "output_type": "display_data"
    },
    {
     "data": {
      "text/html": [
       "<pre style=\"white-space:pre;overflow-x:auto;line-height:normal;font-family:Menlo,'DejaVu Sans Mono',consolas,'Courier New',monospace\"><span style=\"color: #008080; text-decoration-color: #008080; font-weight: bold\">2023</span>-<span style=\"color: #008080; text-decoration-color: #008080; font-weight: bold\">08</span>-<span style=\"color: #008080; text-decoration-color: #008080; font-weight: bold\">31</span> <span style=\"color: #00ff00; text-decoration-color: #00ff00; font-weight: bold\">09:32:52</span>,<span style=\"color: #008080; text-decoration-color: #008080; font-weight: bold\">036</span> - <span style=\"font-weight: bold\">{</span>pytorch_tabular.tabular_model:<span style=\"color: #008080; text-decoration-color: #008080; font-weight: bold\">268</span><span style=\"font-weight: bold\">}</span> - INFO - Preparing the Trainer                       \n",
       "</pre>\n"
      ],
      "text/plain": [
       "\u001b[1;36m2023\u001b[0m-\u001b[1;36m08\u001b[0m-\u001b[1;36m31\u001b[0m \u001b[1;92m09:32:52\u001b[0m,\u001b[1;36m036\u001b[0m - \u001b[1m{\u001b[0mpytorch_tabular.tabular_model:\u001b[1;36m268\u001b[0m\u001b[1m}\u001b[0m - INFO - Preparing the Trainer                       \n"
      ]
     },
     "metadata": {},
     "output_type": "display_data"
    },
    {
     "name": "stderr",
     "output_type": "stream",
     "text": [
      "C:\\Users\\Windows\\AppData\\Local\\Programs\\Python\\Python311\\Lib\\site-packages\\pytorch_lightning\\trainer\\connectors\\accelerator_connector.py:589: LightningDeprecationWarning: The Trainer argument `auto_select_gpus` has been deprecated in v1.9.0 and will be removed in v2.0.0. Please use the function `pytorch_lightning.accelerators.find_usable_cuda_devices` instead.\n",
      "  rank_zero_deprecation(\n",
      "Auto select gpus: [0]\n",
      "GPU available: True (cuda), used: True\n",
      "TPU available: False, using: 0 TPU cores\n",
      "IPU available: False, using: 0 IPUs\n",
      "HPU available: False, using: 0 HPUs\n"
     ]
    },
    {
     "data": {
      "text/html": [
       "<pre style=\"white-space:pre;overflow-x:auto;line-height:normal;font-family:Menlo,'DejaVu Sans Mono',consolas,'Courier New',monospace\"><span style=\"color: #008080; text-decoration-color: #008080; font-weight: bold\">2023</span>-<span style=\"color: #008080; text-decoration-color: #008080; font-weight: bold\">08</span>-<span style=\"color: #008080; text-decoration-color: #008080; font-weight: bold\">31</span> <span style=\"color: #00ff00; text-decoration-color: #00ff00; font-weight: bold\">09:32:52</span>,<span style=\"color: #008080; text-decoration-color: #008080; font-weight: bold\">139</span> - <span style=\"font-weight: bold\">{</span>pytorch_tabular.tabular_model:<span style=\"color: #008080; text-decoration-color: #008080; font-weight: bold\">573</span><span style=\"font-weight: bold\">}</span> - INFO - Auto LR Find Started                        \n",
       "</pre>\n"
      ],
      "text/plain": [
       "\u001b[1;36m2023\u001b[0m-\u001b[1;36m08\u001b[0m-\u001b[1;36m31\u001b[0m \u001b[1;92m09:32:52\u001b[0m,\u001b[1;36m139\u001b[0m - \u001b[1m{\u001b[0mpytorch_tabular.tabular_model:\u001b[1;36m573\u001b[0m\u001b[1m}\u001b[0m - INFO - Auto LR Find Started                        \n"
      ]
     },
     "metadata": {},
     "output_type": "display_data"
    },
    {
     "name": "stderr",
     "output_type": "stream",
     "text": [
      "You are using a CUDA device ('NVIDIA RTX A6000') that has Tensor Cores. To properly utilize them, you should set `torch.set_float32_matmul_precision('medium' | 'high')` which will trade-off precision for performance. For more details, read https://pytorch.org/docs/stable/generated/torch.set_float32_matmul_precision.html#torch.set_float32_matmul_precision\n",
      "LOCAL_RANK: 0 - CUDA_VISIBLE_DEVICES: [0,1]\n"
     ]
    },
    {
     "data": {
      "application/vnd.jupyter.widget-view+json": {
       "model_id": "8028ec560ab3493cb4710f387bba4a6b",
       "version_major": 2,
       "version_minor": 0
      },
      "text/plain": [
       "Finding best initial lr:   0%|          | 0/100 [00:00<?, ?it/s]"
      ]
     },
     "metadata": {},
     "output_type": "display_data"
    },
    {
     "name": "stderr",
     "output_type": "stream",
     "text": [
      "`Trainer.fit` stopped: `max_steps=100` reached.\n",
      "Learning rate set to 0.13182567385564073\n",
      "Restoring states from the checkpoint path at C:\\Users\\Windows\\Desktop\\EEG\\.lr_find_ddaf83ea-3407-4e76-9528-46e3d1cbce34.ckpt\n",
      "Restored all states from the checkpoint file at C:\\Users\\Windows\\Desktop\\EEG\\.lr_find_ddaf83ea-3407-4e76-9528-46e3d1cbce34.ckpt\n"
     ]
    },
    {
     "data": {
      "text/html": [
       "<pre style=\"white-space:pre;overflow-x:auto;line-height:normal;font-family:Menlo,'DejaVu Sans Mono',consolas,'Courier New',monospace\"><span style=\"color: #008080; text-decoration-color: #008080; font-weight: bold\">2023</span>-<span style=\"color: #008080; text-decoration-color: #008080; font-weight: bold\">08</span>-<span style=\"color: #008080; text-decoration-color: #008080; font-weight: bold\">31</span> <span style=\"color: #00ff00; text-decoration-color: #00ff00; font-weight: bold\">09:32:54</span>,<span style=\"color: #008080; text-decoration-color: #008080; font-weight: bold\">857</span> - <span style=\"font-weight: bold\">{</span>pytorch_tabular.tabular_model:<span style=\"color: #008080; text-decoration-color: #008080; font-weight: bold\">575</span><span style=\"font-weight: bold\">}</span> - INFO - Suggested LR: <span style=\"color: #008080; text-decoration-color: #008080; font-weight: bold\">0.13182567385564073</span>. For plot \n",
       "and detailed analysis, use `find_learning_rate` method.                                                            \n",
       "</pre>\n"
      ],
      "text/plain": [
       "\u001b[1;36m2023\u001b[0m-\u001b[1;36m08\u001b[0m-\u001b[1;36m31\u001b[0m \u001b[1;92m09:32:54\u001b[0m,\u001b[1;36m857\u001b[0m - \u001b[1m{\u001b[0mpytorch_tabular.tabular_model:\u001b[1;36m575\u001b[0m\u001b[1m}\u001b[0m - INFO - Suggested LR: \u001b[1;36m0.13182567385564073\u001b[0m. For plot \n",
       "and detailed analysis, use `find_learning_rate` method.                                                            \n"
      ]
     },
     "metadata": {},
     "output_type": "display_data"
    },
    {
     "data": {
      "text/html": [
       "<pre style=\"white-space:pre;overflow-x:auto;line-height:normal;font-family:Menlo,'DejaVu Sans Mono',consolas,'Courier New',monospace\"><span style=\"color: #008080; text-decoration-color: #008080; font-weight: bold\">2023</span>-<span style=\"color: #008080; text-decoration-color: #008080; font-weight: bold\">08</span>-<span style=\"color: #008080; text-decoration-color: #008080; font-weight: bold\">31</span> <span style=\"color: #00ff00; text-decoration-color: #00ff00; font-weight: bold\">09:32:54</span>,<span style=\"color: #008080; text-decoration-color: #008080; font-weight: bold\">860</span> - <span style=\"font-weight: bold\">{</span>pytorch_tabular.tabular_model:<span style=\"color: #008080; text-decoration-color: #008080; font-weight: bold\">582</span><span style=\"font-weight: bold\">}</span> - INFO - Training Started                            \n",
       "</pre>\n"
      ],
      "text/plain": [
       "\u001b[1;36m2023\u001b[0m-\u001b[1;36m08\u001b[0m-\u001b[1;36m31\u001b[0m \u001b[1;92m09:32:54\u001b[0m,\u001b[1;36m860\u001b[0m - \u001b[1m{\u001b[0mpytorch_tabular.tabular_model:\u001b[1;36m582\u001b[0m\u001b[1m}\u001b[0m - INFO - Training Started                            \n"
      ]
     },
     "metadata": {},
     "output_type": "display_data"
    },
    {
     "name": "stderr",
     "output_type": "stream",
     "text": [
      "You are using a CUDA device ('NVIDIA RTX A6000') that has Tensor Cores. To properly utilize them, you should set `torch.set_float32_matmul_precision('medium' | 'high')` which will trade-off precision for performance. For more details, read https://pytorch.org/docs/stable/generated/torch.set_float32_matmul_precision.html#torch.set_float32_matmul_precision\n",
      "LOCAL_RANK: 0 - CUDA_VISIBLE_DEVICES: [0,1]\n"
     ]
    },
    {
     "data": {
      "text/html": [
       "<pre style=\"white-space:pre;overflow-x:auto;line-height:normal;font-family:Menlo,'DejaVu Sans Mono',consolas,'Courier New',monospace\">┏━━━┳━━━━━━━━━━━━━━━━━━┳━━━━━━━━━━━━━━━━━━━━━━━━┳━━━━━━━━┓\n",
       "┃<span style=\"color: #800080; text-decoration-color: #800080; font-weight: bold\">   </span>┃<span style=\"color: #800080; text-decoration-color: #800080; font-weight: bold\"> Name             </span>┃<span style=\"color: #800080; text-decoration-color: #800080; font-weight: bold\"> Type                   </span>┃<span style=\"color: #800080; text-decoration-color: #800080; font-weight: bold\"> Params </span>┃\n",
       "┡━━━╇━━━━━━━━━━━━━━━━━━╇━━━━━━━━━━━━━━━━━━━━━━━━╇━━━━━━━━┩\n",
       "│<span style=\"color: #7f7f7f; text-decoration-color: #7f7f7f\"> 0 </span>│ _backbone        │ TabTransformerBackbone │  1.2 M │\n",
       "│<span style=\"color: #7f7f7f; text-decoration-color: #7f7f7f\"> 1 </span>│ _embedding_layer │ Embedding2dLayer       │      0 │\n",
       "│<span style=\"color: #7f7f7f; text-decoration-color: #7f7f7f\"> 2 </span>│ _head            │ LinearHead             │     30 │\n",
       "│<span style=\"color: #7f7f7f; text-decoration-color: #7f7f7f\"> 3 </span>│ loss             │ CrossEntropyLoss       │      0 │\n",
       "└───┴──────────────────┴────────────────────────┴────────┘\n",
       "</pre>\n"
      ],
      "text/plain": [
       "┏━━━┳━━━━━━━━━━━━━━━━━━┳━━━━━━━━━━━━━━━━━━━━━━━━┳━━━━━━━━┓\n",
       "┃\u001b[1;35m \u001b[0m\u001b[1;35m \u001b[0m\u001b[1;35m \u001b[0m┃\u001b[1;35m \u001b[0m\u001b[1;35mName            \u001b[0m\u001b[1;35m \u001b[0m┃\u001b[1;35m \u001b[0m\u001b[1;35mType                  \u001b[0m\u001b[1;35m \u001b[0m┃\u001b[1;35m \u001b[0m\u001b[1;35mParams\u001b[0m\u001b[1;35m \u001b[0m┃\n",
       "┡━━━╇━━━━━━━━━━━━━━━━━━╇━━━━━━━━━━━━━━━━━━━━━━━━╇━━━━━━━━┩\n",
       "│\u001b[2m \u001b[0m\u001b[2m0\u001b[0m\u001b[2m \u001b[0m│ _backbone        │ TabTransformerBackbone │  1.2 M │\n",
       "│\u001b[2m \u001b[0m\u001b[2m1\u001b[0m\u001b[2m \u001b[0m│ _embedding_layer │ Embedding2dLayer       │      0 │\n",
       "│\u001b[2m \u001b[0m\u001b[2m2\u001b[0m\u001b[2m \u001b[0m│ _head            │ LinearHead             │     30 │\n",
       "│\u001b[2m \u001b[0m\u001b[2m3\u001b[0m\u001b[2m \u001b[0m│ loss             │ CrossEntropyLoss       │      0 │\n",
       "└───┴──────────────────┴────────────────────────┴────────┘\n"
      ]
     },
     "metadata": {},
     "output_type": "display_data"
    },
    {
     "data": {
      "text/html": [
       "<pre style=\"white-space:pre;overflow-x:auto;line-height:normal;font-family:Menlo,'DejaVu Sans Mono',consolas,'Courier New',monospace\"><span style=\"font-weight: bold\">Trainable params</span>: 1.2 M                                                                                            \n",
       "<span style=\"font-weight: bold\">Non-trainable params</span>: 0                                                                                            \n",
       "<span style=\"font-weight: bold\">Total params</span>: 1.2 M                                                                                                \n",
       "<span style=\"font-weight: bold\">Total estimated model params size (MB)</span>: 4                                                                          \n",
       "</pre>\n"
      ],
      "text/plain": [
       "\u001b[1mTrainable params\u001b[0m: 1.2 M                                                                                            \n",
       "\u001b[1mNon-trainable params\u001b[0m: 0                                                                                            \n",
       "\u001b[1mTotal params\u001b[0m: 1.2 M                                                                                                \n",
       "\u001b[1mTotal estimated model params size (MB)\u001b[0m: 4                                                                          \n"
      ]
     },
     "metadata": {},
     "output_type": "display_data"
    },
    {
     "data": {
      "application/vnd.jupyter.widget-view+json": {
       "model_id": "ccfe87d068224d7b8d9b8a5770709720",
       "version_major": 2,
       "version_minor": 0
      },
      "text/plain": [
       "Output()"
      ]
     },
     "metadata": {},
     "output_type": "display_data"
    },
    {
     "name": "stderr",
     "output_type": "stream",
     "text": [
      "IOPub message rate exceeded.\n",
      "The Jupyter server will temporarily stop sending output\n",
      "to the client in order to avoid crashing it.\n",
      "To change this limit, set the config variable\n",
      "`--ServerApp.iopub_msg_rate_limit`.\n",
      "\n",
      "Current values:\n",
      "ServerApp.iopub_msg_rate_limit=1000.0 (msgs/sec)\n",
      "ServerApp.rate_limit_window=3.0 (secs)\n",
      "\n",
      "You are using a CUDA device ('NVIDIA RTX A6000') that has Tensor Cores. To properly utilize them, you should set `torch.set_float32_matmul_precision('medium' | 'high')` which will trade-off precision for performance. For more details, read https://pytorch.org/docs/stable/generated/torch.set_float32_matmul_precision.html#torch.set_float32_matmul_precision\n",
      "LOCAL_RANK: 0 - CUDA_VISIBLE_DEVICES: [0,1]\n"
     ]
    },
    {
     "data": {
      "application/vnd.jupyter.widget-view+json": {
       "model_id": "383eb786c1b24f46a3aeed0c32e9b577",
       "version_major": 2,
       "version_minor": 0
      },
      "text/plain": [
       "Output()"
      ]
     },
     "metadata": {},
     "output_type": "display_data"
    },
    {
     "data": {
      "text/html": [
       "<pre style=\"white-space:pre;overflow-x:auto;line-height:normal;font-family:Menlo,'DejaVu Sans Mono',consolas,'Courier New',monospace\">┏━━━━━━━━━━━━━━━━━━━━━━━━━━━┳━━━━━━━━━━━━━━━━━━━━━━━━━━━┓\n",
       "┃<span style=\"font-weight: bold\">   Runningstage.testing    </span>┃<span style=\"font-weight: bold\">                           </span>┃\n",
       "┃<span style=\"font-weight: bold\">          metric           </span>┃<span style=\"font-weight: bold\">       DataLoader 0        </span>┃\n",
       "┡━━━━━━━━━━━━━━━━━━━━━━━━━━━╇━━━━━━━━━━━━━━━━━━━━━━━━━━━┩\n",
       "│<span style=\"color: #008080; text-decoration-color: #008080\">       test_accuracy       </span>│<span style=\"color: #800080; text-decoration-color: #800080\">    0.2142857164144516     </span>│\n",
       "│<span style=\"color: #008080; text-decoration-color: #008080\">         test_loss         </span>│<span style=\"color: #800080; text-decoration-color: #800080\">    1.2680500745773315     </span>│\n",
       "└───────────────────────────┴───────────────────────────┘\n",
       "</pre>\n"
      ],
      "text/plain": [
       "┏━━━━━━━━━━━━━━━━━━━━━━━━━━━┳━━━━━━━━━━━━━━━━━━━━━━━━━━━┓\n",
       "┃\u001b[1m \u001b[0m\u001b[1m  Runningstage.testing   \u001b[0m\u001b[1m \u001b[0m┃\u001b[1m                           \u001b[0m┃\n",
       "┃\u001b[1m \u001b[0m\u001b[1m         metric          \u001b[0m\u001b[1m \u001b[0m┃\u001b[1m \u001b[0m\u001b[1m      DataLoader 0       \u001b[0m\u001b[1m \u001b[0m┃\n",
       "┡━━━━━━━━━━━━━━━━━━━━━━━━━━━╇━━━━━━━━━━━━━━━━━━━━━━━━━━━┩\n",
       "│\u001b[36m \u001b[0m\u001b[36m      test_accuracy      \u001b[0m\u001b[36m \u001b[0m│\u001b[35m \u001b[0m\u001b[35m   0.2142857164144516    \u001b[0m\u001b[35m \u001b[0m│\n",
       "│\u001b[36m \u001b[0m\u001b[36m        test_loss        \u001b[0m\u001b[36m \u001b[0m│\u001b[35m \u001b[0m\u001b[35m   1.2680500745773315    \u001b[0m\u001b[35m \u001b[0m│\n",
       "└───────────────────────────┴───────────────────────────┘\n"
      ]
     },
     "metadata": {},
     "output_type": "display_data"
    },
    {
     "data": {
      "text/html": [
       "<pre style=\"white-space:pre;overflow-x:auto;line-height:normal;font-family:Menlo,'DejaVu Sans Mono',consolas,'Courier New',monospace\"></pre>\n"
      ],
      "text/plain": []
     },
     "metadata": {},
     "output_type": "display_data"
    },
    {
     "data": {
      "text/html": [
       "<pre style=\"white-space:pre;overflow-x:auto;line-height:normal;font-family:Menlo,'DejaVu Sans Mono',consolas,'Courier New',monospace\">\n",
       "</pre>\n"
      ],
      "text/plain": [
       "\n"
      ]
     },
     "metadata": {},
     "output_type": "display_data"
    },
    {
     "name": "stderr",
     "output_type": "stream",
     "text": [
      "You are using a CUDA device ('NVIDIA RTX A6000') that has Tensor Cores. To properly utilize them, you should set `torch.set_float32_matmul_precision('medium' | 'high')` which will trade-off precision for performance. For more details, read https://pytorch.org/docs/stable/generated/torch.set_float32_matmul_precision.html#torch.set_float32_matmul_precision\n",
      "LOCAL_RANK: 0 - CUDA_VISIBLE_DEVICES: [0,1]\n"
     ]
    },
    {
     "data": {
      "application/vnd.jupyter.widget-view+json": {
       "model_id": "ac5e63ba08a74683800c2da46f03aa6c",
       "version_major": 2,
       "version_minor": 0
      },
      "text/plain": [
       "Output()"
      ]
     },
     "metadata": {},
     "output_type": "display_data"
    },
    {
     "data": {
      "text/html": [
       "<pre style=\"white-space:pre;overflow-x:auto;line-height:normal;font-family:Menlo,'DejaVu Sans Mono',consolas,'Courier New',monospace\">┏━━━━━━━━━━━━━━━━━━━━━━━━━━━┳━━━━━━━━━━━━━━━━━━━━━━━━━━━┓\n",
       "┃<span style=\"font-weight: bold\">   Runningstage.testing    </span>┃<span style=\"font-weight: bold\">                           </span>┃\n",
       "┃<span style=\"font-weight: bold\">          metric           </span>┃<span style=\"font-weight: bold\">       DataLoader 0        </span>┃\n",
       "┡━━━━━━━━━━━━━━━━━━━━━━━━━━━╇━━━━━━━━━━━━━━━━━━━━━━━━━━━┩\n",
       "│<span style=\"color: #008080; text-decoration-color: #008080\">       test_accuracy       </span>│<span style=\"color: #800080; text-decoration-color: #800080\">    0.5384615659713745     </span>│\n",
       "│<span style=\"color: #008080; text-decoration-color: #008080\">         test_loss         </span>│<span style=\"color: #800080; text-decoration-color: #800080\">    1.6332156658172607     </span>│\n",
       "└───────────────────────────┴───────────────────────────┘\n",
       "</pre>\n"
      ],
      "text/plain": [
       "┏━━━━━━━━━━━━━━━━━━━━━━━━━━━┳━━━━━━━━━━━━━━━━━━━━━━━━━━━┓\n",
       "┃\u001b[1m \u001b[0m\u001b[1m  Runningstage.testing   \u001b[0m\u001b[1m \u001b[0m┃\u001b[1m                           \u001b[0m┃\n",
       "┃\u001b[1m \u001b[0m\u001b[1m         metric          \u001b[0m\u001b[1m \u001b[0m┃\u001b[1m \u001b[0m\u001b[1m      DataLoader 0       \u001b[0m\u001b[1m \u001b[0m┃\n",
       "┡━━━━━━━━━━━━━━━━━━━━━━━━━━━╇━━━━━━━━━━━━━━━━━━━━━━━━━━━┩\n",
       "│\u001b[36m \u001b[0m\u001b[36m      test_accuracy      \u001b[0m\u001b[36m \u001b[0m│\u001b[35m \u001b[0m\u001b[35m   0.5384615659713745    \u001b[0m\u001b[35m \u001b[0m│\n",
       "│\u001b[36m \u001b[0m\u001b[36m        test_loss        \u001b[0m\u001b[36m \u001b[0m│\u001b[35m \u001b[0m\u001b[35m   1.6332156658172607    \u001b[0m\u001b[35m \u001b[0m│\n",
       "└───────────────────────────┴───────────────────────────┘\n"
      ]
     },
     "metadata": {},
     "output_type": "display_data"
    },
    {
     "name": "stdout",
     "output_type": "stream",
     "text": [
      "Test Metrics for TabTransformer Model on Test Set: [{'test_loss': 1.2680500745773315, 'test_accuracy': 0.2142857164144516}]\n"
     ]
    },
    {
     "data": {
      "text/html": [
       "<pre style=\"white-space:pre;overflow-x:auto;line-height:normal;font-family:Menlo,'DejaVu Sans Mono',consolas,'Courier New',monospace\"></pre>\n"
      ],
      "text/plain": []
     },
     "metadata": {},
     "output_type": "display_data"
    },
    {
     "data": {
      "text/html": [
       "<pre style=\"white-space:pre;overflow-x:auto;line-height:normal;font-family:Menlo,'DejaVu Sans Mono',consolas,'Courier New',monospace\">\n",
       "</pre>\n"
      ],
      "text/plain": [
       "\n"
      ]
     },
     "metadata": {},
     "output_type": "display_data"
    },
    {
     "data": {
      "application/vnd.jupyter.widget-view+json": {
       "model_id": "639b1f6ab8a84949bb1a5292fa2a4318",
       "version_major": 2,
       "version_minor": 0
      },
      "text/plain": [
       "Output()"
      ]
     },
     "metadata": {},
     "output_type": "display_data"
    },
    {
     "name": "stdout",
     "output_type": "stream",
     "text": [
      "Test Metrics for TabTransformer Model on Validation Set: [{'test_loss': 1.6332156658172607, 'test_accuracy': 0.5384615659713745}]\n"
     ]
    },
    {
     "data": {
      "text/html": [
       "<pre style=\"white-space:pre;overflow-x:auto;line-height:normal;font-family:Menlo,'DejaVu Sans Mono',consolas,'Courier New',monospace\"></pre>\n"
      ],
      "text/plain": []
     },
     "metadata": {},
     "output_type": "display_data"
    },
    {
     "data": {
      "text/html": [
       "<pre style=\"white-space:pre;overflow-x:auto;line-height:normal;font-family:Menlo,'DejaVu Sans Mono',consolas,'Courier New',monospace\">\n",
       "</pre>\n"
      ],
      "text/plain": [
       "\n"
      ]
     },
     "metadata": {},
     "output_type": "display_data"
    },
    {
     "data": {
      "application/vnd.jupyter.widget-view+json": {
       "model_id": "d04ab4652d034958af7d49204a4935bc",
       "version_major": 2,
       "version_minor": 0
      },
      "text/plain": [
       "Output()"
      ]
     },
     "metadata": {},
     "output_type": "display_data"
    },
    {
     "data": {
      "text/html": [
       "<pre style=\"white-space:pre;overflow-x:auto;line-height:normal;font-family:Menlo,'DejaVu Sans Mono',consolas,'Courier New',monospace\"></pre>\n"
      ],
      "text/plain": []
     },
     "metadata": {},
     "output_type": "display_data"
    },
    {
     "data": {
      "text/html": [
       "<pre style=\"white-space:pre;overflow-x:auto;line-height:normal;font-family:Menlo,'DejaVu Sans Mono',consolas,'Courier New',monospace\">\n",
       "</pre>\n"
      ],
      "text/plain": [
       "\n"
      ]
     },
     "metadata": {},
     "output_type": "display_data"
    },
    {
     "name": "stdout",
     "output_type": "stream",
     "text": [
      "\n",
      "Test Metrics:\n",
      "Accuracy: 0.2143\n",
      "Precision: 0.3482\n",
      "Recall: 0.2143\n",
      "F1-score: 0.2139\n",
      "ROC-AUC: 0.4540\n",
      "\n",
      "Validation Metrics:\n",
      "Accuracy: 0.5385\n",
      "Precision: 0.6117\n",
      "Recall: 0.5385\n",
      "F1-score: 0.5194\n",
      "ROC-AUC: 0.6730\n",
      "\n",
      "Classification Report for Test Set:\n",
      "              precision    recall  f1-score   support\n",
      "\n",
      "           0       0.25      0.14      0.18         7\n",
      "           1       0.12      1.00      0.22         1\n",
      "           2       0.50      0.17      0.25         6\n",
      "\n",
      "    accuracy                           0.21        14\n",
      "   macro avg       0.29      0.44      0.22        14\n",
      "weighted avg       0.35      0.21      0.21        14\n",
      "\n",
      "\n",
      "Classification Report for Validation Set:\n",
      "              precision    recall  f1-score   support\n",
      "\n",
      "           0       0.67      0.33      0.44         6\n",
      "           1       0.43      1.00      0.60         3\n",
      "           2       0.67      0.50      0.57         4\n",
      "\n",
      "    accuracy                           0.54        13\n",
      "   macro avg       0.59      0.61      0.54        13\n",
      "weighted avg       0.61      0.54      0.52        13\n",
      "\n"
     ]
    }
   ],
   "source": [
    "import time\n",
    "import warnings\n",
    "warnings.filterwarnings(\"ignore\")\n",
    "\n",
    "import pandas as pd\n",
    "import numpy as np\n",
    "from sklearn.model_selection import train_test_split\n",
    "from sklearn.preprocessing import LabelEncoder, RobustScaler\n",
    "from sklearn.metrics import classification_report, roc_auc_score, accuracy_score, precision_recall_fscore_support\n",
    "from sklearn.preprocessing import label_binarize\n",
    "import pytorch_tabular\n",
    "from pytorch_tabular.models.tab_transformer import TabTransformerConfig\n",
    "from pytorch_tabular import TabularModel\n",
    "from pytorch_tabular.config import DataConfig, TrainerConfig, OptimizerConfig\n",
    "\n",
    "# Assuming you've loaded your data and created the 'Group_color' column...\n",
    "\n",
    "# Extracting features\n",
    "X = data[list(features.keys())]\n",
    "\n",
    "# Target variable\n",
    "y = data['Group']\n",
    "\n",
    "\n",
    "# Splitting data \n",
    "X_train, X_temp, y_train, y_temp = train_test_split(X, y, test_size=0.3, random_state=42)\n",
    "X_val, X_test, y_val, y_test = train_test_split(X_temp, y_temp, test_size=0.5, random_state=42)\n",
    "\n",
    "# Encoding labels\n",
    "le = LabelEncoder()\n",
    "y_train_encoded = le.fit_transform(y_train)\n",
    "y_val_encoded = le.transform(y_val)\n",
    "y_test_encoded = le.transform(y_test)\n",
    "\n",
    "# Convert datasets to DataFrames\n",
    "train_df = pd.concat([X_train, pd.Series(y_train_encoded, name='Group', index=X_train.index)], axis=1)\n",
    "val_df = pd.concat([X_val, pd.Series(y_val_encoded, name='Group', index=X_val.index)], axis=1)\n",
    "test_df = pd.concat([X_test, pd.Series(y_test_encoded, name='Group', index=X_test.index)], axis=1)\n",
    "\n",
    "# Define the configurations for TabTransformer\n",
    "data_config = DataConfig(\n",
    "    target=['Group'],\n",
    "    continuous_cols=list(features.keys()),  # Assuming all features are continuous\n",
    "    categorical_cols=[]\n",
    ")\n",
    "trainer_config = TrainerConfig(\n",
    "    auto_lr_find=True,  # Automatically find a suitable learning rate\n",
    "    batch_size=1024,\n",
    "    max_epochs=1000,\n",
    "    gpus=1,\n",
    "    gradient_clip_val=1,  # Gradient clipping\n",
    "    early_stopping_patience=200  # Early stopping if validation performance doesn't improve for 5 epochs\n",
    ")\n",
    "optimizer_config = OptimizerConfig()\n",
    "\n",
    "# Define the head configuration for TabTransformer\n",
    "head_config = {}  # Use default configurations for the LinearHead\n",
    "\n",
    "# Improved TabTransformer Configuration\n",
    "model_config = TabTransformerConfig(\n",
    "    task=\"classification\",\n",
    "    head=\"LinearHead\",\n",
    "    head_config=head_config,\n",
    "    num_heads=16,\n",
    "    num_attn_blocks=16,\n",
    "    transformer_head_dim=256,\n",
    "    share_embedding=True,\n",
    "    share_embedding_strategy='fraction',\n",
    "    shared_embedding_fraction=0.5,\n",
    "    attn_dropout=0.2,\n",
    "    add_norm_dropout=0.2,\n",
    "    ff_dropout=0.2,\n",
    "    embedding_dropout=0.2,\n",
    "    batch_norm_continuous_input=True\n",
    ")\n",
    "\n",
    "tabular_model = TabularModel(\n",
    "    data_config=data_config,\n",
    "    model_config=model_config,\n",
    "    optimizer_config=optimizer_config,\n",
    "    trainer_config=trainer_config\n",
    ")\n",
    "\n",
    "# Train the model using train_df and val_df\n",
    "tabular_model.fit(train=train_df, validation=val_df)\n",
    "\n",
    "time.sleep(3) \n",
    "\n",
    "# Evaluate on test set using test_df\n",
    "test_metrics = tabular_model.evaluate(test_df)\n",
    "print(\"Test Metrics for TabTransformer Model on Test Set:\", test_metrics)\n",
    "\n",
    "# Evaluate on validation set using val_df\n",
    "val_metrics = tabular_model.evaluate(val_df)\n",
    "print(\"Test Metrics for TabTransformer Model on Validation Set:\", val_metrics)\n",
    "\n",
    "# Getting predictions on the test dataset\n",
    "test_predictions = tabular_model.predict(test_df)\n",
    "\n",
    "# Getting predictions on the validation dataset\n",
    "val_predictions = tabular_model.predict(val_df)\n",
    "\n",
    "# Extracting the predicted values for test\n",
    "test_predicted_values = test_predictions['prediction'].values\n",
    "\n",
    "# Extracting the predicted values for validation\n",
    "val_predicted_values = val_predictions['prediction'].values\n",
    "\n",
    "# Calculate metrics for both test and validation\n",
    "def calculate_metrics(y_true, predicted_values):\n",
    "    accuracy = accuracy_score(y_true, predicted_values)\n",
    "    precision, recall, fscore, _ = precision_recall_fscore_support(y_true, predicted_values, average='weighted')\n",
    "\n",
    "    if len(np.unique(y_true)) > 2:  # Multi-class case\n",
    "        y_true_binarized = label_binarize(y_true, classes=np.unique(y_true))\n",
    "        predicted_values_binarized = label_binarize(predicted_values, classes=np.unique(predicted_values))\n",
    "        roc_auc = roc_auc_score(y_true_binarized, predicted_values_binarized, average=\"weighted\", multi_class=\"ovr\")\n",
    "    else:  # Binary case\n",
    "        roc_auc = roc_auc_score(y_true, predicted_values)\n",
    "    \n",
    "    return accuracy, precision, recall, fscore, roc_auc\n",
    "\n",
    "test_accuracy, test_precision, test_recall, test_fscore, test_roc_auc = calculate_metrics(y_test_encoded, test_predicted_values)\n",
    "print(\"\\nTest Metrics:\")\n",
    "print(f\"Accuracy: {test_accuracy:.4f}\")\n",
    "print(f\"Precision: {test_precision:.4f}\")\n",
    "print(f\"Recall: {test_recall:.4f}\")\n",
    "print(f\"F1-score: {test_fscore:.4f}\")\n",
    "print(f\"ROC-AUC: {test_roc_auc:.4f}\")\n",
    "\n",
    "val_accuracy, val_precision, val_recall, val_fscore, val_roc_auc = calculate_metrics(y_val_encoded, val_predicted_values)\n",
    "print(\"\\nValidation Metrics:\")\n",
    "print(f\"Accuracy: {val_accuracy:.4f}\")\n",
    "print(f\"Precision: {val_precision:.4f}\")\n",
    "print(f\"Recall: {val_recall:.4f}\")\n",
    "print(f\"F1-score: {val_fscore:.4f}\")\n",
    "print(f\"ROC-AUC: {val_roc_auc:.4f}\")\n",
    "\n",
    "# Classification Report for Test set\n",
    "print(\"\\nClassification Report for Test Set:\")\n",
    "print(classification_report(y_test_encoded, test_predicted_values))\n",
    "\n",
    "# Classification Report for Validation set\n",
    "print(\"\\nClassification Report for Validation Set:\")\n",
    "print(classification_report(y_val_encoded, val_predicted_values))\n"
   ]
  },
  {
   "cell_type": "markdown",
   "id": "46a1ebd2-d8d1-4ae6-9c61-0101b361c2ed",
   "metadata": {},
   "source": [
    "## Binary Classification"
   ]
  },
  {
   "cell_type": "code",
   "execution_count": 16,
   "id": "e91277b8-189c-49f0-ac9b-13759fe81a81",
   "metadata": {},
   "outputs": [],
   "source": [
    "features = {\n",
    "    'stationary_ratio': 'Stationary Ratio',\n",
    "    'Tik-norm': 'Tik-norm',\n",
    "    'Total_Variation': 'Total Variation',\n",
    "    'graph_energy': 'Graph Energy',\n",
    "    'spectral_entropy': 'Spectral Entropy',\n",
    "    'signal_energy': 'Signal Energy',\n",
    "    'signal_power': 'Signal Power',\n",
    "    'avg_degree': 'Average Degree',\n",
    "    'diffusion_distance': 'Diffusion Distance',\n",
    "}"
   ]
  },
  {
   "cell_type": "markdown",
   "id": "7deada1e-f546-42dd-9c69-cec3c199b600",
   "metadata": {},
   "source": [
    "### KNeighborsClassifier"
   ]
  },
  {
   "cell_type": "code",
   "execution_count": 17,
   "id": "de921d45-ebeb-44a6-ae91-3452c3c2514d",
   "metadata": {},
   "outputs": [
    {
     "name": "stdout",
     "output_type": "stream",
     "text": [
      "Fitting 5 folds for each of 48 candidates, totalling 240 fits\n",
      "Validation Metrics for Best KNeighborsClassifier Model:\n",
      "Precision, Recall, F1-score:\n",
      "               precision    recall  f1-score   support\n",
      "\n",
      "      Group1       0.59      0.72      0.65        18\n",
      "      Group2       0.44      0.31      0.36        13\n",
      "\n",
      "    accuracy                           0.55        31\n",
      "   macro avg       0.52      0.51      0.51        31\n",
      "weighted avg       0.53      0.55      0.53        31\n",
      "\n",
      "ROC AUC Score: 0.5811965811965811\n",
      "\n",
      "Test Metrics for Best KNeighborsClassifier Model:\n",
      "Precision, Recall, F1-score:\n",
      "               precision    recall  f1-score   support\n",
      "\n",
      "      Group1       0.89      0.74      0.81        23\n",
      "      Group2       0.25      0.50      0.33         4\n",
      "\n",
      "    accuracy                           0.70        27\n",
      "   macro avg       0.57      0.62      0.57        27\n",
      "weighted avg       0.80      0.70      0.74        27\n",
      "\n",
      "ROC AUC Score: 0.7826086956521738\n"
     ]
    }
   ],
   "source": [
    "from sklearn import metrics\n",
    "from sklearn.model_selection import train_test_split, GridSearchCV\n",
    "from sklearn.neighbors import KNeighborsClassifier\n",
    "from sklearn.metrics import classification_report, roc_auc_score\n",
    "from sklearn.preprocessing import LabelEncoder, RobustScaler\n",
    "import pandas as pd\n",
    "import numpy as np\n",
    "\n",
    "data['Group_color'] = data['Group'].map({'A': 'Group1', 'F': 'Group1', 'C': 'Group2'})\n",
    "\n",
    "# Extracting features\n",
    "X = data[list(features.keys())]\n",
    "\n",
    "# Target variable\n",
    "y = data['Group_color']\n",
    "\n",
    "# Splitting data\n",
    "X_train_val, X_test, y_train_val, y_test = train_test_split(X, y, test_size=0.3, random_state=42)\n",
    "X_train, X_val, y_train, y_val = train_test_split(X_train_val, y_train_val, test_size=0.5, random_state=42)\n",
    "\n",
    "# Scaling the data\n",
    "scaler = RobustScaler()\n",
    "X_train_scaled = scaler.fit_transform(X_train)\n",
    "X_val_scaled = scaler.transform(X_val)\n",
    "X_test_scaled = scaler.transform(X_test)\n",
    "\n",
    "# Grid search for KNeighborsClassifier\n",
    "param_grid_knn = {\n",
    "    'n_neighbors': [3, 5, 7, 9, 11, 13],\n",
    "    'weights': ['uniform', 'distance'],\n",
    "    'metric': ['euclidean', 'manhattan', 'minkowski', 'canberra']\n",
    "}\n",
    "grid_knn = GridSearchCV(estimator=KNeighborsClassifier(), param_grid=param_grid_knn, scoring='roc_auc', n_jobs=-1, cv=5, verbose=2)\n",
    "grid_knn.fit(X_train_scaled, y_train)\n",
    "\n",
    "# Using the best model to predict\n",
    "y_val_pred = grid_knn.best_estimator_.predict(X_val_scaled)\n",
    "y_val_pred_proba = grid_knn.best_estimator_.predict_proba(X_val_scaled)[:, 1]\n",
    "\n",
    "# Encoding labels\n",
    "le = LabelEncoder()\n",
    "y_val_encoded = le.fit_transform(y_val)\n",
    "\n",
    "# Validation set metrics\n",
    "print(\"Validation Metrics for Best KNeighborsClassifier Model:\")\n",
    "print(\"Precision, Recall, F1-score:\\n\", classification_report(y_val, y_val_pred))\n",
    "print(\"ROC AUC Score:\", roc_auc_score(y_val_encoded, y_val_pred_proba))\n",
    "\n",
    "# Test set metrics\n",
    "y_test_pred = grid_knn.best_estimator_.predict(X_test_scaled)\n",
    "y_test_pred_proba = grid_knn.best_estimator_.predict_proba(X_test_scaled)[:, 1]\n",
    "y_test_encoded = le.transform(y_test)\n",
    "\n",
    "print(\"\\nTest Metrics for Best KNeighborsClassifier Model:\")\n",
    "print(\"Precision, Recall, F1-score:\\n\", classification_report(y_test, y_test_pred))\n",
    "print(\"ROC AUC Score:\", roc_auc_score(y_test_encoded, y_test_pred_proba))\n"
   ]
  },
  {
   "cell_type": "markdown",
   "id": "da30db1d-6958-4126-ac1a-8ecf20b95b0b",
   "metadata": {},
   "source": [
    "### RandomForest"
   ]
  },
  {
   "cell_type": "code",
   "execution_count": 18,
   "id": "09019fb8-b6ba-444d-8a32-d390c50919bf",
   "metadata": {},
   "outputs": [
    {
     "name": "stdout",
     "output_type": "stream",
     "text": [
      "Fitting 5 folds for each of 1728 candidates, totalling 8640 fits\n",
      "Validation Metrics for Best RandomForestClassifier Model:\n",
      "Precision, Recall, F1-score:\n",
      "               precision    recall  f1-score   support\n",
      "\n",
      "      Group1       0.58      0.61      0.59        18\n",
      "      Group2       0.42      0.38      0.40        13\n",
      "\n",
      "    accuracy                           0.52        31\n",
      "   macro avg       0.50      0.50      0.50        31\n",
      "weighted avg       0.51      0.52      0.51        31\n",
      "\n",
      "ROC AUC Score: 0.46794871794871795\n",
      "\n",
      "Test Metrics for Best RandomForestClassifier Model:\n",
      "Precision, Recall, F1-score:\n",
      "               precision    recall  f1-score   support\n",
      "\n",
      "      Group1       0.94      0.65      0.77        23\n",
      "      Group2       0.27      0.75      0.40         4\n",
      "\n",
      "    accuracy                           0.67        27\n",
      "   macro avg       0.61      0.70      0.58        27\n",
      "weighted avg       0.84      0.67      0.71        27\n",
      "\n",
      "ROC AUC Score: 0.7282608695652174\n"
     ]
    }
   ],
   "source": [
    "from sklearn import metrics\n",
    "from sklearn.model_selection import train_test_split, GridSearchCV\n",
    "from sklearn.ensemble import RandomForestClassifier\n",
    "from sklearn.metrics import classification_report, roc_auc_score\n",
    "from sklearn.preprocessing import LabelEncoder, RobustScaler\n",
    "import pandas as pd\n",
    "import numpy as np\n",
    "\n",
    "data['Group_color'] = data['Group'].map({'A': 'Group1', 'F': 'Group1', 'C': 'Group2'})\n",
    "\n",
    "# Extracting features\n",
    "X = data[list(features.keys())]\n",
    "\n",
    "# Target variable\n",
    "y = data['Group_color']\n",
    "\n",
    "# Splitting data\n",
    "X_train_val, X_test, y_train_val, y_test = train_test_split(X, y, test_size=0.3, random_state=42)\n",
    "X_train, X_val, y_train, y_val = train_test_split(X_train_val, y_train_val, test_size=0.5, random_state=42)\n",
    "\n",
    "# Scaling the data\n",
    "scaler = RobustScaler()\n",
    "X_train_scaled = scaler.fit_transform(X_train)\n",
    "X_val_scaled = scaler.transform(X_val)\n",
    "X_test_scaled = scaler.transform(X_test)\n",
    "\n",
    "# Grid search for RandomForestClassifier\n",
    "param_grid_rf = {\n",
    "    'n_estimators': [50, 100, 150, 200, 250, 300, 350, 400, 500],\n",
    "    'max_depth': [None, 10, 20, 30, 40, 50],\n",
    "    'min_samples_split': [2, 5, 10, 20],\n",
    "    'min_samples_leaf': [1, 2, 4, 8],\n",
    "    'bootstrap': [True, False]\n",
    "}\n",
    "\n",
    "grid_rf = GridSearchCV(estimator=RandomForestClassifier(random_state=42), param_grid=param_grid_rf, scoring='roc_auc', n_jobs=-1, cv=5, verbose=2)\n",
    "grid_rf.fit(X_train_scaled, y_train)\n",
    "\n",
    "# Using the best model to predict\n",
    "y_val_pred = grid_rf.best_estimator_.predict(X_val_scaled)\n",
    "y_val_pred_proba = grid_rf.best_estimator_.predict_proba(X_val_scaled)[:, 1]\n",
    "\n",
    "# Encoding labels\n",
    "le = LabelEncoder()\n",
    "y_val_encoded = le.fit_transform(y_val)\n",
    "\n",
    "# Validation set metrics\n",
    "print(\"Validation Metrics for Best RandomForestClassifier Model:\")\n",
    "print(\"Precision, Recall, F1-score:\\n\", classification_report(y_val, y_val_pred))\n",
    "print(\"ROC AUC Score:\", roc_auc_score(y_val_encoded, y_val_pred_proba))\n",
    "\n",
    "# Test set metrics\n",
    "y_test_pred = grid_rf.best_estimator_.predict(X_test_scaled)\n",
    "y_test_pred_proba = grid_rf.best_estimator_.predict_proba(X_test_scaled)[:, 1]\n",
    "y_test_encoded = le.transform(y_test)\n",
    "\n",
    "print(\"\\nTest Metrics for Best RandomForestClassifier Model:\")\n",
    "print(\"Precision, Recall, F1-score:\\n\", classification_report(y_test, y_test_pred))\n",
    "print(\"ROC AUC Score:\", roc_auc_score(y_test_encoded, y_test_pred_proba))\n"
   ]
  },
  {
   "cell_type": "markdown",
   "id": "74931bd5-12cf-49ab-8508-b5c98e313f50",
   "metadata": {},
   "source": [
    "### XGBoost"
   ]
  },
  {
   "cell_type": "code",
   "execution_count": 19,
   "id": "b46bba27-8472-4bd2-841d-7e1fd577b920",
   "metadata": {},
   "outputs": [
    {
     "name": "stdout",
     "output_type": "stream",
     "text": [
      "Fitting 5 folds for each of 14400 candidates, totalling 72000 fits\n",
      "Validation Metrics for Best XGBClassifier Model:\n",
      "Precision, Recall, F1-score:\n",
      "               precision    recall  f1-score   support\n",
      "\n",
      "           0       0.64      0.78      0.70        18\n",
      "           1       0.56      0.38      0.45        13\n",
      "\n",
      "    accuracy                           0.61        31\n",
      "   macro avg       0.60      0.58      0.58        31\n",
      "weighted avg       0.60      0.61      0.60        31\n",
      "\n",
      "ROC AUC Score: 0.5128205128205128\n",
      "\n",
      "Test Metrics for Best XGBClassifier Model:\n",
      "Precision, Recall, F1-score:\n",
      "               precision    recall  f1-score   support\n",
      "\n",
      "           0       0.94      0.74      0.83        23\n",
      "           1       0.33      0.75      0.46         4\n",
      "\n",
      "    accuracy                           0.74        27\n",
      "   macro avg       0.64      0.74      0.65        27\n",
      "weighted avg       0.85      0.74      0.77        27\n",
      "\n",
      "ROC AUC Score: 0.7065217391304348\n"
     ]
    }
   ],
   "source": [
    "from sklearn import metrics\n",
    "from sklearn.model_selection import train_test_split, GridSearchCV\n",
    "from sklearn.metrics import classification_report, roc_auc_score\n",
    "from sklearn.preprocessing import LabelEncoder, RobustScaler\n",
    "import pandas as pd\n",
    "import numpy as np\n",
    "from xgboost import XGBClassifier\n",
    "\n",
    "data['Group_color'] = data['Group'].map({'A': 'Group1', 'F': 'Group1', 'C': 'Group2'})\n",
    "\n",
    "# Extracting features\n",
    "X = data[list(features.keys())]\n",
    "\n",
    "# Target variable\n",
    "y = data['Group_color']\n",
    "\n",
    "# Encode labels to 0 and 1\n",
    "le = LabelEncoder()\n",
    "y_encoded = le.fit_transform(y)\n",
    "\n",
    "# Splitting data\n",
    "X_train_val, X_test, y_train_val, y_test = train_test_split(X, y_encoded, test_size=0.3, random_state=42)\n",
    "X_train, X_val, y_train, y_val = train_test_split(X_train_val, y_train_val, test_size=0.5, random_state=42)\n",
    "\n",
    "# Scaling the data\n",
    "scaler = RobustScaler()\n",
    "X_train_scaled = scaler.fit_transform(X_train)\n",
    "X_val_scaled = scaler.transform(X_val)\n",
    "X_test_scaled = scaler.transform(X_test)\n",
    "\n",
    "# Grid search for XGBClassifier\n",
    "param_grid_xgb = {\n",
    "    'learning_rate': [0.0001, 0.001, 0.01, 0.05, 0.1],\n",
    "    'n_estimators': [50, 100, 150, 200, 250, 300, 350, 500, 1000],\n",
    "    'max_depth': [3, 5, 7, 10, 15],\n",
    "    'gamma': [0, 0.1, 0.2, 0.3],\n",
    "    'subsample': [0.7, 0.8, 0.9, 1],\n",
    "    'colsample_bytree': [0.7, 0.8, 0.9, 1]\n",
    "}\n",
    "\n",
    "grid_xgb = GridSearchCV(estimator=XGBClassifier(random_state=42), param_grid=param_grid_xgb, scoring='roc_auc', n_jobs=-1, cv=5, verbose=2)\n",
    "grid_xgb.fit(X_train_scaled, y_train)\n",
    "\n",
    "# Using the best model to predict\n",
    "y_val_pred = grid_xgb.best_estimator_.predict(X_val_scaled)\n",
    "y_val_pred_proba = grid_xgb.best_estimator_.predict_proba(X_val_scaled)[:, 1]\n",
    "\n",
    "# Validation set metrics\n",
    "print(\"Validation Metrics for Best XGBClassifier Model:\")\n",
    "print(\"Precision, Recall, F1-score:\\n\", classification_report(y_val, y_val_pred))\n",
    "print(\"ROC AUC Score:\", roc_auc_score(y_val, y_val_pred_proba))\n",
    "\n",
    "# Test set metrics\n",
    "y_test_pred = grid_xgb.best_estimator_.predict(X_test_scaled)\n",
    "y_test_pred_proba = grid_xgb.best_estimator_.predict_proba(X_test_scaled)[:, 1]\n",
    "\n",
    "print(\"\\nTest Metrics for Best XGBClassifier Model:\")\n",
    "print(\"Precision, Recall, F1-score:\\n\", classification_report(y_test, y_test_pred))\n",
    "print(\"ROC AUC Score:\", roc_auc_score(y_test, y_test_pred_proba))\n"
   ]
  },
  {
   "cell_type": "markdown",
   "id": "0f2bdcd2-db44-48c5-9573-6366de8575ff",
   "metadata": {},
   "source": [
    "### Logistic Regression"
   ]
  },
  {
   "cell_type": "code",
   "execution_count": 20,
   "id": "f381f8dc-d62c-412a-9f3f-a18f08e6b6b8",
   "metadata": {},
   "outputs": [
    {
     "name": "stdout",
     "output_type": "stream",
     "text": [
      "Validation Metrics:\n",
      "Precision, Recall, F1-score:\n",
      "               precision    recall  f1-score   support\n",
      "\n",
      "      Group1       0.58      0.78      0.67        18\n",
      "      Group2       0.43      0.23      0.30        13\n",
      "\n",
      "    accuracy                           0.55        31\n",
      "   macro avg       0.51      0.50      0.48        31\n",
      "weighted avg       0.52      0.55      0.51        31\n",
      "\n",
      "ROC AUC Score: 0.6495726495726496\n",
      "\n",
      "Test Metrics:\n",
      "Precision, Recall, F1-score:\n",
      "               precision    recall  f1-score   support\n",
      "\n",
      "      Group1       0.81      0.74      0.77        23\n",
      "      Group2       0.00      0.00      0.00         4\n",
      "\n",
      "    accuracy                           0.63        27\n",
      "   macro avg       0.40      0.37      0.39        27\n",
      "weighted avg       0.69      0.63      0.66        27\n",
      "\n",
      "ROC AUC Score: 0.6195652173913044\n"
     ]
    }
   ],
   "source": [
    "from sklearn import metrics\n",
    "from sklearn.model_selection import train_test_split\n",
    "from sklearn.linear_model import LogisticRegression\n",
    "from sklearn.metrics import classification_report, roc_auc_score\n",
    "from sklearn.preprocessing import LabelEncoder\n",
    "import pandas as pd\n",
    "import numpy as np\n",
    "from sklearn.preprocessing import RobustScaler\n",
    "\n",
    "data['Group_color'] = data['Group'].map({'A': 'Group1', 'F': 'Group1', 'C': 'Group2'})\n",
    "\n",
    "# The features are 'stationary_ratio' and 'Tik-norm'\n",
    "X = data[list(features.keys())] # Make sure the column names are correct\n",
    "\n",
    "# The target is 'Group_color'\n",
    "y = data['Group_color']\n",
    "\n",
    "# Split the data into train+validation set and test set\n",
    "X_train_val, X_test, y_train_val, y_test = train_test_split(X, y, test_size=0.3, random_state=42)\n",
    "\n",
    "# Further split the train data into train set and validation set\n",
    "X_train, X_val, y_train, y_val = train_test_split(X_train_val, y_train_val, test_size=0.5, random_state=42)\n",
    "\n",
    "scaler = RobustScaler()\n",
    "X_train_scaled = scaler.fit_transform(X_train)\n",
    "X_val_scaled = scaler.transform(X_val)\n",
    "X_test_scaled = scaler.transform(X_test)\n",
    "\n",
    "clf = LogisticRegression(random_state=42) # You can add hyperparameters as needed\n",
    "\n",
    "clf.fit(X_train_scaled, y_train)\n",
    "\n",
    "# Predict the labels of the validation set\n",
    "y_val_pred = clf.predict(X_val_scaled)\n",
    "\n",
    "# Predict the probabilities of the validation set\n",
    "y_val_pred_proba = clf.predict_proba(X_val_scaled)[:, 1]\n",
    "\n",
    "# Encode labels to 0 and 1\n",
    "le = LabelEncoder()\n",
    "y_val_encoded = le.fit_transform(y_val)\n",
    "\n",
    "# Print the accuracy and other metrics of the classifier on the validation set\n",
    "print(\"Validation Metrics:\")\n",
    "print(\"Precision, Recall, F1-score:\\n\", classification_report(y_val, y_val_pred))\n",
    "print(\"ROC AUC Score:\", roc_auc_score(y_val_encoded, y_val_pred_proba))\n",
    "\n",
    "# Predict the labels of the test set\n",
    "y_test_pred = clf.predict(X_test_scaled)\n",
    "\n",
    "# Predict the probabilities of the test set\n",
    "y_test_pred_proba = clf.predict_proba(X_test_scaled)[:, 1]\n",
    "\n",
    "# Encode labels to 0 and 1\n",
    "y_test_encoded = le.transform(y_test)\n",
    "\n",
    "# Print the accuracy and other metrics of the classifier on the test set\n",
    "print(\"\\nTest Metrics:\")\n",
    "print(\"Precision, Recall, F1-score:\\n\", classification_report(y_test, y_test_pred))\n",
    "print(\"ROC AUC Score:\", roc_auc_score(y_test_encoded, y_test_pred_proba))"
   ]
  },
  {
   "cell_type": "markdown",
   "id": "0feb701e-5efa-4483-a6a2-1779f7fd723b",
   "metadata": {},
   "source": [
    "### SVM"
   ]
  },
  {
   "cell_type": "code",
   "execution_count": 21,
   "id": "fe5707b9-d440-4007-bed6-cd9903f05871",
   "metadata": {},
   "outputs": [
    {
     "name": "stdout",
     "output_type": "stream",
     "text": [
      "Validation Metrics:\n",
      "Precision, Recall, F1-score:\n",
      "               precision    recall  f1-score   support\n",
      "\n",
      "      Group1       0.58      1.00      0.73        18\n",
      "      Group2       0.00      0.00      0.00        13\n",
      "\n",
      "    accuracy                           0.58        31\n",
      "   macro avg       0.29      0.50      0.37        31\n",
      "weighted avg       0.34      0.58      0.43        31\n",
      "\n",
      "ROC AUC Score: 0.4358974358974359\n",
      "\n",
      "Test Metrics:\n",
      "Precision, Recall, F1-score:\n",
      "               precision    recall  f1-score   support\n",
      "\n",
      "      Group1       0.85      1.00      0.92        23\n",
      "      Group2       0.00      0.00      0.00         4\n",
      "\n",
      "    accuracy                           0.85        27\n",
      "   macro avg       0.43      0.50      0.46        27\n",
      "weighted avg       0.73      0.85      0.78        27\n",
      "\n",
      "ROC AUC Score: 0.42391304347826086\n"
     ]
    }
   ],
   "source": [
    "from sklearn import metrics\n",
    "from sklearn.model_selection import train_test_split\n",
    "from sklearn.svm import SVC\n",
    "from sklearn.metrics import classification_report\n",
    "from sklearn.preprocessing import LabelEncoder\n",
    "import pandas as pd\n",
    "import numpy as np\n",
    "from sklearn.preprocessing import RobustScaler\n",
    "\n",
    "data['Group_color'] = data['Group'].map({'A': 'Group1', 'F': 'Group1', 'C': 'Group2'})\n",
    "\n",
    "# The features are 'stationary_ratio' and 'Tik-norm'\n",
    "X = data[list(features.keys())] # Make sure the column names are correct\n",
    "\n",
    "# The target is 'Group_color'\n",
    "y = data['Group_color']\n",
    "\n",
    "# Split the data into train+validation set and test set\n",
    "X_train_val, X_test, y_train_val, y_test = train_test_split(X, y, test_size=0.3, random_state=42)\n",
    "\n",
    "# Further split the train data into train set and validation set\n",
    "X_train, X_val, y_train, y_val = train_test_split(X_train_val, y_train_val, test_size=0.5, random_state=42)\n",
    "\n",
    "scaler = RobustScaler()\n",
    "X_train_scaled = scaler.fit_transform(X_train)\n",
    "X_val_scaled = scaler.transform(X_val)\n",
    "X_test_scaled = scaler.transform(X_test)\n",
    "\n",
    "clf = SVC(random_state=42, probability=True) # You can add hyperparameters as needed\n",
    "\n",
    "clf.fit(X_train_scaled, y_train)\n",
    "\n",
    "# Predict the labels of the validation set\n",
    "y_val_pred = clf.predict(X_val_scaled)\n",
    "\n",
    "# Predict the probabilities of the validation set\n",
    "y_val_pred_proba = clf.predict_proba(X_val_scaled)[:, 1]\n",
    "\n",
    "# Encode labels to 0 and 1\n",
    "le = LabelEncoder()\n",
    "y_val_encoded = le.fit_transform(y_val)\n",
    "\n",
    "# Print the accuracy and other metrics of the classifier on the validation set\n",
    "print(\"Validation Metrics:\")\n",
    "print(\"Precision, Recall, F1-score:\\n\", classification_report(y_val, y_val_pred))\n",
    "print(\"ROC AUC Score:\", roc_auc_score(y_val_encoded, y_val_pred_proba))\n",
    "\n",
    "# Predict the labels of the test set\n",
    "y_test_pred = clf.predict(X_test_scaled)\n",
    "\n",
    "# Predict the probabilities of the test set\n",
    "y_test_pred_proba = clf.predict_proba(X_test_scaled)[:, 1]\n",
    "\n",
    "# Encode labels to 0 and 1\n",
    "y_test_encoded = le.transform(y_test)\n",
    "\n",
    "# Print the accuracy and other metrics of the classifier on the test set\n",
    "print(\"\\nTest Metrics:\")\n",
    "print(\"Precision, Recall, F1-score:\\n\", classification_report(y_test, y_test_pred))\n",
    "print(\"ROC AUC Score:\", roc_auc_score(y_test_encoded, y_test_pred_proba))\n"
   ]
  },
  {
   "cell_type": "markdown",
   "id": "9ada41c6-c171-4387-bb63-cf484c7ee011",
   "metadata": {},
   "source": [
    "### Naive Bayes"
   ]
  },
  {
   "cell_type": "code",
   "execution_count": 22,
   "id": "336a7e1a-c819-4313-98db-966d8452293b",
   "metadata": {},
   "outputs": [
    {
     "name": "stdout",
     "output_type": "stream",
     "text": [
      "Validation Metrics:\n",
      "Precision, Recall, F1-score:\n",
      "               precision    recall  f1-score   support\n",
      "\n",
      "      Group1       0.89      0.44      0.59        18\n",
      "      Group2       0.55      0.92      0.69        13\n",
      "\n",
      "    accuracy                           0.65        31\n",
      "   macro avg       0.72      0.68      0.64        31\n",
      "weighted avg       0.74      0.65      0.63        31\n",
      "\n",
      "ROC AUC Score: 0.7008547008547009\n",
      "\n",
      "Test Metrics:\n",
      "Precision, Recall, F1-score:\n",
      "               precision    recall  f1-score   support\n",
      "\n",
      "      Group1       1.00      0.52      0.69        23\n",
      "      Group2       0.27      1.00      0.42         4\n",
      "\n",
      "    accuracy                           0.59        27\n",
      "   macro avg       0.63      0.76      0.55        27\n",
      "weighted avg       0.89      0.59      0.65        27\n",
      "\n",
      "ROC AUC Score: 0.9239130434782609\n"
     ]
    }
   ],
   "source": [
    "from sklearn import metrics\n",
    "from sklearn.model_selection import train_test_split\n",
    "from sklearn.naive_bayes import GaussianNB\n",
    "from sklearn.metrics import classification_report, roc_auc_score\n",
    "from sklearn.preprocessing import LabelEncoder\n",
    "import pandas as pd\n",
    "import numpy as np\n",
    "from sklearn.preprocessing import RobustScaler\n",
    "\n",
    "data['Group_color'] = data['Group'].map({'A': 'Group1', 'F': 'Group1', 'C': 'Group2'})\n",
    "\n",
    "# The features are 'stationary_ratio' and 'Tik-norm'\n",
    "X = data[list(features.keys())] # Make sure the column names are correct\n",
    "\n",
    "# The target is 'Group_color'\n",
    "y = data['Group_color']\n",
    "\n",
    "# Split the data into train+validation set and test set\n",
    "X_train_val, X_test, y_train_val, y_test = train_test_split(X, y, test_size=0.3, random_state=42)\n",
    "\n",
    "# Further split the train data into train set and validation set\n",
    "X_train, X_val, y_train, y_val = train_test_split(X_train_val, y_train_val, test_size=0.5, random_state=42)\n",
    "\n",
    "scaler = RobustScaler()\n",
    "X_train_scaled = scaler.fit_transform(X_train)\n",
    "X_val_scaled = scaler.transform(X_val)\n",
    "X_test_scaled = scaler.transform(X_test)\n",
    "\n",
    "clf = GaussianNB() # Naive Bayes classifier\n",
    "\n",
    "clf.fit(X_train_scaled, y_train)\n",
    "\n",
    "# Predict the labels of the validation set\n",
    "y_val_pred = clf.predict(X_val_scaled)\n",
    "\n",
    "# Predict the probabilities of the validation set\n",
    "y_val_pred_proba = clf.predict_proba(X_val_scaled)[:, 1]\n",
    "\n",
    "# Encode labels to 0 and 1\n",
    "le = LabelEncoder()\n",
    "y_val_encoded = le.fit_transform(y_val)\n",
    "\n",
    "# Print the accuracy and other metrics of the classifier on the validation set\n",
    "print(\"Validation Metrics:\")\n",
    "print(\"Precision, Recall, F1-score:\\n\", classification_report(y_val, y_val_pred))\n",
    "print(\"ROC AUC Score:\", roc_auc_score(y_val_encoded, y_val_pred_proba))\n",
    "\n",
    "# Predict the labels of the test set\n",
    "y_test_pred = clf.predict(X_test_scaled)\n",
    "\n",
    "# Predict the probabilities of the test set\n",
    "y_test_pred_proba = clf.predict_proba(X_test_scaled)[:, 1]\n",
    "\n",
    "# Encode labels to 0 and 1\n",
    "y_test_encoded = le.transform(y_test)\n",
    "\n",
    "# Print the accuracy and other metrics of the classifier on the test set\n",
    "print(\"\\nTest Metrics:\")\n",
    "print(\"Precision, Recall, F1-score:\\n\", classification_report(y_test, y_test_pred))\n",
    "print(\"ROC AUC Score:\", roc_auc_score(y_test_encoded, y_test_pred_proba))\n"
   ]
  },
  {
   "cell_type": "markdown",
   "id": "b669dd6e-1c72-4243-abd9-f8352f48bf4c",
   "metadata": {},
   "source": [
    "### TabTransformer"
   ]
  },
  {
   "cell_type": "code",
   "execution_count": 23,
   "id": "782345f4-ba42-4830-a3bd-249bbb45a0cc",
   "metadata": {},
   "outputs": [
    {
     "data": {
      "text/html": [
       "<pre style=\"white-space:pre;overflow-x:auto;line-height:normal;font-family:Menlo,'DejaVu Sans Mono',consolas,'Courier New',monospace\"><span style=\"color: #008080; text-decoration-color: #008080; font-weight: bold\">2023</span>-<span style=\"color: #008080; text-decoration-color: #008080; font-weight: bold\">08</span>-<span style=\"color: #008080; text-decoration-color: #008080; font-weight: bold\">31</span> <span style=\"color: #00ff00; text-decoration-color: #00ff00; font-weight: bold\">09:35:36</span>,<span style=\"color: #008080; text-decoration-color: #008080; font-weight: bold\">125</span> - <span style=\"font-weight: bold\">{</span>pytorch_tabular.tabular_model:<span style=\"color: #008080; text-decoration-color: #008080; font-weight: bold\">105</span><span style=\"font-weight: bold\">}</span> - INFO - Experiment Tracking is turned off           \n",
       "</pre>\n"
      ],
      "text/plain": [
       "\u001b[1;36m2023\u001b[0m-\u001b[1;36m08\u001b[0m-\u001b[1;36m31\u001b[0m \u001b[1;92m09:35:36\u001b[0m,\u001b[1;36m125\u001b[0m - \u001b[1m{\u001b[0mpytorch_tabular.tabular_model:\u001b[1;36m105\u001b[0m\u001b[1m}\u001b[0m - INFO - Experiment Tracking is turned off           \n"
      ]
     },
     "metadata": {},
     "output_type": "display_data"
    },
    {
     "name": "stderr",
     "output_type": "stream",
     "text": [
      "Global seed set to 42\n"
     ]
    },
    {
     "data": {
      "text/html": [
       "<pre style=\"white-space:pre;overflow-x:auto;line-height:normal;font-family:Menlo,'DejaVu Sans Mono',consolas,'Courier New',monospace\"><span style=\"color: #008080; text-decoration-color: #008080; font-weight: bold\">2023</span>-<span style=\"color: #008080; text-decoration-color: #008080; font-weight: bold\">08</span>-<span style=\"color: #008080; text-decoration-color: #008080; font-weight: bold\">31</span> <span style=\"color: #00ff00; text-decoration-color: #00ff00; font-weight: bold\">09:35:36</span>,<span style=\"color: #008080; text-decoration-color: #008080; font-weight: bold\">139</span> - <span style=\"font-weight: bold\">{</span>pytorch_tabular.tabular_model:<span style=\"color: #008080; text-decoration-color: #008080; font-weight: bold\">473</span><span style=\"font-weight: bold\">}</span> - INFO - Preparing the DataLoaders                   \n",
       "</pre>\n"
      ],
      "text/plain": [
       "\u001b[1;36m2023\u001b[0m-\u001b[1;36m08\u001b[0m-\u001b[1;36m31\u001b[0m \u001b[1;92m09:35:36\u001b[0m,\u001b[1;36m139\u001b[0m - \u001b[1m{\u001b[0mpytorch_tabular.tabular_model:\u001b[1;36m473\u001b[0m\u001b[1m}\u001b[0m - INFO - Preparing the DataLoaders                   \n"
      ]
     },
     "metadata": {},
     "output_type": "display_data"
    },
    {
     "data": {
      "text/html": [
       "<pre style=\"white-space:pre;overflow-x:auto;line-height:normal;font-family:Menlo,'DejaVu Sans Mono',consolas,'Courier New',monospace\"><span style=\"color: #008080; text-decoration-color: #008080; font-weight: bold\">2023</span>-<span style=\"color: #008080; text-decoration-color: #008080; font-weight: bold\">08</span>-<span style=\"color: #008080; text-decoration-color: #008080; font-weight: bold\">31</span> <span style=\"color: #00ff00; text-decoration-color: #00ff00; font-weight: bold\">09:35:36</span>,<span style=\"color: #008080; text-decoration-color: #008080; font-weight: bold\">140</span> - <span style=\"font-weight: bold\">{</span>pytorch_tabular.tabular_datamodul<span style=\"color: #00ff00; text-decoration-color: #00ff00; font-weight: bold\">e:290</span><span style=\"font-weight: bold\">}</span> - INFO - Setting up the datamodule for          \n",
       "classification task                                                                                                \n",
       "</pre>\n"
      ],
      "text/plain": [
       "\u001b[1;36m2023\u001b[0m-\u001b[1;36m08\u001b[0m-\u001b[1;36m31\u001b[0m \u001b[1;92m09:35:36\u001b[0m,\u001b[1;36m140\u001b[0m - \u001b[1m{\u001b[0mpytorch_tabular.tabular_datamodul\u001b[1;92me:290\u001b[0m\u001b[1m}\u001b[0m - INFO - Setting up the datamodule for          \n",
       "classification task                                                                                                \n"
      ]
     },
     "metadata": {},
     "output_type": "display_data"
    },
    {
     "data": {
      "text/html": [
       "<pre style=\"white-space:pre;overflow-x:auto;line-height:normal;font-family:Menlo,'DejaVu Sans Mono',consolas,'Courier New',monospace\"><span style=\"color: #008080; text-decoration-color: #008080; font-weight: bold\">2023</span>-<span style=\"color: #008080; text-decoration-color: #008080; font-weight: bold\">08</span>-<span style=\"color: #008080; text-decoration-color: #008080; font-weight: bold\">31</span> <span style=\"color: #00ff00; text-decoration-color: #00ff00; font-weight: bold\">09:35:36</span>,<span style=\"color: #008080; text-decoration-color: #008080; font-weight: bold\">150</span> - <span style=\"font-weight: bold\">{</span>pytorch_tabular.tabular_model:<span style=\"color: #008080; text-decoration-color: #008080; font-weight: bold\">521</span><span style=\"font-weight: bold\">}</span> - INFO - Preparing the Model: TabTransformerModel    \n",
       "</pre>\n"
      ],
      "text/plain": [
       "\u001b[1;36m2023\u001b[0m-\u001b[1;36m08\u001b[0m-\u001b[1;36m31\u001b[0m \u001b[1;92m09:35:36\u001b[0m,\u001b[1;36m150\u001b[0m - \u001b[1m{\u001b[0mpytorch_tabular.tabular_model:\u001b[1;36m521\u001b[0m\u001b[1m}\u001b[0m - INFO - Preparing the Model: TabTransformerModel    \n"
      ]
     },
     "metadata": {},
     "output_type": "display_data"
    },
    {
     "data": {
      "text/html": [
       "<pre style=\"white-space:pre;overflow-x:auto;line-height:normal;font-family:Menlo,'DejaVu Sans Mono',consolas,'Courier New',monospace\"><span style=\"color: #008080; text-decoration-color: #008080; font-weight: bold\">2023</span>-<span style=\"color: #008080; text-decoration-color: #008080; font-weight: bold\">08</span>-<span style=\"color: #008080; text-decoration-color: #008080; font-weight: bold\">31</span> <span style=\"color: #00ff00; text-decoration-color: #00ff00; font-weight: bold\">09:35:36</span>,<span style=\"color: #008080; text-decoration-color: #008080; font-weight: bold\">169</span> - <span style=\"font-weight: bold\">{</span>pytorch_tabular.tabular_model:<span style=\"color: #008080; text-decoration-color: #008080; font-weight: bold\">268</span><span style=\"font-weight: bold\">}</span> - INFO - Preparing the Trainer                       \n",
       "</pre>\n"
      ],
      "text/plain": [
       "\u001b[1;36m2023\u001b[0m-\u001b[1;36m08\u001b[0m-\u001b[1;36m31\u001b[0m \u001b[1;92m09:35:36\u001b[0m,\u001b[1;36m169\u001b[0m - \u001b[1m{\u001b[0mpytorch_tabular.tabular_model:\u001b[1;36m268\u001b[0m\u001b[1m}\u001b[0m - INFO - Preparing the Trainer                       \n"
      ]
     },
     "metadata": {},
     "output_type": "display_data"
    },
    {
     "name": "stderr",
     "output_type": "stream",
     "text": [
      "Auto select gpus: [0]\n",
      "GPU available: True (cuda), used: True\n",
      "TPU available: False, using: 0 TPU cores\n",
      "IPU available: False, using: 0 IPUs\n",
      "HPU available: False, using: 0 HPUs\n"
     ]
    },
    {
     "data": {
      "text/html": [
       "<pre style=\"white-space:pre;overflow-x:auto;line-height:normal;font-family:Menlo,'DejaVu Sans Mono',consolas,'Courier New',monospace\"><span style=\"color: #008080; text-decoration-color: #008080; font-weight: bold\">2023</span>-<span style=\"color: #008080; text-decoration-color: #008080; font-weight: bold\">08</span>-<span style=\"color: #008080; text-decoration-color: #008080; font-weight: bold\">31</span> <span style=\"color: #00ff00; text-decoration-color: #00ff00; font-weight: bold\">09:35:36</span>,<span style=\"color: #008080; text-decoration-color: #008080; font-weight: bold\">190</span> - <span style=\"font-weight: bold\">{</span>pytorch_tabular.tabular_model:<span style=\"color: #008080; text-decoration-color: #008080; font-weight: bold\">573</span><span style=\"font-weight: bold\">}</span> - INFO - Auto LR Find Started                        \n",
       "</pre>\n"
      ],
      "text/plain": [
       "\u001b[1;36m2023\u001b[0m-\u001b[1;36m08\u001b[0m-\u001b[1;36m31\u001b[0m \u001b[1;92m09:35:36\u001b[0m,\u001b[1;36m190\u001b[0m - \u001b[1m{\u001b[0mpytorch_tabular.tabular_model:\u001b[1;36m573\u001b[0m\u001b[1m}\u001b[0m - INFO - Auto LR Find Started                        \n"
      ]
     },
     "metadata": {},
     "output_type": "display_data"
    },
    {
     "name": "stderr",
     "output_type": "stream",
     "text": [
      "You are using a CUDA device ('NVIDIA RTX A6000') that has Tensor Cores. To properly utilize them, you should set `torch.set_float32_matmul_precision('medium' | 'high')` which will trade-off precision for performance. For more details, read https://pytorch.org/docs/stable/generated/torch.set_float32_matmul_precision.html#torch.set_float32_matmul_precision\n",
      "LOCAL_RANK: 0 - CUDA_VISIBLE_DEVICES: [0,1]\n"
     ]
    },
    {
     "data": {
      "application/vnd.jupyter.widget-view+json": {
       "model_id": "c5176460db904be5a7b2b4072b771e65",
       "version_major": 2,
       "version_minor": 0
      },
      "text/plain": [
       "Finding best initial lr:   0%|          | 0/100 [00:00<?, ?it/s]"
      ]
     },
     "metadata": {},
     "output_type": "display_data"
    },
    {
     "name": "stderr",
     "output_type": "stream",
     "text": [
      "`Trainer.fit` stopped: `max_steps=100` reached.\n",
      "Learning rate set to 0.025118864315095822\n",
      "Restoring states from the checkpoint path at C:\\Users\\Windows\\Desktop\\EEG\\.lr_find_2c357895-1779-4111-ad5d-21d91db63127.ckpt\n",
      "Restored all states from the checkpoint file at C:\\Users\\Windows\\Desktop\\EEG\\.lr_find_2c357895-1779-4111-ad5d-21d91db63127.ckpt\n"
     ]
    },
    {
     "data": {
      "text/html": [
       "<pre style=\"white-space:pre;overflow-x:auto;line-height:normal;font-family:Menlo,'DejaVu Sans Mono',consolas,'Courier New',monospace\"><span style=\"color: #008080; text-decoration-color: #008080; font-weight: bold\">2023</span>-<span style=\"color: #008080; text-decoration-color: #008080; font-weight: bold\">08</span>-<span style=\"color: #008080; text-decoration-color: #008080; font-weight: bold\">31</span> <span style=\"color: #00ff00; text-decoration-color: #00ff00; font-weight: bold\">09:35:37</span>,<span style=\"color: #008080; text-decoration-color: #008080; font-weight: bold\">229</span> - <span style=\"font-weight: bold\">{</span>pytorch_tabular.tabular_model:<span style=\"color: #008080; text-decoration-color: #008080; font-weight: bold\">575</span><span style=\"font-weight: bold\">}</span> - INFO - Suggested LR: <span style=\"color: #008080; text-decoration-color: #008080; font-weight: bold\">0.025118864315095822</span>. For plot\n",
       "and detailed analysis, use `find_learning_rate` method.                                                            \n",
       "</pre>\n"
      ],
      "text/plain": [
       "\u001b[1;36m2023\u001b[0m-\u001b[1;36m08\u001b[0m-\u001b[1;36m31\u001b[0m \u001b[1;92m09:35:37\u001b[0m,\u001b[1;36m229\u001b[0m - \u001b[1m{\u001b[0mpytorch_tabular.tabular_model:\u001b[1;36m575\u001b[0m\u001b[1m}\u001b[0m - INFO - Suggested LR: \u001b[1;36m0.025118864315095822\u001b[0m. For plot\n",
       "and detailed analysis, use `find_learning_rate` method.                                                            \n"
      ]
     },
     "metadata": {},
     "output_type": "display_data"
    },
    {
     "data": {
      "text/html": [
       "<pre style=\"white-space:pre;overflow-x:auto;line-height:normal;font-family:Menlo,'DejaVu Sans Mono',consolas,'Courier New',monospace\"><span style=\"color: #008080; text-decoration-color: #008080; font-weight: bold\">2023</span>-<span style=\"color: #008080; text-decoration-color: #008080; font-weight: bold\">08</span>-<span style=\"color: #008080; text-decoration-color: #008080; font-weight: bold\">31</span> <span style=\"color: #00ff00; text-decoration-color: #00ff00; font-weight: bold\">09:35:37</span>,<span style=\"color: #008080; text-decoration-color: #008080; font-weight: bold\">230</span> - <span style=\"font-weight: bold\">{</span>pytorch_tabular.tabular_model:<span style=\"color: #008080; text-decoration-color: #008080; font-weight: bold\">582</span><span style=\"font-weight: bold\">}</span> - INFO - Training Started                            \n",
       "</pre>\n"
      ],
      "text/plain": [
       "\u001b[1;36m2023\u001b[0m-\u001b[1;36m08\u001b[0m-\u001b[1;36m31\u001b[0m \u001b[1;92m09:35:37\u001b[0m,\u001b[1;36m230\u001b[0m - \u001b[1m{\u001b[0mpytorch_tabular.tabular_model:\u001b[1;36m582\u001b[0m\u001b[1m}\u001b[0m - INFO - Training Started                            \n"
      ]
     },
     "metadata": {},
     "output_type": "display_data"
    },
    {
     "name": "stderr",
     "output_type": "stream",
     "text": [
      "You are using a CUDA device ('NVIDIA RTX A6000') that has Tensor Cores. To properly utilize them, you should set `torch.set_float32_matmul_precision('medium' | 'high')` which will trade-off precision for performance. For more details, read https://pytorch.org/docs/stable/generated/torch.set_float32_matmul_precision.html#torch.set_float32_matmul_precision\n",
      "LOCAL_RANK: 0 - CUDA_VISIBLE_DEVICES: [0,1]\n"
     ]
    },
    {
     "data": {
      "text/html": [
       "<pre style=\"white-space:pre;overflow-x:auto;line-height:normal;font-family:Menlo,'DejaVu Sans Mono',consolas,'Courier New',monospace\">┏━━━┳━━━━━━━━━━━━━━━━━━┳━━━━━━━━━━━━━━━━━━━━━━━━┳━━━━━━━━┓\n",
       "┃<span style=\"color: #800080; text-decoration-color: #800080; font-weight: bold\">   </span>┃<span style=\"color: #800080; text-decoration-color: #800080; font-weight: bold\"> Name             </span>┃<span style=\"color: #800080; text-decoration-color: #800080; font-weight: bold\"> Type                   </span>┃<span style=\"color: #800080; text-decoration-color: #800080; font-weight: bold\"> Params </span>┃\n",
       "┡━━━╇━━━━━━━━━━━━━━━━━━╇━━━━━━━━━━━━━━━━━━━━━━━━╇━━━━━━━━┩\n",
       "│<span style=\"color: #7f7f7f; text-decoration-color: #7f7f7f\"> 0 </span>│ _backbone        │ TabTransformerBackbone │  361 K │\n",
       "│<span style=\"color: #7f7f7f; text-decoration-color: #7f7f7f\"> 1 </span>│ _embedding_layer │ Embedding2dLayer       │      0 │\n",
       "│<span style=\"color: #7f7f7f; text-decoration-color: #7f7f7f\"> 2 </span>│ _head            │ LinearHead             │     20 │\n",
       "│<span style=\"color: #7f7f7f; text-decoration-color: #7f7f7f\"> 3 </span>│ loss             │ CrossEntropyLoss       │      0 │\n",
       "└───┴──────────────────┴────────────────────────┴────────┘\n",
       "</pre>\n"
      ],
      "text/plain": [
       "┏━━━┳━━━━━━━━━━━━━━━━━━┳━━━━━━━━━━━━━━━━━━━━━━━━┳━━━━━━━━┓\n",
       "┃\u001b[1;35m \u001b[0m\u001b[1;35m \u001b[0m\u001b[1;35m \u001b[0m┃\u001b[1;35m \u001b[0m\u001b[1;35mName            \u001b[0m\u001b[1;35m \u001b[0m┃\u001b[1;35m \u001b[0m\u001b[1;35mType                  \u001b[0m\u001b[1;35m \u001b[0m┃\u001b[1;35m \u001b[0m\u001b[1;35mParams\u001b[0m\u001b[1;35m \u001b[0m┃\n",
       "┡━━━╇━━━━━━━━━━━━━━━━━━╇━━━━━━━━━━━━━━━━━━━━━━━━╇━━━━━━━━┩\n",
       "│\u001b[2m \u001b[0m\u001b[2m0\u001b[0m\u001b[2m \u001b[0m│ _backbone        │ TabTransformerBackbone │  361 K │\n",
       "│\u001b[2m \u001b[0m\u001b[2m1\u001b[0m\u001b[2m \u001b[0m│ _embedding_layer │ Embedding2dLayer       │      0 │\n",
       "│\u001b[2m \u001b[0m\u001b[2m2\u001b[0m\u001b[2m \u001b[0m│ _head            │ LinearHead             │     20 │\n",
       "│\u001b[2m \u001b[0m\u001b[2m3\u001b[0m\u001b[2m \u001b[0m│ loss             │ CrossEntropyLoss       │      0 │\n",
       "└───┴──────────────────┴────────────────────────┴────────┘\n"
      ]
     },
     "metadata": {},
     "output_type": "display_data"
    },
    {
     "data": {
      "text/html": [
       "<pre style=\"white-space:pre;overflow-x:auto;line-height:normal;font-family:Menlo,'DejaVu Sans Mono',consolas,'Courier New',monospace\"><span style=\"font-weight: bold\">Trainable params</span>: 361 K                                                                                            \n",
       "<span style=\"font-weight: bold\">Non-trainable params</span>: 0                                                                                            \n",
       "<span style=\"font-weight: bold\">Total params</span>: 361 K                                                                                                \n",
       "<span style=\"font-weight: bold\">Total estimated model params size (MB)</span>: 1                                                                          \n",
       "</pre>\n"
      ],
      "text/plain": [
       "\u001b[1mTrainable params\u001b[0m: 361 K                                                                                            \n",
       "\u001b[1mNon-trainable params\u001b[0m: 0                                                                                            \n",
       "\u001b[1mTotal params\u001b[0m: 361 K                                                                                                \n",
       "\u001b[1mTotal estimated model params size (MB)\u001b[0m: 1                                                                          \n"
      ]
     },
     "metadata": {},
     "output_type": "display_data"
    },
    {
     "data": {
      "application/vnd.jupyter.widget-view+json": {
       "model_id": "6fdbccd716e24b478ca3ac13ab34f8c1",
       "version_major": 2,
       "version_minor": 0
      },
      "text/plain": [
       "Output()"
      ]
     },
     "metadata": {},
     "output_type": "display_data"
    },
    {
     "name": "stderr",
     "output_type": "stream",
     "text": [
      "IOPub message rate exceeded.\n",
      "The Jupyter server will temporarily stop sending output\n",
      "to the client in order to avoid crashing it.\n",
      "To change this limit, set the config variable\n",
      "`--ServerApp.iopub_msg_rate_limit`.\n",
      "\n",
      "Current values:\n",
      "ServerApp.iopub_msg_rate_limit=1000.0 (msgs/sec)\n",
      "ServerApp.rate_limit_window=3.0 (secs)\n",
      "\n",
      "IOPub message rate exceeded.\n",
      "The Jupyter server will temporarily stop sending output\n",
      "to the client in order to avoid crashing it.\n",
      "To change this limit, set the config variable\n",
      "`--ServerApp.iopub_msg_rate_limit`.\n",
      "\n",
      "Current values:\n",
      "ServerApp.iopub_msg_rate_limit=1000.0 (msgs/sec)\n",
      "ServerApp.rate_limit_window=3.0 (secs)\n",
      "\n"
     ]
    },
    {
     "data": {
      "text/html": [
       "<pre style=\"white-space:pre;overflow-x:auto;line-height:normal;font-family:Menlo,'DejaVu Sans Mono',consolas,'Courier New',monospace\"></pre>\n"
      ],
      "text/plain": []
     },
     "metadata": {},
     "output_type": "display_data"
    },
    {
     "data": {
      "text/html": [
       "<pre style=\"white-space:pre;overflow-x:auto;line-height:normal;font-family:Menlo,'DejaVu Sans Mono',consolas,'Courier New',monospace\">\n",
       "</pre>\n"
      ],
      "text/plain": [
       "\n"
      ]
     },
     "metadata": {},
     "output_type": "display_data"
    },
    {
     "data": {
      "text/html": [
       "<pre style=\"white-space:pre;overflow-x:auto;line-height:normal;font-family:Menlo,'DejaVu Sans Mono',consolas,'Courier New',monospace\"><span style=\"color: #008080; text-decoration-color: #008080; font-weight: bold\">2023</span>-<span style=\"color: #008080; text-decoration-color: #008080; font-weight: bold\">08</span>-<span style=\"color: #008080; text-decoration-color: #008080; font-weight: bold\">31</span> <span style=\"color: #00ff00; text-decoration-color: #00ff00; font-weight: bold\">09:35:44</span>,<span style=\"color: #008080; text-decoration-color: #008080; font-weight: bold\">924</span> - <span style=\"font-weight: bold\">{</span>pytorch_tabular.tabular_model:<span style=\"color: #008080; text-decoration-color: #008080; font-weight: bold\">584</span><span style=\"font-weight: bold\">}</span> - INFO - Training the model completed                \n",
       "</pre>\n"
      ],
      "text/plain": [
       "\u001b[1;36m2023\u001b[0m-\u001b[1;36m08\u001b[0m-\u001b[1;36m31\u001b[0m \u001b[1;92m09:35:44\u001b[0m,\u001b[1;36m924\u001b[0m - \u001b[1m{\u001b[0mpytorch_tabular.tabular_model:\u001b[1;36m584\u001b[0m\u001b[1m}\u001b[0m - INFO - Training the model completed                \n"
      ]
     },
     "metadata": {},
     "output_type": "display_data"
    },
    {
     "data": {
      "text/html": [
       "<pre style=\"white-space:pre;overflow-x:auto;line-height:normal;font-family:Menlo,'DejaVu Sans Mono',consolas,'Courier New',monospace\"><span style=\"color: #008080; text-decoration-color: #008080; font-weight: bold\">2023</span>-<span style=\"color: #008080; text-decoration-color: #008080; font-weight: bold\">08</span>-<span style=\"color: #008080; text-decoration-color: #008080; font-weight: bold\">31</span> <span style=\"color: #00ff00; text-decoration-color: #00ff00; font-weight: bold\">09:35:44</span>,<span style=\"color: #008080; text-decoration-color: #008080; font-weight: bold\">926</span> - <span style=\"font-weight: bold\">{</span>pytorch_tabular.tabular_model:<span style=\"color: #008080; text-decoration-color: #008080; font-weight: bold\">1258</span><span style=\"font-weight: bold\">}</span> - INFO - Loading the best model                     \n",
       "</pre>\n"
      ],
      "text/plain": [
       "\u001b[1;36m2023\u001b[0m-\u001b[1;36m08\u001b[0m-\u001b[1;36m31\u001b[0m \u001b[1;92m09:35:44\u001b[0m,\u001b[1;36m926\u001b[0m - \u001b[1m{\u001b[0mpytorch_tabular.tabular_model:\u001b[1;36m1258\u001b[0m\u001b[1m}\u001b[0m - INFO - Loading the best model                     \n"
      ]
     },
     "metadata": {},
     "output_type": "display_data"
    },
    {
     "name": "stderr",
     "output_type": "stream",
     "text": [
      "You are using a CUDA device ('NVIDIA RTX A6000') that has Tensor Cores. To properly utilize them, you should set `torch.set_float32_matmul_precision('medium' | 'high')` which will trade-off precision for performance. For more details, read https://pytorch.org/docs/stable/generated/torch.set_float32_matmul_precision.html#torch.set_float32_matmul_precision\n",
      "LOCAL_RANK: 0 - CUDA_VISIBLE_DEVICES: [0,1]\n"
     ]
    },
    {
     "data": {
      "application/vnd.jupyter.widget-view+json": {
       "model_id": "75f59a8cb18b41089ad4fff52a1d9a9b",
       "version_major": 2,
       "version_minor": 0
      },
      "text/plain": [
       "Output()"
      ]
     },
     "metadata": {},
     "output_type": "display_data"
    },
    {
     "data": {
      "text/html": [
       "<pre style=\"white-space:pre;overflow-x:auto;line-height:normal;font-family:Menlo,'DejaVu Sans Mono',consolas,'Courier New',monospace\">┏━━━━━━━━━━━━━━━━━━━━━━━━━━━┳━━━━━━━━━━━━━━━━━━━━━━━━━━━┓\n",
       "┃<span style=\"font-weight: bold\">   Runningstage.testing    </span>┃<span style=\"font-weight: bold\">                           </span>┃\n",
       "┃<span style=\"font-weight: bold\">          metric           </span>┃<span style=\"font-weight: bold\">       DataLoader 0        </span>┃\n",
       "┡━━━━━━━━━━━━━━━━━━━━━━━━━━━╇━━━━━━━━━━━━━━━━━━━━━━━━━━━┩\n",
       "│<span style=\"color: #008080; text-decoration-color: #008080\">       test_accuracy       </span>│<span style=\"color: #800080; text-decoration-color: #800080\">    0.7142857313156128     </span>│\n",
       "│<span style=\"color: #008080; text-decoration-color: #008080\">         test_loss         </span>│<span style=\"color: #800080; text-decoration-color: #800080\">    0.4335327446460724     </span>│\n",
       "└───────────────────────────┴───────────────────────────┘\n",
       "</pre>\n"
      ],
      "text/plain": [
       "┏━━━━━━━━━━━━━━━━━━━━━━━━━━━┳━━━━━━━━━━━━━━━━━━━━━━━━━━━┓\n",
       "┃\u001b[1m \u001b[0m\u001b[1m  Runningstage.testing   \u001b[0m\u001b[1m \u001b[0m┃\u001b[1m                           \u001b[0m┃\n",
       "┃\u001b[1m \u001b[0m\u001b[1m         metric          \u001b[0m\u001b[1m \u001b[0m┃\u001b[1m \u001b[0m\u001b[1m      DataLoader 0       \u001b[0m\u001b[1m \u001b[0m┃\n",
       "┡━━━━━━━━━━━━━━━━━━━━━━━━━━━╇━━━━━━━━━━━━━━━━━━━━━━━━━━━┩\n",
       "│\u001b[36m \u001b[0m\u001b[36m      test_accuracy      \u001b[0m\u001b[36m \u001b[0m│\u001b[35m \u001b[0m\u001b[35m   0.7142857313156128    \u001b[0m\u001b[35m \u001b[0m│\n",
       "│\u001b[36m \u001b[0m\u001b[36m        test_loss        \u001b[0m\u001b[36m \u001b[0m│\u001b[35m \u001b[0m\u001b[35m   0.4335327446460724    \u001b[0m\u001b[35m \u001b[0m│\n",
       "└───────────────────────────┴───────────────────────────┘\n"
      ]
     },
     "metadata": {},
     "output_type": "display_data"
    },
    {
     "data": {
      "text/html": [
       "<pre style=\"white-space:pre;overflow-x:auto;line-height:normal;font-family:Menlo,'DejaVu Sans Mono',consolas,'Courier New',monospace\"></pre>\n"
      ],
      "text/plain": []
     },
     "metadata": {},
     "output_type": "display_data"
    },
    {
     "data": {
      "text/html": [
       "<pre style=\"white-space:pre;overflow-x:auto;line-height:normal;font-family:Menlo,'DejaVu Sans Mono',consolas,'Courier New',monospace\">\n",
       "</pre>\n"
      ],
      "text/plain": [
       "\n"
      ]
     },
     "metadata": {},
     "output_type": "display_data"
    },
    {
     "name": "stderr",
     "output_type": "stream",
     "text": [
      "You are using a CUDA device ('NVIDIA RTX A6000') that has Tensor Cores. To properly utilize them, you should set `torch.set_float32_matmul_precision('medium' | 'high')` which will trade-off precision for performance. For more details, read https://pytorch.org/docs/stable/generated/torch.set_float32_matmul_precision.html#torch.set_float32_matmul_precision\n",
      "LOCAL_RANK: 0 - CUDA_VISIBLE_DEVICES: [0,1]\n"
     ]
    },
    {
     "data": {
      "application/vnd.jupyter.widget-view+json": {
       "model_id": "0e20f8eecf8544daa0557727b59eadcc",
       "version_major": 2,
       "version_minor": 0
      },
      "text/plain": [
       "Output()"
      ]
     },
     "metadata": {},
     "output_type": "display_data"
    },
    {
     "data": {
      "text/html": [
       "<pre style=\"white-space:pre;overflow-x:auto;line-height:normal;font-family:Menlo,'DejaVu Sans Mono',consolas,'Courier New',monospace\">┏━━━━━━━━━━━━━━━━━━━━━━━━━━━┳━━━━━━━━━━━━━━━━━━━━━━━━━━━┓\n",
       "┃<span style=\"font-weight: bold\">   Runningstage.testing    </span>┃<span style=\"font-weight: bold\">                           </span>┃\n",
       "┃<span style=\"font-weight: bold\">          metric           </span>┃<span style=\"font-weight: bold\">       DataLoader 0        </span>┃\n",
       "┡━━━━━━━━━━━━━━━━━━━━━━━━━━━╇━━━━━━━━━━━━━━━━━━━━━━━━━━━┩\n",
       "│<span style=\"color: #008080; text-decoration-color: #008080\">       test_accuracy       </span>│<span style=\"color: #800080; text-decoration-color: #800080\">    0.7692307829856873     </span>│\n",
       "│<span style=\"color: #008080; text-decoration-color: #008080\">         test_loss         </span>│<span style=\"color: #800080; text-decoration-color: #800080\">    0.4934254288673401     </span>│\n",
       "└───────────────────────────┴───────────────────────────┘\n",
       "</pre>\n"
      ],
      "text/plain": [
       "┏━━━━━━━━━━━━━━━━━━━━━━━━━━━┳━━━━━━━━━━━━━━━━━━━━━━━━━━━┓\n",
       "┃\u001b[1m \u001b[0m\u001b[1m  Runningstage.testing   \u001b[0m\u001b[1m \u001b[0m┃\u001b[1m                           \u001b[0m┃\n",
       "┃\u001b[1m \u001b[0m\u001b[1m         metric          \u001b[0m\u001b[1m \u001b[0m┃\u001b[1m \u001b[0m\u001b[1m      DataLoader 0       \u001b[0m\u001b[1m \u001b[0m┃\n",
       "┡━━━━━━━━━━━━━━━━━━━━━━━━━━━╇━━━━━━━━━━━━━━━━━━━━━━━━━━━┩\n",
       "│\u001b[36m \u001b[0m\u001b[36m      test_accuracy      \u001b[0m\u001b[36m \u001b[0m│\u001b[35m \u001b[0m\u001b[35m   0.7692307829856873    \u001b[0m\u001b[35m \u001b[0m│\n",
       "│\u001b[36m \u001b[0m\u001b[36m        test_loss        \u001b[0m\u001b[36m \u001b[0m│\u001b[35m \u001b[0m\u001b[35m   0.4934254288673401    \u001b[0m\u001b[35m \u001b[0m│\n",
       "└───────────────────────────┴───────────────────────────┘\n"
      ]
     },
     "metadata": {},
     "output_type": "display_data"
    },
    {
     "name": "stdout",
     "output_type": "stream",
     "text": [
      "Test Metrics for TabTransformer Model on Test Set: [{'test_loss': 0.4335327446460724, 'test_accuracy': 0.7142857313156128}]\n"
     ]
    },
    {
     "data": {
      "text/html": [
       "<pre style=\"white-space:pre;overflow-x:auto;line-height:normal;font-family:Menlo,'DejaVu Sans Mono',consolas,'Courier New',monospace\"></pre>\n"
      ],
      "text/plain": []
     },
     "metadata": {},
     "output_type": "display_data"
    },
    {
     "data": {
      "text/html": [
       "<pre style=\"white-space:pre;overflow-x:auto;line-height:normal;font-family:Menlo,'DejaVu Sans Mono',consolas,'Courier New',monospace\">\n",
       "</pre>\n"
      ],
      "text/plain": [
       "\n"
      ]
     },
     "metadata": {},
     "output_type": "display_data"
    },
    {
     "data": {
      "application/vnd.jupyter.widget-view+json": {
       "model_id": "a827f13892434bb69c691777ce5609fd",
       "version_major": 2,
       "version_minor": 0
      },
      "text/plain": [
       "Output()"
      ]
     },
     "metadata": {},
     "output_type": "display_data"
    },
    {
     "name": "stdout",
     "output_type": "stream",
     "text": [
      "Test Metrics for TabTransformer Model on Validation Set: [{'test_loss': 0.4934254288673401, 'test_accuracy': 0.7692307829856873}]\n"
     ]
    },
    {
     "data": {
      "text/html": [
       "<pre style=\"white-space:pre;overflow-x:auto;line-height:normal;font-family:Menlo,'DejaVu Sans Mono',consolas,'Courier New',monospace\"></pre>\n"
      ],
      "text/plain": []
     },
     "metadata": {},
     "output_type": "display_data"
    },
    {
     "data": {
      "text/html": [
       "<pre style=\"white-space:pre;overflow-x:auto;line-height:normal;font-family:Menlo,'DejaVu Sans Mono',consolas,'Courier New',monospace\">\n",
       "</pre>\n"
      ],
      "text/plain": [
       "\n"
      ]
     },
     "metadata": {},
     "output_type": "display_data"
    },
    {
     "data": {
      "application/vnd.jupyter.widget-view+json": {
       "model_id": "bc0b03a354d64c3da263a74ea09c761f",
       "version_major": 2,
       "version_minor": 0
      },
      "text/plain": [
       "Output()"
      ]
     },
     "metadata": {},
     "output_type": "display_data"
    },
    {
     "data": {
      "text/html": [
       "<pre style=\"white-space:pre;overflow-x:auto;line-height:normal;font-family:Menlo,'DejaVu Sans Mono',consolas,'Courier New',monospace\"></pre>\n"
      ],
      "text/plain": []
     },
     "metadata": {},
     "output_type": "display_data"
    },
    {
     "data": {
      "text/html": [
       "<pre style=\"white-space:pre;overflow-x:auto;line-height:normal;font-family:Menlo,'DejaVu Sans Mono',consolas,'Courier New',monospace\">\n",
       "</pre>\n"
      ],
      "text/plain": [
       "\n"
      ]
     },
     "metadata": {},
     "output_type": "display_data"
    },
    {
     "name": "stdout",
     "output_type": "stream",
     "text": [
      "\n",
      "Test Metrics:\n",
      "Accuracy: 0.7143\n",
      "Precision: 0.9429\n",
      "Recall: 0.7143\n",
      "F1-score: 0.7835\n",
      "ROC-AUC: 0.8462\n",
      "\n",
      "Validation Metrics:\n",
      "Accuracy: 0.7692\n",
      "Precision: 0.7991\n",
      "Recall: 0.7692\n",
      "F1-score: 0.7796\n",
      "ROC-AUC: 0.7333\n",
      "\n",
      "Classification Report for Test Set:\n",
      "              precision    recall  f1-score   support\n",
      "\n",
      "           0       1.00      0.69      0.82        13\n",
      "           1       0.20      1.00      0.33         1\n",
      "\n",
      "    accuracy                           0.71        14\n",
      "   macro avg       0.60      0.85      0.58        14\n",
      "weighted avg       0.94      0.71      0.78        14\n",
      "\n",
      "\n",
      "Classification Report for Validation Set:\n",
      "              precision    recall  f1-score   support\n",
      "\n",
      "           0       0.89      0.80      0.84        10\n",
      "           1       0.50      0.67      0.57         3\n",
      "\n",
      "    accuracy                           0.77        13\n",
      "   macro avg       0.69      0.73      0.71        13\n",
      "weighted avg       0.80      0.77      0.78        13\n",
      "\n"
     ]
    }
   ],
   "source": [
    "import time\n",
    "import warnings\n",
    "warnings.filterwarnings(\"ignore\")\n",
    "\n",
    "import pandas as pd\n",
    "import numpy as np\n",
    "from sklearn.model_selection import train_test_split\n",
    "from sklearn.preprocessing import LabelEncoder, RobustScaler\n",
    "from sklearn.metrics import classification_report, roc_auc_score, accuracy_score, precision_recall_fscore_support\n",
    "from sklearn.preprocessing import label_binarize\n",
    "import pytorch_tabular\n",
    "from pytorch_tabular.models.tab_transformer import TabTransformerConfig\n",
    "from pytorch_tabular import TabularModel\n",
    "from pytorch_tabular.config import DataConfig, TrainerConfig, OptimizerConfig\n",
    "\n",
    "# Assuming you've loaded your data and created the 'Group_color' column...\n",
    "\n",
    "# Extracting features\n",
    "X = data[list(features.keys())]\n",
    "# Target variable\n",
    "y = data['Group_color']\n",
    "\n",
    "# Splitting data \n",
    "X_train, X_temp, y_train, y_temp = train_test_split(X, y, test_size=0.3, random_state=42)\n",
    "X_val, X_test, y_val, y_test = train_test_split(X_temp, y_temp, test_size=0.5, random_state=42)\n",
    "\n",
    "# Encoding labels\n",
    "le = LabelEncoder()\n",
    "y_train_encoded = le.fit_transform(y_train)\n",
    "y_val_encoded = le.transform(y_val)\n",
    "y_test_encoded = le.transform(y_test)\n",
    "\n",
    "# Convert datasets to DataFrames\n",
    "train_df = pd.concat([X_train, pd.Series(y_train_encoded, name='Group_color', index=X_train.index)], axis=1)\n",
    "val_df = pd.concat([X_val, pd.Series(y_val_encoded, name='Group_color', index=X_val.index)], axis=1)\n",
    "test_df = pd.concat([X_test, pd.Series(y_test_encoded, name='Group_color', index=X_test.index)], axis=1)\n",
    "\n",
    "# Define the configurations for TabTransformer\n",
    "data_config = DataConfig(\n",
    "    target=['Group_color'],\n",
    "    continuous_cols=list(features.keys()),  # Assuming all features are continuous\n",
    "    categorical_cols=[]\n",
    ")\n",
    "trainer_config = TrainerConfig(\n",
    "    auto_lr_find=True,  # Automatically find a suitable learning rate\n",
    "    batch_size=1024,\n",
    "    max_epochs=100_000,\n",
    "    gpus=1,\n",
    "    gradient_clip_val=1,  # Gradient clipping\n",
    "    early_stopping_patience=100  # Early stopping if validation performance doesn't improve for 5 epochs\n",
    ")\n",
    "optimizer_config = OptimizerConfig()\n",
    "\n",
    "# Define the head configuration for TabTransformer\n",
    "head_config = {}  # Use default configurations for the LinearHead\n",
    "\n",
    "# Improved TabTransformer Configuration\n",
    "model_config = TabTransformerConfig(\n",
    "    task=\"classification\",\n",
    "    head=\"LinearHead\",\n",
    "    head_config=head_config,\n",
    "    num_heads=8,\n",
    "    num_attn_blocks=8,\n",
    "    transformer_head_dim=256,\n",
    "    share_embedding=True,\n",
    "    share_embedding_strategy='fraction',\n",
    "    shared_embedding_fraction=0.5,\n",
    "    attn_dropout=0.2,\n",
    "    add_norm_dropout=0.2,\n",
    "    ff_dropout=0.2,\n",
    "    embedding_dropout=0.2,\n",
    "    batch_norm_continuous_input=True\n",
    ")\n",
    "\n",
    "tabular_model = TabularModel(\n",
    "    data_config=data_config,\n",
    "    model_config=model_config,\n",
    "    optimizer_config=optimizer_config,\n",
    "    trainer_config=trainer_config\n",
    ")\n",
    "\n",
    "# Train the model using train_df and val_df\n",
    "tabular_model.fit(train=train_df, validation=val_df)\n",
    "\n",
    "time.sleep(3) \n",
    "\n",
    "# Evaluate on test set using test_df\n",
    "test_metrics = tabular_model.evaluate(test_df)\n",
    "print(\"Test Metrics for TabTransformer Model on Test Set:\", test_metrics)\n",
    "\n",
    "# Evaluate on validation set using val_df\n",
    "val_metrics = tabular_model.evaluate(val_df)\n",
    "print(\"Test Metrics for TabTransformer Model on Validation Set:\", val_metrics)\n",
    "\n",
    "# Getting predictions on the test dataset\n",
    "test_predictions = tabular_model.predict(test_df)\n",
    "\n",
    "# Getting predictions on the validation dataset\n",
    "val_predictions = tabular_model.predict(val_df)\n",
    "\n",
    "# Extracting the predicted values for test\n",
    "test_predicted_values = test_predictions['prediction'].values\n",
    "\n",
    "# Extracting the predicted values for validation\n",
    "val_predicted_values = val_predictions['prediction'].values\n",
    "\n",
    "# Calculate metrics for both test and validation\n",
    "def calculate_metrics(y_true, predicted_values):\n",
    "    accuracy = accuracy_score(y_true, predicted_values)\n",
    "    precision, recall, fscore, _ = precision_recall_fscore_support(y_true, predicted_values, average='weighted')\n",
    "\n",
    "    if len(np.unique(y_true)) > 2:  # Multi-class case\n",
    "        y_true_binarized = label_binarize(y_true, classes=np.unique(y_true))\n",
    "        predicted_values_binarized = label_binarize(predicted_values, classes=np.unique(predicted_values))\n",
    "        roc_auc = roc_auc_score(y_true_binarized, predicted_values_binarized, average=\"weighted\", multi_class=\"ovr\")\n",
    "    else:  # Binary case\n",
    "        roc_auc = roc_auc_score(y_true, predicted_values)\n",
    "    \n",
    "    return accuracy, precision, recall, fscore, roc_auc\n",
    "\n",
    "test_accuracy, test_precision, test_recall, test_fscore, test_roc_auc = calculate_metrics(y_test_encoded, test_predicted_values)\n",
    "print(\"\\nTest Metrics:\")\n",
    "print(f\"Accuracy: {test_accuracy:.4f}\")\n",
    "print(f\"Precision: {test_precision:.4f}\")\n",
    "print(f\"Recall: {test_recall:.4f}\")\n",
    "print(f\"F1-score: {test_fscore:.4f}\")\n",
    "print(f\"ROC-AUC: {test_roc_auc:.4f}\")\n",
    "\n",
    "val_accuracy, val_precision, val_recall, val_fscore, val_roc_auc = calculate_metrics(y_val_encoded, val_predicted_values)\n",
    "print(\"\\nValidation Metrics:\")\n",
    "print(f\"Accuracy: {val_accuracy:.4f}\")\n",
    "print(f\"Precision: {val_precision:.4f}\")\n",
    "print(f\"Recall: {val_recall:.4f}\")\n",
    "print(f\"F1-score: {val_fscore:.4f}\")\n",
    "print(f\"ROC-AUC: {val_roc_auc:.4f}\")\n",
    "\n",
    "# Classification Report for Test set\n",
    "print(\"\\nClassification Report for Test Set:\")\n",
    "print(classification_report(y_test_encoded, test_predicted_values))\n",
    "\n",
    "# Classification Report for Validation set\n",
    "print(\"\\nClassification Report for Validation Set:\")\n",
    "print(classification_report(y_val_encoded, val_predicted_values))\n"
   ]
  }
 ],
 "metadata": {
  "kernelspec": {
   "display_name": "Python 3 (ipykernel)",
   "language": "python",
   "name": "python3"
  },
  "language_info": {
   "codemirror_mode": {
    "name": "ipython",
    "version": 3
   },
   "file_extension": ".py",
   "mimetype": "text/x-python",
   "name": "python",
   "nbconvert_exporter": "python",
   "pygments_lexer": "ipython3",
   "version": "3.11.5"
  }
 },
 "nbformat": 4,
 "nbformat_minor": 5
}
